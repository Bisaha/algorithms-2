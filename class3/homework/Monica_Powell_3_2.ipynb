{
 "cells": [
  {
   "cell_type": "markdown",
   "metadata": {},
   "source": [
    "Implement the sorting algorithm you came up with in pseudocode with Python"
   ]
  },
  {
   "cell_type": "code",
   "execution_count": 76,
   "metadata": {
    "collapsed": false
   },
   "outputs": [],
   "source": [
    "# This code works for positive integers and assumes the list is already sorted\n",
    "def binary_search(list, value):\n",
    "    high = len(list) - 1;\n",
    "    low = 0;\n",
    "    #print(\"The length of the list is\", len(list))\n",
    "        #counter is used to track the index point \n",
    "        #that the binary_search is looking at\n",
    "    counter = int((high+low)/2) # start by looking at the middle \n",
    "\n",
    "        #if the list is empty do not proceed!\n",
    "    if len(list) == 0:\n",
    "        return 0\n",
    "        \n",
    "    while low <= high: # and counter <= high\n",
    "        #print(\"counter is\", counter)\n",
    "        #print(list[counter])\n",
    "        #print(value)\n",
    "        if list[counter] == value:\n",
    "            return print(\"Value of\", value, \"was found at the index\", counter)\n",
    "        elif low < value < list[counter]:\n",
    "            high = list[counter - 1]\n",
    "            counter = counter -1 \n",
    "        elif value == 0:\n",
    "            if list[0] == 0:\n",
    "                 return print(\"Value of\", value, \"was found at the index 0\")\n",
    "            else:\n",
    "                return print(\"Unfortunately\", value, \"was not found in this list.\")\n",
    "       \n",
    "        else: \n",
    "            low = list[counter]\n",
    "            counter = counter + 1\n",
    "    return print(\"Unfortunately\", value, \"was not found in this list.\")\n",
    "                \n",
    "            "
   ]
  },
  {
   "cell_type": "code",
   "execution_count": 77,
   "metadata": {
    "collapsed": false
   },
   "outputs": [
    {
     "name": "stdout",
     "output_type": "stream",
     "text": [
      "Unfortunately 0 was not found in this list.\n"
     ]
    }
   ],
   "source": [
    "binary_search([1,2,3,4], 0)"
   ]
  },
  {
   "cell_type": "code",
   "execution_count": 78,
   "metadata": {
    "collapsed": true
   },
   "outputs": [],
   "source": [
    "def sort(list):\n",
    "    times = len(list) - 1\n",
    "    # create a new empty list to add sorted values \n",
    "    sorted = []\n",
    "\n",
    "\n",
    "    while times + 1> 0:\n",
    "        min = list[0]\n",
    "        for item in list:\n",
    "             if item < min:\n",
    "                    min = item\n",
    "        # after finding the smallest element, append it to the new sorted list\n",
    "        sorted.append(min)\n",
    "        \n",
    "        #remove the smallest element from the original list \n",
    "        list.remove(min)\n",
    "        \n",
    "        #incremenet the number of times, in order to get closer to the condition\n",
    "        # that will halt this while loops \n",
    "        times = times - 1\n",
    "    \n",
    "    return sorted\n",
    "\n"
   ]
  },
  {
   "cell_type": "code",
   "execution_count": 79,
   "metadata": {
    "collapsed": true
   },
   "outputs": [],
   "source": [
    "from random import randint\n",
    "\n",
    "def random_num_gen(x):\n",
    "    random_list = [] \n",
    "    count = 0 \n",
    "    while count < x:\n",
    "        random_list.append(randint(0,100))\n",
    "        count = count + 1\n",
    "    return random_list\n",
    "\n",
    "ten_sample = random_num_gen(10)\n",
    "hundred_sample = random_num_gen(100)\n",
    "thousand_sample = random_num_gen(1000)"
   ]
  },
  {
   "cell_type": "code",
   "execution_count": 80,
   "metadata": {
    "collapsed": false
   },
   "outputs": [],
   "source": [
    "thousand_sample = sort(thousand_sample)\n",
    "ten_sample = sort(ten_sample)\n",
    "hundred_sample = sort(hundred_sample)\n"
   ]
  },
  {
   "cell_type": "code",
   "execution_count": 81,
   "metadata": {
    "collapsed": false
   },
   "outputs": [
    {
     "name": "stdout",
     "output_type": "stream",
     "text": [
      "Value of 35 was found at the index 368\n",
      "CPU times: user 106 µs, sys: 1 µs, total: 107 µs\n",
      "Wall time: 111 µs\n"
     ]
    }
   ],
   "source": [
    "%time binary_search(thousand_sample, 35)"
   ]
  },
  {
   "cell_type": "code",
   "execution_count": null,
   "metadata": {
    "collapsed": false
   },
   "outputs": [],
   "source": [
    "print(hundred_sample)"
   ]
  },
  {
   "cell_type": "code",
   "execution_count": null,
   "metadata": {
    "collapsed": false
   },
   "outputs": [],
   "source": [
    "%time binary_search(hundred_sample, 31)"
   ]
  },
  {
   "cell_type": "code",
   "execution_count": 70,
   "metadata": {
    "collapsed": false
   },
   "outputs": [
    {
     "name": "stdout",
     "output_type": "stream",
     "text": [
      "Unfortunately 45 was not found in this list.\n",
      "CPU times: user 57 µs, sys: 0 ns, total: 57 µs\n",
      "Wall time: 61 µs\n"
     ]
    }
   ],
   "source": [
    "%time binary_search(hundred_sample, 45)"
   ]
  },
  {
   "cell_type": "code",
   "execution_count": 68,
   "metadata": {
    "collapsed": false
   },
   "outputs": [
    {
     "name": "stdout",
     "output_type": "stream",
     "text": [
      "[7, 17, 29, 31, 45, 57, 64, 88, 98, 99]\n"
     ]
    }
   ],
   "source": [
    "print(ten_sample)"
   ]
  },
  {
   "cell_type": "code",
   "execution_count": 64,
   "metadata": {
    "collapsed": false
   },
   "outputs": [
    {
     "data": {
      "text/plain": [
       "list"
      ]
     },
     "execution_count": 64,
     "metadata": {},
     "output_type": "execute_result"
    }
   ],
   "source": [
    "type(hundred_sample)"
   ]
  },
  {
   "cell_type": "code",
   "execution_count": 67,
   "metadata": {
    "collapsed": false
   },
   "outputs": [
    {
     "name": "stdout",
     "output_type": "stream",
     "text": [
      "Unfortunately 99 was not found in this list.\n",
      "CPU times: user 57 µs, sys: 1 µs, total: 58 µs\n",
      "Wall time: 62 µs\n"
     ]
    }
   ],
   "source": [
    "%time binary_search(ten_sample, 99)"
   ]
  },
  {
   "cell_type": "code",
   "execution_count": 66,
   "metadata": {
    "collapsed": false
   },
   "outputs": [
    {
     "name": "stdout",
     "output_type": "stream",
     "text": [
      "[7, 17, 29, 31, 45, 57, 64, 88, 98, 99]\n"
     ]
    }
   ],
   "source": [
    "print(ten_sample)"
   ]
  },
  {
   "cell_type": "code",
   "execution_count": null,
   "metadata": {
    "collapsed": true
   },
   "outputs": [],
   "source": []
  }
 ],
 "metadata": {
  "kernelspec": {
   "display_name": "Python 3",
   "language": "python",
   "name": "python3"
  },
  "language_info": {
   "codemirror_mode": {
    "name": "ipython",
    "version": 3
   },
   "file_extension": ".py",
   "mimetype": "text/x-python",
   "name": "python",
   "nbconvert_exporter": "python",
   "pygments_lexer": "ipython3",
   "version": "3.5.1"
  }
 },
 "nbformat": 4,
 "nbformat_minor": 0
}

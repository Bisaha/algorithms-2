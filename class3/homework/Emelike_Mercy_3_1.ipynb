{
 "cells": [
  {
   "cell_type": "markdown",
   "metadata": {},
   "source": [
    "# Sort Algorithm"
   ]
  },
  {
   "cell_type": "code",
   "execution_count": 180,
   "metadata": {
    "collapsed": false
   },
   "outputs": [
    {
     "name": "stdout",
     "output_type": "stream",
     "text": [
      "[0, 1, 1, 3, 4, 5, 5, 6, 8, 9, 21, 44, 67]\n"
     ]
    }
   ],
   "source": [
    "def sort_list(listed):\n",
    "    \n",
    "    # for each index number in the list starting at 1: \n",
    "    for i in range(1,len(listed)):\n",
    "        \n",
    "        # set the current value equal to the value at index, i: \n",
    "        currentvalue = listed[i]\n",
    "#         print('current value:', currentvalue)\n",
    "        \n",
    "        # set position to index of the current value\n",
    "        position = i\n",
    "#         print('position:', position)\n",
    "    \n",
    "        # while the index number is greater than zero and the value before the current value \n",
    "        # is greater than the current value:\n",
    "        while position>0 and listed[position-1]>currentvalue:\n",
    "#                 print('Index position', position, 'is greater than 0')\n",
    "#                 print('The value at index position', position, 'is', listed[position])\n",
    "#                 print ('And the value at index position', position-1, 'is', listed[position-1], 'which is greater than', currentvalue)\n",
    "#                 print('We change the value of', listed[position], 'to', listed[position-1])\n",
    "                listed[position]=listed[position-1]\n",
    "#                 print('We change the value of the variable storing index position from', position, 'to', position-1)\n",
    "                position = position-1\n",
    "\n",
    "    \n",
    "        listed[position]=currentvalue\n",
    "#         print('Index position equals 0, so we exit the loop')\n",
    "#         print('And we set the value at index position', position, \"to\", currentvalue)\n",
    "\n",
    "alist = [1, 5, 6, 8, 9, 0, 1, 4, 3, 5, 21, 67, 44]\n",
    "sort_list(alist)\n",
    "print(alist)"
   ]
  }
 ],
 "metadata": {
  "kernelspec": {
   "display_name": "Python 3",
   "language": "python",
   "name": "python3"
  },
  "language_info": {
   "codemirror_mode": {
    "name": "ipython",
    "version": 3
   },
   "file_extension": ".py",
   "mimetype": "text/x-python",
   "name": "python",
   "nbconvert_exporter": "python",
   "pygments_lexer": "ipython3",
   "version": "3.5.1"
  }
 },
 "nbformat": 4,
 "nbformat_minor": 0
}

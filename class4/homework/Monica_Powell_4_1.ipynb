{
 "cells": [
  {
   "cell_type": "code",
   "execution_count": 3,
   "metadata": {
    "collapsed": false
   },
   "outputs": [
    {
     "name": "stdout",
     "output_type": "stream",
     "text": [
      "Requirement already satisfied (use --upgrade to upgrade): pg8000 in /Users/Monica/.virtualenvs/dataanalysis/lib/python3.5/site-packages\n",
      "Requirement already satisfied (use --upgrade to upgrade): six>=1.10.0 in /Users/Monica/.virtualenvs/dataanalysis/lib/python3.5/site-packages (from pg8000)\n",
      "Collecting config\n",
      "  Downloading config-0.3.9.tar.gz\n",
      "Building wheels for collected packages: config\n",
      "  Running setup.py bdist_wheel for config ... \u001b[?25l-\b \b\\\b \b|\b \bdone\n",
      "\u001b[?25h  Stored in directory: /Users/Monica/Library/Caches/pip/wheels/53/3d/4b/b65b93aeeb83b93dcc103f8addd3b4b7e5668496868c103b5a\n",
      "Successfully built config\n",
      "Installing collected packages: config\n",
      "Successfully installed config-0.3.9\n"
     ]
    }
   ],
   "source": [
    "!pip install pg8000\n",
    "!pip install config"
   ]
  },
  {
   "cell_type": "code",
   "execution_count": 2,
   "metadata": {
    "collapsed": false
   },
   "outputs": [],
   "source": [
    "# import config"
   ]
  },
  {
   "cell_type": "code",
   "execution_count": 7,
   "metadata": {
    "collapsed": false
   },
   "outputs": [],
   "source": [
    "import pg8000\n",
    "conn = pg8000.connect(user=\"dot_student\", host=\"training.c1erymiua9dx.us-east-1.rds.amazonaws.com\", port=5432,  database=\"training\", password=\"qgis\")"
   ]
  },
  {
   "cell_type": "code",
   "execution_count": 8,
   "metadata": {
    "collapsed": false
   },
   "outputs": [],
   "source": [
    "conn.rollback()"
   ]
  },
  {
   "cell_type": "code",
   "execution_count": 10,
   "metadata": {
    "collapsed": true
   },
   "outputs": [],
   "source": [
    "cursor = conn.cursor()"
   ]
  },
  {
   "cell_type": "code",
   "execution_count": null,
   "metadata": {
    "collapsed": true
   },
   "outputs": [],
   "source": [
    "cursor = conn.cursor()\n",
    "cursor.execute(\"\"\"CREATE TABLE cafe (id serial,name varchar(40),zip varchar(5))\"\"\")\n",
    "conn.commit()"
   ]
  }
 ],
 "metadata": {
  "kernelspec": {
   "display_name": "Python 3",
   "language": "python",
   "name": "python3"
  }
 },
 "nbformat": 4,
 "nbformat_minor": 0
}

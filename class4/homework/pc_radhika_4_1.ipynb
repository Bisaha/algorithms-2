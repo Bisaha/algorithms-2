{
 "cells": [
  {
   "cell_type": "markdown",
   "metadata": {},
   "source": [
    "### Assignment 1 ###\n",
    "\n",
    "Perform a basic statistical analysis of the time DOT 311 (table is called dot_311) complaints are open (subtract closed date from created date)\n",
    "Connect to the database to get the data and do the analysis. Submit the code through Github and type up your results in your PR\n",
    "\n",
    "Host: training.c1erymiua9dx.us-east-1.rds.amazonaws.com\n",
    "Port: 5432\n",
    "Database: training\n",
    "Username: dot_student\n",
    "Password: qgis"
   ]
  },
  {
   "cell_type": "code",
   "execution_count": 6,
   "metadata": {
    "collapsed": true
   },
   "outputs": [],
   "source": [
    "import pandas as pd\n",
    "import numpy as np\n",
    "import matplotlib.pyplot as plt\n",
    "%matplotlib inline\n",
    "plt.style.use('ggplot')\n",
    "import dateutil.parser\n",
    "import pg8000\n",
    "from pandas import DataFrame\n"
   ]
  },
  {
   "cell_type": "code",
   "execution_count": 7,
   "metadata": {
    "collapsed": false
   },
   "outputs": [],
   "source": [
    "conn = pg8000.connect(host=\"training.c1erymiua9dx.us-east-1.rds.amazonaws.com\", user='dot_student', password='qgis', database='training')\n",
    "cursor = conn.cursor()"
   ]
  },
  {
   "cell_type": "code",
   "execution_count": 8,
   "metadata": {
    "collapsed": false
   },
   "outputs": [
    {
     "data": {
      "text/plain": [
       "['gid',\n",
       " 'unique_key',\n",
       " 'agency',\n",
       " 'agency nam',\n",
       " 'complaint',\n",
       " 'descriptor',\n",
       " 'location t',\n",
       " 'incident z',\n",
       " 'incident a',\n",
       " 'street nam',\n",
       " 'cross stre',\n",
       " 'cross st_1',\n",
       " 'intersecti',\n",
       " 'intersec_1',\n",
       " 'address ty',\n",
       " 'city',\n",
       " 'landmark',\n",
       " 'facility t',\n",
       " 'status',\n",
       " 'due date',\n",
       " 'resolution',\n",
       " 'resoluti_1',\n",
       " 'community',\n",
       " 'borough',\n",
       " 'x coordina',\n",
       " 'y coordina',\n",
       " 'park facil',\n",
       " 'park borou',\n",
       " 'school nam',\n",
       " 'school num',\n",
       " 'school reg',\n",
       " 'school cod',\n",
       " 'school pho',\n",
       " 'school add',\n",
       " 'school cit',\n",
       " 'school sta',\n",
       " 'school zip',\n",
       " 'school not',\n",
       " 'school or',\n",
       " 'vehicle ty',\n",
       " 'taxi compa',\n",
       " 'taxi pick',\n",
       " 'bridge hig',\n",
       " 'bridge h_1',\n",
       " 'road ramp',\n",
       " 'bridge h_2',\n",
       " 'garage lot',\n",
       " 'ferry dire',\n",
       " 'ferry term',\n",
       " 'latitude',\n",
       " 'longitude',\n",
       " 'location',\n",
       " 'geom',\n",
       " 'created_date',\n",
       " 'closed_date']"
      ]
     },
     "execution_count": 8,
     "metadata": {},
     "output_type": "execute_result"
    }
   ],
   "source": [
    "cursor.execute(\"select column_name from information_schema.columns where table_name='dot_311'\")\n",
    "column_list = []\n",
    "for row in cursor.fetchall():\n",
    "    column_list.append(row[0])\n",
    "column_list"
   ]
  },
  {
   "cell_type": "code",
   "execution_count": 9,
   "metadata": {
    "collapsed": true
   },
   "outputs": [],
   "source": [
    "response = \"select * from dot_311\""
   ]
  },
  {
   "cell_type": "code",
   "execution_count": 10,
   "metadata": {
    "collapsed": false
   },
   "outputs": [],
   "source": [
    "cursor.execute(\"select * from dot_311\")\n",
    "output = []\n",
    "for row in cursor.fetchall():\n",
    "    output.append(row)\n"
   ]
  },
  {
   "cell_type": "code",
   "execution_count": 11,
   "metadata": {
    "collapsed": true
   },
   "outputs": [],
   "source": [
    "df = pd.DataFrame(data=output, columns=column_list)"
   ]
  },
  {
   "cell_type": "code",
   "execution_count": 12,
   "metadata": {
    "collapsed": false
   },
   "outputs": [
    {
     "data": {
      "text/html": [
       "<div>\n",
       "<table border=\"1\" class=\"dataframe\">\n",
       "  <thead>\n",
       "    <tr style=\"text-align: right;\">\n",
       "      <th></th>\n",
       "      <th>gid</th>\n",
       "      <th>unique_key</th>\n",
       "      <th>agency</th>\n",
       "      <th>agency nam</th>\n",
       "      <th>complaint</th>\n",
       "      <th>descriptor</th>\n",
       "      <th>location t</th>\n",
       "      <th>incident z</th>\n",
       "      <th>incident a</th>\n",
       "      <th>street nam</th>\n",
       "      <th>...</th>\n",
       "      <th>bridge h_2</th>\n",
       "      <th>garage lot</th>\n",
       "      <th>ferry dire</th>\n",
       "      <th>ferry term</th>\n",
       "      <th>latitude</th>\n",
       "      <th>longitude</th>\n",
       "      <th>location</th>\n",
       "      <th>geom</th>\n",
       "      <th>created_date</th>\n",
       "      <th>closed_date</th>\n",
       "    </tr>\n",
       "  </thead>\n",
       "  <tbody>\n",
       "    <tr>\n",
       "      <th>0</th>\n",
       "      <td>2</td>\n",
       "      <td>32570549</td>\n",
       "      <td>DOT</td>\n",
       "      <td>Department of Transportation</td>\n",
       "      <td>Traffic Signal Condition</td>\n",
       "      <td>Controller</td>\n",
       "      <td>None</td>\n",
       "      <td>10301</td>\n",
       "      <td>None</td>\n",
       "      <td>None</td>\n",
       "      <td>...</td>\n",
       "      <td>None</td>\n",
       "      <td>None</td>\n",
       "      <td>None</td>\n",
       "      <td>None</td>\n",
       "      <td>40.613803753157917</td>\n",
       "      <td>-74.113373738864198</td>\n",
       "      <td>(40.61380375315792, -74.1133737388642)</td>\n",
       "      <td>0101000020E61000006829ED83418752C0D7FC121F914E...</td>\n",
       "      <td>2016-02-01 00:12:00</td>\n",
       "      <td>2016-02-01 01:15:00</td>\n",
       "    </tr>\n",
       "    <tr>\n",
       "      <th>1</th>\n",
       "      <td>3</td>\n",
       "      <td>32572958</td>\n",
       "      <td>DOT</td>\n",
       "      <td>Department of Transportation</td>\n",
       "      <td>Traffic Signal Condition</td>\n",
       "      <td>Controller</td>\n",
       "      <td>None</td>\n",
       "      <td>10301</td>\n",
       "      <td>None</td>\n",
       "      <td>None</td>\n",
       "      <td>...</td>\n",
       "      <td>None</td>\n",
       "      <td>None</td>\n",
       "      <td>None</td>\n",
       "      <td>None</td>\n",
       "      <td>40.626545297464929</td>\n",
       "      <td>-74.091582334480577</td>\n",
       "      <td>(40.62654529746493, -74.09158233448058)</td>\n",
       "      <td>0101000020E610000011DF267CDC8552C08809E5A23250...</td>\n",
       "      <td>2016-02-01 00:14:00</td>\n",
       "      <td>2016-02-01 00:54:00</td>\n",
       "    </tr>\n",
       "    <tr>\n",
       "      <th>2</th>\n",
       "      <td>4</td>\n",
       "      <td>32573576</td>\n",
       "      <td>DOT</td>\n",
       "      <td>Department of Transportation</td>\n",
       "      <td>Traffic Signal Condition</td>\n",
       "      <td>Controller</td>\n",
       "      <td>None</td>\n",
       "      <td>10310</td>\n",
       "      <td>None</td>\n",
       "      <td>None</td>\n",
       "      <td>...</td>\n",
       "      <td>None</td>\n",
       "      <td>None</td>\n",
       "      <td>None</td>\n",
       "      <td>None</td>\n",
       "      <td>40.629249554787492</td>\n",
       "      <td>-74.123220752604595</td>\n",
       "      <td>(40.62924955478749, -74.1232207526046)</td>\n",
       "      <td>0101000020E610000004A84BD9E28752C0DC6AD93F8B50...</td>\n",
       "      <td>2016-02-01 00:15:00</td>\n",
       "      <td>2016-02-01 01:30:00</td>\n",
       "    </tr>\n",
       "  </tbody>\n",
       "</table>\n",
       "<p>3 rows × 55 columns</p>\n",
       "</div>"
      ],
      "text/plain": [
       "   gid unique_key agency                    agency nam  \\\n",
       "0    2   32570549    DOT  Department of Transportation   \n",
       "1    3   32572958    DOT  Department of Transportation   \n",
       "2    4   32573576    DOT  Department of Transportation   \n",
       "\n",
       "                  complaint  descriptor location t incident z incident a  \\\n",
       "0  Traffic Signal Condition  Controller       None      10301       None   \n",
       "1  Traffic Signal Condition  Controller       None      10301       None   \n",
       "2  Traffic Signal Condition  Controller       None      10310       None   \n",
       "\n",
       "  street nam         ...         bridge h_2 garage lot ferry dire ferry term  \\\n",
       "0       None         ...               None       None       None       None   \n",
       "1       None         ...               None       None       None       None   \n",
       "2       None         ...               None       None       None       None   \n",
       "\n",
       "             latitude            longitude  \\\n",
       "0  40.613803753157917  -74.113373738864198   \n",
       "1  40.626545297464929  -74.091582334480577   \n",
       "2  40.629249554787492  -74.123220752604595   \n",
       "\n",
       "                                  location  \\\n",
       "0   (40.61380375315792, -74.1133737388642)   \n",
       "1  (40.62654529746493, -74.09158233448058)   \n",
       "2   (40.62924955478749, -74.1232207526046)   \n",
       "\n",
       "                                                geom        created_date  \\\n",
       "0  0101000020E61000006829ED83418752C0D7FC121F914E... 2016-02-01 00:12:00   \n",
       "1  0101000020E610000011DF267CDC8552C08809E5A23250... 2016-02-01 00:14:00   \n",
       "2  0101000020E610000004A84BD9E28752C0DC6AD93F8B50... 2016-02-01 00:15:00   \n",
       "\n",
       "          closed_date  \n",
       "0 2016-02-01 01:15:00  \n",
       "1 2016-02-01 00:54:00  \n",
       "2 2016-02-01 01:30:00  \n",
       "\n",
       "[3 rows x 55 columns]"
      ]
     },
     "execution_count": 12,
     "metadata": {},
     "output_type": "execute_result"
    }
   ],
   "source": [
    "df.head(3)"
   ]
  },
  {
   "cell_type": "code",
   "execution_count": 13,
   "metadata": {
    "collapsed": false
   },
   "outputs": [],
   "source": [
    "sel_df = df[[\n",
    " 'unique_key',\n",
    " 'agency',\n",
    " 'agency nam',\n",
    " 'created_date',\n",
    " 'closed_date',                  \n",
    " 'complaint',\n",
    " 'descriptor',\n",
    " 'status',\n",
    " 'due date',\n",
    " 'resolution',\n",
    " 'city',\n",
    " 'borough'\n",
    " ]]"
   ]
  },
  {
   "cell_type": "code",
   "execution_count": 14,
   "metadata": {
    "collapsed": false
   },
   "outputs": [
    {
     "data": {
      "text/html": [
       "<div>\n",
       "<table border=\"1\" class=\"dataframe\">\n",
       "  <thead>\n",
       "    <tr style=\"text-align: right;\">\n",
       "      <th></th>\n",
       "      <th>unique_key</th>\n",
       "      <th>agency</th>\n",
       "      <th>agency nam</th>\n",
       "      <th>created_date</th>\n",
       "      <th>closed_date</th>\n",
       "      <th>complaint</th>\n",
       "      <th>descriptor</th>\n",
       "      <th>status</th>\n",
       "      <th>due date</th>\n",
       "      <th>resolution</th>\n",
       "      <th>city</th>\n",
       "      <th>borough</th>\n",
       "    </tr>\n",
       "  </thead>\n",
       "  <tbody>\n",
       "    <tr>\n",
       "      <th>0</th>\n",
       "      <td>32570549</td>\n",
       "      <td>DOT</td>\n",
       "      <td>Department of Transportation</td>\n",
       "      <td>2016-02-01 00:12:00</td>\n",
       "      <td>2016-02-01 01:15:00</td>\n",
       "      <td>Traffic Signal Condition</td>\n",
       "      <td>Controller</td>\n",
       "      <td>Closed</td>\n",
       "      <td>None</td>\n",
       "      <td>None</td>\n",
       "      <td>STATEN ISLAND</td>\n",
       "      <td>STATEN ISLAND</td>\n",
       "    </tr>\n",
       "    <tr>\n",
       "      <th>1</th>\n",
       "      <td>32572958</td>\n",
       "      <td>DOT</td>\n",
       "      <td>Department of Transportation</td>\n",
       "      <td>2016-02-01 00:14:00</td>\n",
       "      <td>2016-02-01 00:54:00</td>\n",
       "      <td>Traffic Signal Condition</td>\n",
       "      <td>Controller</td>\n",
       "      <td>Closed</td>\n",
       "      <td>None</td>\n",
       "      <td>None</td>\n",
       "      <td>STATEN ISLAND</td>\n",
       "      <td>STATEN ISLAND</td>\n",
       "    </tr>\n",
       "    <tr>\n",
       "      <th>2</th>\n",
       "      <td>32573576</td>\n",
       "      <td>DOT</td>\n",
       "      <td>Department of Transportation</td>\n",
       "      <td>2016-02-01 00:15:00</td>\n",
       "      <td>2016-02-01 01:30:00</td>\n",
       "      <td>Traffic Signal Condition</td>\n",
       "      <td>Controller</td>\n",
       "      <td>Closed</td>\n",
       "      <td>None</td>\n",
       "      <td>None</td>\n",
       "      <td>STATEN ISLAND</td>\n",
       "      <td>STATEN ISLAND</td>\n",
       "    </tr>\n",
       "  </tbody>\n",
       "</table>\n",
       "</div>"
      ],
      "text/plain": [
       "  unique_key agency                    agency nam        created_date  \\\n",
       "0   32570549    DOT  Department of Transportation 2016-02-01 00:12:00   \n",
       "1   32572958    DOT  Department of Transportation 2016-02-01 00:14:00   \n",
       "2   32573576    DOT  Department of Transportation 2016-02-01 00:15:00   \n",
       "\n",
       "          closed_date                 complaint  descriptor  status due date  \\\n",
       "0 2016-02-01 01:15:00  Traffic Signal Condition  Controller  Closed     None   \n",
       "1 2016-02-01 00:54:00  Traffic Signal Condition  Controller  Closed     None   \n",
       "2 2016-02-01 01:30:00  Traffic Signal Condition  Controller  Closed     None   \n",
       "\n",
       "  resolution           city        borough  \n",
       "0       None  STATEN ISLAND  STATEN ISLAND  \n",
       "1       None  STATEN ISLAND  STATEN ISLAND  \n",
       "2       None  STATEN ISLAND  STATEN ISLAND  "
      ]
     },
     "execution_count": 14,
     "metadata": {},
     "output_type": "execute_result"
    }
   ],
   "source": [
    "sel_df.head(3)"
   ]
  },
  {
   "cell_type": "code",
   "execution_count": 15,
   "metadata": {
    "collapsed": false,
    "scrolled": true
   },
   "outputs": [
    {
     "name": "stdout",
     "output_type": "stream",
     "text": [
      "<class 'pandas.core.frame.DataFrame'>\n",
      "RangeIndex: 5851 entries, 0 to 5850\n",
      "Data columns (total 12 columns):\n",
      "unique_key      5851 non-null object\n",
      "agency          5851 non-null object\n",
      "agency nam      5851 non-null object\n",
      "created_date    5851 non-null datetime64[ns]\n",
      "closed_date     5650 non-null datetime64[ns]\n",
      "complaint       5851 non-null object\n",
      "descriptor      5851 non-null object\n",
      "status          5851 non-null object\n",
      "due date        1464 non-null object\n",
      "resolution      1657 non-null object\n",
      "city            4405 non-null object\n",
      "borough         5851 non-null object\n",
      "dtypes: datetime64[ns](2), object(10)\n",
      "memory usage: 320.0+ KB\n"
     ]
    }
   ],
   "source": [
    "sel_df.info()"
   ]
  },
  {
   "cell_type": "code",
   "execution_count": 16,
   "metadata": {
    "collapsed": false
   },
   "outputs": [],
   "source": [
    "df['Created Date'] = pd.to_datetime(df['created_date'], format='%m%d%y %H:%M:%S')"
   ]
  },
  {
   "cell_type": "code",
   "execution_count": 18,
   "metadata": {
    "collapsed": false
   },
   "outputs": [
    {
     "name": "stdout",
     "output_type": "stream",
     "text": [
      "<class 'pandas.core.frame.DataFrame'>\n",
      "RangeIndex: 5851 entries, 0 to 5850\n",
      "Data columns (total 56 columns):\n",
      "gid             5851 non-null int64\n",
      "unique_key      5851 non-null object\n",
      "agency          5851 non-null object\n",
      "agency nam      5851 non-null object\n",
      "complaint       5851 non-null object\n",
      "descriptor      5851 non-null object\n",
      "location t      1604 non-null object\n",
      "incident z      4400 non-null object\n",
      "incident a      2555 non-null object\n",
      "street nam      2555 non-null object\n",
      "cross stre      2617 non-null object\n",
      "cross st_1      2387 non-null object\n",
      "intersecti      3370 non-null object\n",
      "intersec_1      3359 non-null object\n",
      "address ty      5604 non-null object\n",
      "city            4405 non-null object\n",
      "landmark        0 non-null object\n",
      "facility t      5851 non-null object\n",
      "status          5851 non-null object\n",
      "due date        1464 non-null object\n",
      "resolution      1657 non-null object\n",
      "resoluti_1      5810 non-null object\n",
      "community       5851 non-null object\n",
      "borough         5851 non-null object\n",
      "x coordina      4378 non-null object\n",
      "y coordina      4378 non-null object\n",
      "park facil      5851 non-null object\n",
      "park borou      5851 non-null object\n",
      "school nam      5851 non-null object\n",
      "school num      5851 non-null object\n",
      "school reg      5851 non-null object\n",
      "school cod      5851 non-null object\n",
      "school pho      5851 non-null object\n",
      "school add      5851 non-null object\n",
      "school cit      5851 non-null object\n",
      "school sta      5851 non-null object\n",
      "school zip      5851 non-null object\n",
      "school not      1657 non-null object\n",
      "school or       0 non-null object\n",
      "vehicle ty      0 non-null object\n",
      "taxi compa      0 non-null object\n",
      "taxi pick       0 non-null object\n",
      "bridge hig      112 non-null object\n",
      "bridge h_1      112 non-null object\n",
      "road ramp       112 non-null object\n",
      "bridge h_2      112 non-null object\n",
      "garage lot      11 non-null object\n",
      "ferry dire      20 non-null object\n",
      "ferry term      20 non-null object\n",
      "latitude        4378 non-null object\n",
      "longitude       4378 non-null object\n",
      "location        4378 non-null object\n",
      "geom            5851 non-null object\n",
      "created_date    5851 non-null datetime64[ns]\n",
      "closed_date     5650 non-null datetime64[ns]\n",
      "Created Date    5851 non-null datetime64[ns]\n",
      "dtypes: datetime64[ns](3), int64(1), object(52)\n",
      "memory usage: 1.3+ MB\n"
     ]
    }
   ],
   "source": [
    "df.info()"
   ]
  },
  {
   "cell_type": "code",
   "execution_count": 11,
   "metadata": {
    "collapsed": false
   },
   "outputs": [
    {
     "data": {
      "text/plain": [
       "datetime.datetime(2016, 2, 1, 0, 15)"
      ]
     },
     "execution_count": 11,
     "metadata": {},
     "output_type": "execute_result"
    }
   ],
   "source": [
    "dateutil.parser.parse(\"2016-02-01 00:15:00\")"
   ]
  },
  {
   "cell_type": "code",
   "execution_count": 12,
   "metadata": {
    "collapsed": false
   },
   "outputs": [],
   "source": [
    "#no need to do this step as created date and closed date are already in datetime format\n",
    "#sel_df['CreatedDate'] = pd.to_datetime(sel_df['created_date'], format='%m/%d/%y %H:%M:%S')\n",
    "#sel_df.info()"
   ]
  },
  {
   "cell_type": "code",
   "execution_count": 13,
   "metadata": {
    "collapsed": false
   },
   "outputs": [],
   "source": [
    "#def parse_date(str_date):\n",
    "    #return dateutil.parser.parse(str_date)\n",
    "\n",
    "#df['Created Date'] = df['created_date'].apply(parse_date)"
   ]
  },
  {
   "cell_type": "code",
   "execution_count": 14,
   "metadata": {
    "collapsed": false
   },
   "outputs": [
    {
     "name": "stderr",
     "output_type": "stream",
     "text": [
      "c:\\users\\radhika\\appdata\\local\\programs\\python\\python35-32\\lib\\site-packages\\ipykernel\\__main__.py:1: SettingWithCopyWarning: \n",
      "A value is trying to be set on a copy of a slice from a DataFrame.\n",
      "Try using .loc[row_indexer,col_indexer] = value instead\n",
      "\n",
      "See the caveats in the documentation: http://pandas.pydata.org/pandas-docs/stable/indexing.html#indexing-view-versus-copy\n",
      "  if __name__ == '__main__':\n"
     ]
    },
    {
     "data": {
      "text/plain": [
       "0   01:03:00\n",
       "1   00:40:00\n",
       "2   01:15:00\n",
       "Name: delay, dtype: timedelta64[ns]"
      ]
     },
     "execution_count": 14,
     "metadata": {},
     "output_type": "execute_result"
    }
   ],
   "source": [
    "sel_df['delay'] = sel_df['closed_date'] - sel_df['created_date']\n",
    "sel_df['delay'].head(3)"
   ]
  },
  {
   "cell_type": "code",
   "execution_count": 15,
   "metadata": {
    "collapsed": false
   },
   "outputs": [
    {
     "data": {
      "text/plain": [
       "count                       5650\n",
       "mean      6 days 15:05:05.589380\n",
       "std      14 days 12:05:38.260805\n",
       "min           -19 days +09:29:00\n",
       "25%              0 days 01:14:00\n",
       "50%              0 days 21:48:15\n",
       "75%       4 days 00:30:48.500000\n",
       "max             89 days 18:54:00\n",
       "dtype: object"
      ]
     },
     "execution_count": 15,
     "metadata": {},
     "output_type": "execute_result"
    }
   ],
   "source": [
    "#testing withou ta dataframe\n",
    "delay = df['closed_date'] - df['created_date']\n",
    "delay\n",
    "delay.isnull().value_counts()\n",
    "delay.describe()"
   ]
  },
  {
   "cell_type": "code",
   "execution_count": 16,
   "metadata": {
    "collapsed": false
   },
   "outputs": [
    {
     "data": {
      "text/plain": [
       "False    5650\n",
       "True      201\n",
       "dtype: int64"
      ]
     },
     "execution_count": 16,
     "metadata": {},
     "output_type": "execute_result"
    }
   ],
   "source": [
    "delay.isnull().value_counts()"
   ]
  },
  {
   "cell_type": "code",
   "execution_count": 17,
   "metadata": {
    "collapsed": false
   },
   "outputs": [
    {
     "data": {
      "text/html": [
       "<div>\n",
       "<table border=\"1\" class=\"dataframe\">\n",
       "  <thead>\n",
       "    <tr style=\"text-align: right;\">\n",
       "      <th></th>\n",
       "      <th>delay</th>\n",
       "    </tr>\n",
       "  </thead>\n",
       "  <tbody>\n",
       "    <tr>\n",
       "      <th>count</th>\n",
       "      <td>4547</td>\n",
       "    </tr>\n",
       "    <tr>\n",
       "      <th>mean</th>\n",
       "      <td>8 days 16:15:03.514405</td>\n",
       "    </tr>\n",
       "    <tr>\n",
       "      <th>std</th>\n",
       "      <td>15 days 10:48:08.619990</td>\n",
       "    </tr>\n",
       "    <tr>\n",
       "      <th>min</th>\n",
       "      <td>0 days 00:00:01</td>\n",
       "    </tr>\n",
       "    <tr>\n",
       "      <th>25%</th>\n",
       "      <td>0 days 12:41:58</td>\n",
       "    </tr>\n",
       "    <tr>\n",
       "      <th>50%</th>\n",
       "      <td>1 days 03:33:17</td>\n",
       "    </tr>\n",
       "    <tr>\n",
       "      <th>75%</th>\n",
       "      <td>6 days 00:30:23.500000</td>\n",
       "    </tr>\n",
       "    <tr>\n",
       "      <th>max</th>\n",
       "      <td>89 days 18:54:00</td>\n",
       "    </tr>\n",
       "  </tbody>\n",
       "</table>\n",
       "</div>"
      ],
      "text/plain": [
       "                         delay\n",
       "count                     4547\n",
       "mean    8 days 16:15:03.514405\n",
       "std    15 days 10:48:08.619990\n",
       "min            0 days 00:00:01\n",
       "25%            0 days 12:41:58\n",
       "50%            1 days 03:33:17\n",
       "75%     6 days 00:30:23.500000\n",
       "max           89 days 18:54:00"
      ]
     },
     "execution_count": 17,
     "metadata": {},
     "output_type": "execute_result"
    }
   ],
   "source": [
    "delay_delta = pd.DataFrame(sel_df['delay'][sel_df['delay']> pd.Timedelta(seconds=0)].dropna())\n",
    "delay_delta.describe()"
   ]
  },
  {
   "cell_type": "code",
   "execution_count": 18,
   "metadata": {
    "collapsed": false
   },
   "outputs": [
    {
     "data": {
      "text/plain": [
       "False    4547\n",
       "Name: delay, dtype: int64"
      ]
     },
     "execution_count": 18,
     "metadata": {},
     "output_type": "execute_result"
    }
   ],
   "source": [
    "#now all the null values have been removed. great ! now i can test with a dataframe.\n",
    "delay_delta['delay'].isnull().value_counts()"
   ]
  },
  {
   "cell_type": "code",
   "execution_count": 24,
   "metadata": {
    "collapsed": false
   },
   "outputs": [
    {
     "data": {
      "text/plain": [
       "0   01:03:00\n",
       "1   00:40:00\n",
       "2   01:15:00\n",
       "3   02:18:00\n",
       "4   00:41:00\n",
       "Name: delay, dtype: timedelta64[ns]"
      ]
     },
     "execution_count": 24,
     "metadata": {},
     "output_type": "execute_result"
    }
   ],
   "source": [
    "delay_delta['delay'].head()"
   ]
  },
  {
   "cell_type": "code",
   "execution_count": 19,
   "metadata": {
    "collapsed": false
   },
   "outputs": [
    {
     "data": {
      "text/plain": [
       "False    5650\n",
       "True      201\n",
       "Name: delay, dtype: int64"
      ]
     },
     "execution_count": 19,
     "metadata": {},
     "output_type": "execute_result"
    }
   ],
   "source": [
    "# Now checking the original dataframe sel_df. it has 201 null values which i have to remove.\n",
    "sel_df['delay'].isnull().value_counts()"
   ]
  },
  {
   "cell_type": "code",
   "execution_count": 20,
   "metadata": {
    "collapsed": false
   },
   "outputs": [
    {
     "name": "stderr",
     "output_type": "stream",
     "text": [
      "c:\\users\\radhika\\appdata\\local\\programs\\python\\python35-32\\lib\\site-packages\\ipykernel\\__main__.py:1: SettingWithCopyWarning: \n",
      "A value is trying to be set on a copy of a slice from a DataFrame.\n",
      "Try using .loc[row_indexer,col_indexer] = value instead\n",
      "\n",
      "See the caveats in the documentation: http://pandas.pydata.org/pandas-docs/stable/indexing.html#indexing-view-versus-copy\n",
      "  if __name__ == '__main__':\n"
     ]
    },
    {
     "data": {
      "text/plain": [
       "count                       4547\n",
       "mean      8 days 16:15:03.514405\n",
       "std      15 days 10:48:08.619990\n",
       "min              0 days 00:00:01\n",
       "25%              0 days 12:41:58\n",
       "50%              1 days 03:33:17\n",
       "75%       6 days 00:30:23.500000\n",
       "max             89 days 18:54:00\n",
       "Name: delay, dtype: object"
      ]
     },
     "execution_count": 20,
     "metadata": {},
     "output_type": "execute_result"
    }
   ],
   "source": [
    "sel_df['delay'] = pd.DataFrame(sel_df['delay'][sel_df['delay']> pd.Timedelta(seconds=0)].dropna())\n",
    "sel_df['delay'].describe()"
   ]
  },
  {
   "cell_type": "code",
   "execution_count": 21,
   "metadata": {
    "collapsed": false
   },
   "outputs": [
    {
     "data": {
      "text/plain": [
       "False    4547\n",
       "True     1304\n",
       "Name: delay, dtype: int64"
      ]
     },
     "execution_count": 21,
     "metadata": {},
     "output_type": "execute_result"
    }
   ],
   "source": [
    "sel_df['delay'].isnull().value_counts()"
   ]
  },
  {
   "cell_type": "code",
   "execution_count": 23,
   "metadata": {
    "collapsed": false
   },
   "outputs": [
    {
     "data": {
      "text/html": [
       "<div>\n",
       "<table border=\"1\" class=\"dataframe\">\n",
       "  <thead>\n",
       "    <tr style=\"text-align: right;\">\n",
       "      <th></th>\n",
       "      <th>unique_key</th>\n",
       "      <th>agency</th>\n",
       "      <th>agency nam</th>\n",
       "      <th>created_date</th>\n",
       "      <th>closed_date</th>\n",
       "      <th>complaint</th>\n",
       "      <th>descriptor</th>\n",
       "      <th>status</th>\n",
       "      <th>due date</th>\n",
       "      <th>resolution</th>\n",
       "      <th>city</th>\n",
       "      <th>borough</th>\n",
       "      <th>delay</th>\n",
       "    </tr>\n",
       "  </thead>\n",
       "  <tbody>\n",
       "    <tr>\n",
       "      <th>0</th>\n",
       "      <td>32570549</td>\n",
       "      <td>DOT</td>\n",
       "      <td>Department of Transportation</td>\n",
       "      <td>2016-02-01 00:12:00</td>\n",
       "      <td>2016-02-01 01:15:00</td>\n",
       "      <td>Traffic Signal Condition</td>\n",
       "      <td>Controller</td>\n",
       "      <td>Closed</td>\n",
       "      <td>None</td>\n",
       "      <td>None</td>\n",
       "      <td>STATEN ISLAND</td>\n",
       "      <td>STATEN ISLAND</td>\n",
       "      <td>01:03:00</td>\n",
       "    </tr>\n",
       "    <tr>\n",
       "      <th>1</th>\n",
       "      <td>32572958</td>\n",
       "      <td>DOT</td>\n",
       "      <td>Department of Transportation</td>\n",
       "      <td>2016-02-01 00:14:00</td>\n",
       "      <td>2016-02-01 00:54:00</td>\n",
       "      <td>Traffic Signal Condition</td>\n",
       "      <td>Controller</td>\n",
       "      <td>Closed</td>\n",
       "      <td>None</td>\n",
       "      <td>None</td>\n",
       "      <td>STATEN ISLAND</td>\n",
       "      <td>STATEN ISLAND</td>\n",
       "      <td>00:40:00</td>\n",
       "    </tr>\n",
       "    <tr>\n",
       "      <th>2</th>\n",
       "      <td>32573576</td>\n",
       "      <td>DOT</td>\n",
       "      <td>Department of Transportation</td>\n",
       "      <td>2016-02-01 00:15:00</td>\n",
       "      <td>2016-02-01 01:30:00</td>\n",
       "      <td>Traffic Signal Condition</td>\n",
       "      <td>Controller</td>\n",
       "      <td>Closed</td>\n",
       "      <td>None</td>\n",
       "      <td>None</td>\n",
       "      <td>STATEN ISLAND</td>\n",
       "      <td>STATEN ISLAND</td>\n",
       "      <td>01:15:00</td>\n",
       "    </tr>\n",
       "  </tbody>\n",
       "</table>\n",
       "</div>"
      ],
      "text/plain": [
       "  unique_key agency                    agency nam        created_date  \\\n",
       "0   32570549    DOT  Department of Transportation 2016-02-01 00:12:00   \n",
       "1   32572958    DOT  Department of Transportation 2016-02-01 00:14:00   \n",
       "2   32573576    DOT  Department of Transportation 2016-02-01 00:15:00   \n",
       "\n",
       "          closed_date                 complaint  descriptor  status due date  \\\n",
       "0 2016-02-01 01:15:00  Traffic Signal Condition  Controller  Closed     None   \n",
       "1 2016-02-01 00:54:00  Traffic Signal Condition  Controller  Closed     None   \n",
       "2 2016-02-01 01:30:00  Traffic Signal Condition  Controller  Closed     None   \n",
       "\n",
       "  resolution           city        borough    delay  \n",
       "0       None  STATEN ISLAND  STATEN ISLAND 01:03:00  \n",
       "1       None  STATEN ISLAND  STATEN ISLAND 00:40:00  \n",
       "2       None  STATEN ISLAND  STATEN ISLAND 01:15:00  "
      ]
     },
     "execution_count": 23,
     "metadata": {},
     "output_type": "execute_result"
    }
   ],
   "source": [
    "sel_df.head(3)"
   ]
  },
  {
   "cell_type": "code",
   "execution_count": 27,
   "metadata": {
    "collapsed": false
   },
   "outputs": [
    {
     "data": {
      "text/plain": [
       "0 days 00:20:00     23\n",
       "0 days 01:32:00     10\n",
       "0 days 01:26:00     10\n",
       "0 days 02:02:00      9\n",
       "0 days 00:25:00      9\n",
       "0 days 01:34:00      9\n",
       "0 days 01:27:00      9\n",
       "0 days 00:40:00      9\n",
       "0 days 00:54:00      8\n",
       "0 days 01:09:00      8\n",
       "0 days 01:15:00      8\n",
       "0 days 00:45:00      8\n",
       "0 days 00:15:00      8\n",
       "0 days 01:42:00      8\n",
       "0 days 02:03:00      7\n",
       "0 days 16:07:00      7\n",
       "0 days 01:33:00      7\n",
       "0 days 01:36:00      7\n",
       "0 days 00:49:00      7\n",
       "0 days 02:00:00      7\n",
       "0 days 01:39:00      7\n",
       "0 days 01:56:00      7\n",
       "0 days 02:18:00      7\n",
       "0 days 01:58:00      7\n",
       "0 days 01:51:00      7\n",
       "0 days 01:40:00      7\n",
       "0 days 01:52:00      7\n",
       "0 days 01:29:00      7\n",
       "0 days 01:22:00      7\n",
       "0 days 01:18:00      7\n",
       "                    ..\n",
       "1 days 23:05:16      1\n",
       "0 days 22:39:36      1\n",
       "10 days 16:07:27     1\n",
       "0 days 23:53:09      1\n",
       "0 days 03:14:00      1\n",
       "0 days 04:56:26      1\n",
       "3 days 16:46:05      1\n",
       "43 days 18:11:57     1\n",
       "1 days 06:05:30      1\n",
       "1 days 02:06:00      1\n",
       "43 days 15:03:49     1\n",
       "1 days 18:18:00      1\n",
       "2 days 18:07:22      1\n",
       "29 days 13:19:50     1\n",
       "0 days 08:05:00      1\n",
       "0 days 23:57:41      1\n",
       "2 days 05:16:45      1\n",
       "5 days 23:40:03      1\n",
       "7 days 20:52:00      1\n",
       "50 days 00:25:00     1\n",
       "0 days 19:02:57      1\n",
       "0 days 12:56:00      1\n",
       "40 days 12:04:03     1\n",
       "31 days 22:41:41     1\n",
       "0 days 22:41:28      1\n",
       "13 days 23:26:00     1\n",
       "0 days 12:54:24      1\n",
       "0 days 01:54:23      1\n",
       "0 days 23:53:25      1\n",
       "0 days 23:17:35      1\n",
       "Name: delay, dtype: int64"
      ]
     },
     "execution_count": 27,
     "metadata": {},
     "output_type": "execute_result"
    }
   ],
   "source": [
    "delay_delta['delay'].value_counts()"
   ]
  },
  {
   "cell_type": "code",
   "execution_count": 32,
   "metadata": {
    "collapsed": false
   },
   "outputs": [
    {
     "data": {
      "text/plain": [
       "<matplotlib.text.Text at 0x9a2d170>"
      ]
     },
     "execution_count": 32,
     "metadata": {},
     "output_type": "execute_result"
    },
    {
     "data": {
      "image/png": "[encoded data removed]",
      "text/plain": [
       "<matplotlib.figure.Figure at 0x9a29870>"
      ]
     },
     "metadata": {},
     "output_type": "display_data"
    }
   ],
   "source": [
    "\n",
    "delay_delta['delay'].value_counts().hist()\n",
    "plt.xlabel('Delay')\n",
    "plt.ylabel('Frequency of Delay')"
   ]
  },
  {
   "cell_type": "code",
   "execution_count": 36,
   "metadata": {
    "collapsed": false
   },
   "outputs": [],
   "source": [
    "delay_plot = pd.DataFrame(delay_delta['delay'].value_counts())"
   ]
  },
  {
   "cell_type": "code",
   "execution_count": 41,
   "metadata": {
    "collapsed": false
   },
   "outputs": [
    {
     "data": {
      "text/plain": [
       "<matplotlib.axes._subplots.AxesSubplot at 0x9e7a230>"
      ]
     },
     "execution_count": 41,
     "metadata": {},
     "output_type": "execute_result"
    },
    {
     "data": {
      "image/png": "[encoded data removed]",
      "text/plain": [
       "<matplotlib.figure.Figure at 0x9e73a10>"
      ]
     },
     "metadata": {},
     "output_type": "display_data"
    }
   ],
   "source": [
    "delay_plot.plot(kind='bar',x=delay_plot.index, y ='delay')"
   ]
  },
  {
   "cell_type": "code",
   "execution_count": 43,
   "metadata": {
    "collapsed": false
   },
   "outputs": [
    {
     "data": {
      "text/plain": [
       "delay    1.0\n",
       "dtype: float64"
      ]
     },
     "execution_count": 43,
     "metadata": {},
     "output_type": "execute_result"
    }
   ],
   "source": [
    "delay_plot.quantile(q=0.25)"
   ]
  },
  {
   "cell_type": "code",
   "execution_count": 44,
   "metadata": {
    "collapsed": false
   },
   "outputs": [
    {
     "data": {
      "text/plain": [
       "delay    1.0\n",
       "dtype: float64"
      ]
     },
     "execution_count": 44,
     "metadata": {},
     "output_type": "execute_result"
    }
   ],
   "source": [
    "delay_plot.quantile(q=0.5)"
   ]
  },
  {
   "cell_type": "code",
   "execution_count": 45,
   "metadata": {
    "collapsed": false
   },
   "outputs": [
    {
     "data": {
      "text/plain": [
       "delay    1.0\n",
       "dtype: float64"
      ]
     },
     "execution_count": 45,
     "metadata": {},
     "output_type": "execute_result"
    }
   ],
   "source": [
    "delay_plot.quantile(q=0.75)"
   ]
  },
  {
   "cell_type": "code",
   "execution_count": null,
   "metadata": {
    "collapsed": true
   },
   "outputs": [],
   "source": []
  }
 ],
 "metadata": {
  "kernelspec": {
   "display_name": "Python 3",
   "language": "python",
   "name": "python3"
  },
  "language_info": {
   "codemirror_mode": {
    "name": "ipython",
    "version": 3
   },
   "file_extension": ".py",
   "mimetype": "text/x-python",
   "name": "python",
   "nbconvert_exporter": "python",
   "pygments_lexer": "ipython3",
   "version": "3.5.1"
  }
 },
 "nbformat": 4,
 "nbformat_minor": 0
}

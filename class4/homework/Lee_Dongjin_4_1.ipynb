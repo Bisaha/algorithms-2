{
 "cells": [
  {
   "cell_type": "code",
   "execution_count": 1,
   "metadata": {
    "collapsed": true
   },
   "outputs": [],
   "source": [
    "import pg8000\n",
    "conn = pg8000.connect(host='training.c1erymiua9dx.us-east-1.rds.amazonaws.com', database=\"training\", port=5432, user='dot_student', password='qgis')\n",
    "cursor = conn.cursor()"
   ]
  },
  {
   "cell_type": "code",
   "execution_count": 11,
   "metadata": {
    "collapsed": false
   },
   "outputs": [
    {
     "name": "stdout",
     "output_type": "stream",
     "text": [
      "['training', 'public', 'dot_311', 'gid', 1, \"nextval('dot_311_gid_seq'::regclass)\", 'NO', 'integer', None, None, 32, 2, 0, None, None, None, None, None, None, None, None, None, None, None, None, 'training', 'pg_catalog', 'int4', None, None, None, None, '1', 'NO', 'NO', None, None, None, None, None, None, 'NEVER', None, 'YES']\n",
      "['training', 'public', 'dot_311', 'unique_key', 2, None, 'YES', 'numeric', None, None, 10, 10, 0, None, None, None, None, None, None, None, None, None, None, None, None, 'training', 'pg_catalog', 'numeric', None, None, None, None, '2', 'NO', 'NO', None, None, None, None, None, None, 'NEVER', None, 'YES']\n",
      "['training', 'public', 'dot_311', 'agency', 5, None, 'YES', 'character varying', 254, 1016, None, None, None, None, None, None, None, None, None, None, None, None, None, None, None, 'training', 'pg_catalog', 'varchar', None, None, None, None, '5', 'NO', 'NO', None, None, None, None, None, None, 'NEVER', None, 'YES']\n",
      "['training', 'public', 'dot_311', 'agency nam', 6, None, 'YES', 'character varying', 254, 1016, None, None, None, None, None, None, None, None, None, None, None, None, None, None, None, 'training', 'pg_catalog', 'varchar', None, None, None, None, '6', 'NO', 'NO', None, None, None, None, None, None, 'NEVER', None, 'YES']\n",
      "['training', 'public', 'dot_311', 'complaint', 7, None, 'YES', 'character varying', 254, 1016, None, None, None, None, None, None, None, None, None, None, None, None, None, None, None, 'training', 'pg_catalog', 'varchar', None, None, None, None, '7', 'NO', 'NO', None, None, None, None, None, None, 'NEVER', None, 'YES']\n",
      "['training', 'public', 'dot_311', 'descriptor', 8, None, 'YES', 'character varying', 254, 1016, None, None, None, None, None, None, None, None, None, None, None, None, None, None, None, 'training', 'pg_catalog', 'varchar', None, None, None, None, '8', 'NO', 'NO', None, None, None, None, None, None, 'NEVER', None, 'YES']\n",
      "['training', 'public', 'dot_311', 'location t', 9, None, 'YES', 'character varying', 254, 1016, None, None, None, None, None, None, None, None, None, None, None, None, None, None, None, 'training', 'pg_catalog', 'varchar', None, None, None, None, '9', 'NO', 'NO', None, None, None, None, None, None, 'NEVER', None, 'YES']\n",
      "['training', 'public', 'dot_311', 'incident z', 10, None, 'YES', 'numeric', None, None, 10, 10, 0, None, None, None, None, None, None, None, None, None, None, None, None, 'training', 'pg_catalog', 'numeric', None, None, None, None, '10', 'NO', 'NO', None, None, None, None, None, None, 'NEVER', None, 'YES']\n",
      "['training', 'public', 'dot_311', 'incident a', 11, None, 'YES', 'character varying', 254, 1016, None, None, None, None, None, None, None, None, None, None, None, None, None, None, None, 'training', 'pg_catalog', 'varchar', None, None, None, None, '11', 'NO', 'NO', None, None, None, None, None, None, 'NEVER', None, 'YES']\n",
      "['training', 'public', 'dot_311', 'street nam', 12, None, 'YES', 'character varying', 254, 1016, None, None, None, None, None, None, None, None, None, None, None, None, None, None, None, 'training', 'pg_catalog', 'varchar', None, None, None, None, '12', 'NO', 'NO', None, None, None, None, None, None, 'NEVER', None, 'YES']\n",
      "['training', 'public', 'dot_311', 'cross stre', 13, None, 'YES', 'character varying', 254, 1016, None, None, None, None, None, None, None, None, None, None, None, None, None, None, None, 'training', 'pg_catalog', 'varchar', None, None, None, None, '13', 'NO', 'NO', None, None, None, None, None, None, 'NEVER', None, 'YES']\n",
      "['training', 'public', 'dot_311', 'cross st_1', 14, None, 'YES', 'character varying', 254, 1016, None, None, None, None, None, None, None, None, None, None, None, None, None, None, None, 'training', 'pg_catalog', 'varchar', None, None, None, None, '14', 'NO', 'NO', None, None, None, None, None, None, 'NEVER', None, 'YES']\n",
      "['training', 'public', 'dot_311', 'intersecti', 15, None, 'YES', 'character varying', 254, 1016, None, None, None, None, None, None, None, None, None, None, None, None, None, None, None, 'training', 'pg_catalog', 'varchar', None, None, None, None, '15', 'NO', 'NO', None, None, None, None, None, None, 'NEVER', None, 'YES']\n",
      "['training', 'public', 'dot_311', 'intersec_1', 16, None, 'YES', 'character varying', 254, 1016, None, None, None, None, None, None, None, None, None, None, None, None, None, None, None, 'training', 'pg_catalog', 'varchar', None, None, None, None, '16', 'NO', 'NO', None, None, None, None, None, None, 'NEVER', None, 'YES']\n",
      "['training', 'public', 'dot_311', 'address ty', 17, None, 'YES', 'character varying', 254, 1016, None, None, None, None, None, None, None, None, None, None, None, None, None, None, None, 'training', 'pg_catalog', 'varchar', None, None, None, None, '17', 'NO', 'NO', None, None, None, None, None, None, 'NEVER', None, 'YES']\n",
      "['training', 'public', 'dot_311', 'city', 18, None, 'YES', 'character varying', 254, 1016, None, None, None, None, None, None, None, None, None, None, None, None, None, None, None, 'training', 'pg_catalog', 'varchar', None, None, None, None, '18', 'NO', 'NO', None, None, None, None, None, None, 'NEVER', None, 'YES']\n",
      "['training', 'public', 'dot_311', 'landmark', 19, None, 'YES', 'character varying', 254, 1016, None, None, None, None, None, None, None, None, None, None, None, None, None, None, None, 'training', 'pg_catalog', 'varchar', None, None, None, None, '19', 'NO', 'NO', None, None, None, None, None, None, 'NEVER', None, 'YES']\n",
      "['training', 'public', 'dot_311', 'facility t', 20, None, 'YES', 'character varying', 254, 1016, None, None, None, None, None, None, None, None, None, None, None, None, None, None, None, 'training', 'pg_catalog', 'varchar', None, None, None, None, '20', 'NO', 'NO', None, None, None, None, None, None, 'NEVER', None, 'YES']\n",
      "['training', 'public', 'dot_311', 'status', 21, None, 'YES', 'character varying', 254, 1016, None, None, None, None, None, None, None, None, None, None, None, None, None, None, None, 'training', 'pg_catalog', 'varchar', None, None, None, None, '21', 'NO', 'NO', None, None, None, None, None, None, 'NEVER', None, 'YES']\n",
      "['training', 'public', 'dot_311', 'due date', 22, None, 'YES', 'character varying', 254, 1016, None, None, None, None, None, None, None, None, None, None, None, None, None, None, None, 'training', 'pg_catalog', 'varchar', None, None, None, None, '22', 'NO', 'NO', None, None, None, None, None, None, 'NEVER', None, 'YES']\n",
      "['training', 'public', 'dot_311', 'resolution', 23, None, 'YES', 'character varying', 254, 1016, None, None, None, None, None, None, None, None, None, None, None, None, None, None, None, 'training', 'pg_catalog', 'varchar', None, None, None, None, '23', 'NO', 'NO', None, None, None, None, None, None, 'NEVER', None, 'YES']\n",
      "['training', 'public', 'dot_311', 'resoluti_1', 24, None, 'YES', 'character varying', 254, 1016, None, None, None, None, None, None, None, None, None, None, None, None, None, None, None, 'training', 'pg_catalog', 'varchar', None, None, None, None, '24', 'NO', 'NO', None, None, None, None, None, None, 'NEVER', None, 'YES']\n",
      "['training', 'public', 'dot_311', 'community', 25, None, 'YES', 'character varying', 254, 1016, None, None, None, None, None, None, None, None, None, None, None, None, None, None, None, 'training', 'pg_catalog', 'varchar', None, None, None, None, '25', 'NO', 'NO', None, None, None, None, None, None, 'NEVER', None, 'YES']\n",
      "['training', 'public', 'dot_311', 'borough', 26, None, 'YES', 'character varying', 254, 1016, None, None, None, None, None, None, None, None, None, None, None, None, None, None, None, 'training', 'pg_catalog', 'varchar', None, None, None, None, '26', 'NO', 'NO', None, None, None, None, None, None, 'NEVER', None, 'YES']\n",
      "['training', 'public', 'dot_311', 'x coordina', 27, None, 'YES', 'numeric', None, None, 10, 10, 0, None, None, None, None, None, None, None, None, None, None, None, None, 'training', 'pg_catalog', 'numeric', None, None, None, None, '27', 'NO', 'NO', None, None, None, None, None, None, 'NEVER', None, 'YES']\n",
      "['training', 'public', 'dot_311', 'y coordina', 28, None, 'YES', 'numeric', None, None, 10, 10, 0, None, None, None, None, None, None, None, None, None, None, None, None, 'training', 'pg_catalog', 'numeric', None, None, None, None, '28', 'NO', 'NO', None, None, None, None, None, None, 'NEVER', None, 'YES']\n",
      "['training', 'public', 'dot_311', 'park facil', 29, None, 'YES', 'character varying', 254, 1016, None, None, None, None, None, None, None, None, None, None, None, None, None, None, None, 'training', 'pg_catalog', 'varchar', None, None, None, None, '29', 'NO', 'NO', None, None, None, None, None, None, 'NEVER', None, 'YES']\n",
      "['training', 'public', 'dot_311', 'park borou', 30, None, 'YES', 'character varying', 254, 1016, None, None, None, None, None, None, None, None, None, None, None, None, None, None, None, 'training', 'pg_catalog', 'varchar', None, None, None, None, '30', 'NO', 'NO', None, None, None, None, None, None, 'NEVER', None, 'YES']\n",
      "['training', 'public', 'dot_311', 'school nam', 31, None, 'YES', 'character varying', 254, 1016, None, None, None, None, None, None, None, None, None, None, None, None, None, None, None, 'training', 'pg_catalog', 'varchar', None, None, None, None, '31', 'NO', 'NO', None, None, None, None, None, None, 'NEVER', None, 'YES']\n",
      "['training', 'public', 'dot_311', 'school num', 32, None, 'YES', 'character varying', 254, 1016, None, None, None, None, None, None, None, None, None, None, None, None, None, None, None, 'training', 'pg_catalog', 'varchar', None, None, None, None, '32', 'NO', 'NO', None, None, None, None, None, None, 'NEVER', None, 'YES']\n",
      "['training', 'public', 'dot_311', 'school reg', 33, None, 'YES', 'character varying', 254, 1016, None, None, None, None, None, None, None, None, None, None, None, None, None, None, None, 'training', 'pg_catalog', 'varchar', None, None, None, None, '33', 'NO', 'NO', None, None, None, None, None, None, 'NEVER', None, 'YES']\n",
      "['training', 'public', 'dot_311', 'school cod', 34, None, 'YES', 'character varying', 254, 1016, None, None, None, None, None, None, None, None, None, None, None, None, None, None, None, 'training', 'pg_catalog', 'varchar', None, None, None, None, '34', 'NO', 'NO', None, None, None, None, None, None, 'NEVER', None, 'YES']\n",
      "['training', 'public', 'dot_311', 'school pho', 35, None, 'YES', 'character varying', 254, 1016, None, None, None, None, None, None, None, None, None, None, None, None, None, None, None, 'training', 'pg_catalog', 'varchar', None, None, None, None, '35', 'NO', 'NO', None, None, None, None, None, None, 'NEVER', None, 'YES']\n",
      "['training', 'public', 'dot_311', 'school add', 36, None, 'YES', 'character varying', 254, 1016, None, None, None, None, None, None, None, None, None, None, None, None, None, None, None, 'training', 'pg_catalog', 'varchar', None, None, None, None, '36', 'NO', 'NO', None, None, None, None, None, None, 'NEVER', None, 'YES']\n",
      "['training', 'public', 'dot_311', 'school cit', 37, None, 'YES', 'character varying', 254, 1016, None, None, None, None, None, None, None, None, None, None, None, None, None, None, None, 'training', 'pg_catalog', 'varchar', None, None, None, None, '37', 'NO', 'NO', None, None, None, None, None, None, 'NEVER', None, 'YES']\n",
      "['training', 'public', 'dot_311', 'school sta', 38, None, 'YES', 'character varying', 254, 1016, None, None, None, None, None, None, None, None, None, None, None, None, None, None, None, 'training', 'pg_catalog', 'varchar', None, None, None, None, '38', 'NO', 'NO', None, None, None, None, None, None, 'NEVER', None, 'YES']\n",
      "['training', 'public', 'dot_311', 'school zip', 39, None, 'YES', 'character varying', 254, 1016, None, None, None, None, None, None, None, None, None, None, None, None, None, None, None, 'training', 'pg_catalog', 'varchar', None, None, None, None, '39', 'NO', 'NO', None, None, None, None, None, None, 'NEVER', None, 'YES']\n",
      "['training', 'public', 'dot_311', 'school not', 40, None, 'YES', 'character varying', 254, 1016, None, None, None, None, None, None, None, None, None, None, None, None, None, None, None, 'training', 'pg_catalog', 'varchar', None, None, None, None, '40', 'NO', 'NO', None, None, None, None, None, None, 'NEVER', None, 'YES']\n",
      "['training', 'public', 'dot_311', 'school or', 41, None, 'YES', 'character varying', 254, 1016, None, None, None, None, None, None, None, None, None, None, None, None, None, None, None, 'training', 'pg_catalog', 'varchar', None, None, None, None, '41', 'NO', 'NO', None, None, None, None, None, None, 'NEVER', None, 'YES']\n",
      "['training', 'public', 'dot_311', 'vehicle ty', 42, None, 'YES', 'character varying', 254, 1016, None, None, None, None, None, None, None, None, None, None, None, None, None, None, None, 'training', 'pg_catalog', 'varchar', None, None, None, None, '42', 'NO', 'NO', None, None, None, None, None, None, 'NEVER', None, 'YES']\n",
      "['training', 'public', 'dot_311', 'taxi compa', 43, None, 'YES', 'character varying', 254, 1016, None, None, None, None, None, None, None, None, None, None, None, None, None, None, None, 'training', 'pg_catalog', 'varchar', None, None, None, None, '43', 'NO', 'NO', None, None, None, None, None, None, 'NEVER', None, 'YES']\n",
      "['training', 'public', 'dot_311', 'taxi pick', 44, None, 'YES', 'character varying', 254, 1016, None, None, None, None, None, None, None, None, None, None, None, None, None, None, None, 'training', 'pg_catalog', 'varchar', None, None, None, None, '44', 'NO', 'NO', None, None, None, None, None, None, 'NEVER', None, 'YES']\n",
      "['training', 'public', 'dot_311', 'bridge hig', 45, None, 'YES', 'character varying', 254, 1016, None, None, None, None, None, None, None, None, None, None, None, None, None, None, None, 'training', 'pg_catalog', 'varchar', None, None, None, None, '45', 'NO', 'NO', None, None, None, None, None, None, 'NEVER', None, 'YES']\n",
      "['training', 'public', 'dot_311', 'bridge h_1', 46, None, 'YES', 'character varying', 254, 1016, None, None, None, None, None, None, None, None, None, None, None, None, None, None, None, 'training', 'pg_catalog', 'varchar', None, None, None, None, '46', 'NO', 'NO', None, None, None, None, None, None, 'NEVER', None, 'YES']\n",
      "['training', 'public', 'dot_311', 'road ramp', 47, None, 'YES', 'character varying', 254, 1016, None, None, None, None, None, None, None, None, None, None, None, None, None, None, None, 'training', 'pg_catalog', 'varchar', None, None, None, None, '47', 'NO', 'NO', None, None, None, None, None, None, 'NEVER', None, 'YES']\n",
      "['training', 'public', 'dot_311', 'bridge h_2', 48, None, 'YES', 'character varying', 254, 1016, None, None, None, None, None, None, None, None, None, None, None, None, None, None, None, 'training', 'pg_catalog', 'varchar', None, None, None, None, '48', 'NO', 'NO', None, None, None, None, None, None, 'NEVER', None, 'YES']\n",
      "['training', 'public', 'dot_311', 'garage lot', 49, None, 'YES', 'character varying', 254, 1016, None, None, None, None, None, None, None, None, None, None, None, None, None, None, None, 'training', 'pg_catalog', 'varchar', None, None, None, None, '49', 'NO', 'NO', None, None, None, None, None, None, 'NEVER', None, 'YES']\n",
      "['training', 'public', 'dot_311', 'ferry dire', 50, None, 'YES', 'character varying', 254, 1016, None, None, None, None, None, None, None, None, None, None, None, None, None, None, None, 'training', 'pg_catalog', 'varchar', None, None, None, None, '50', 'NO', 'NO', None, None, None, None, None, None, 'NEVER', None, 'YES']\n",
      "['training', 'public', 'dot_311', 'ferry term', 51, None, 'YES', 'character varying', 254, 1016, None, None, None, None, None, None, None, None, None, None, None, None, None, None, None, 'training', 'pg_catalog', 'varchar', None, None, None, None, '51', 'NO', 'NO', None, None, None, None, None, None, 'NEVER', None, 'YES']\n",
      "['training', 'public', 'dot_311', 'latitude', 52, None, 'YES', 'numeric', None, None, None, 10, None, None, None, None, None, None, None, None, None, None, None, None, None, 'training', 'pg_catalog', 'numeric', None, None, None, None, '52', 'NO', 'NO', None, None, None, None, None, None, 'NEVER', None, 'YES']\n",
      "['training', 'public', 'dot_311', 'longitude', 53, None, 'YES', 'numeric', None, None, None, 10, None, None, None, None, None, None, None, None, None, None, None, None, None, 'training', 'pg_catalog', 'numeric', None, None, None, None, '53', 'NO', 'NO', None, None, None, None, None, None, 'NEVER', None, 'YES']\n",
      "['training', 'public', 'dot_311', 'location', 54, None, 'YES', 'character varying', 254, 1016, None, None, None, None, None, None, None, None, None, None, None, None, None, None, None, 'training', 'pg_catalog', 'varchar', None, None, None, None, '54', 'NO', 'NO', None, None, None, None, None, None, 'NEVER', None, 'YES']\n",
      "['training', 'public', 'dot_311', 'geom', 55, None, 'YES', 'USER-DEFINED', None, None, None, None, None, None, None, None, None, None, None, None, None, None, None, None, None, 'training', 'public', 'geometry', None, None, None, None, '55', 'NO', 'NO', None, None, None, None, None, None, 'NEVER', None, 'YES']\n",
      "['training', 'public', 'dot_311', 'created_date', 56, None, 'YES', 'timestamp without time zone', None, None, None, None, None, 6, None, None, None, None, None, None, None, None, None, None, None, 'training', 'pg_catalog', 'timestamp', None, None, None, None, '56', 'NO', 'NO', None, None, None, None, None, None, 'NEVER', None, 'YES']\n",
      "['training', 'public', 'dot_311', 'closed_date', 57, None, 'YES', 'timestamp without time zone', None, None, None, None, None, 6, None, None, None, None, None, None, None, None, None, None, None, 'training', 'pg_catalog', 'timestamp', None, None, None, None, '57', 'NO', 'NO', None, None, None, None, None, None, 'NEVER', None, 'YES']\n",
      "gid unique_key agency agency nam complaint descriptor location t incident z incident a street nam cross stre cross st_1 intersecti intersec_1 address ty city landmark facility t status due date resolution resoluti_1 community borough x coordina y coordina park facil park borou school nam school num school reg school cod school pho school add school cit school sta school zip school not school or vehicle ty taxi compa taxi pick bridge hig bridge h_1 road ramp bridge h_2 garage lot ferry dire ferry term latitude longitude location geom created_date closed_date\n"
     ]
    }
   ],
   "source": [
    "# Getting the column names\n",
    "statement = \"select * from INFORMATION_SCHEMA.COLUMNS where table_name = 'dot_311'\"\n",
    "cursor.execute(statement)\n",
    "columns = []\n",
    "for row in cursor.fetchall():\n",
    "    print(row)\n",
    "    columns.append(row[3])\n",
    "print(*columns)"
   ]
  },
  {
   "cell_type": "code",
   "execution_count": 3,
   "metadata": {
    "collapsed": true
   },
   "outputs": [],
   "source": [
    "statement = \"SELECT unique_key, complaint, created_date, closed_date FROM dot_311\"\n",
    "cursor.execute(statement)\n",
    "complaints = []\n",
    "for row in cursor:\n",
    "    complaints.append(row)\n"
   ]
  },
  {
   "cell_type": "code",
   "execution_count": 7,
   "metadata": {
    "collapsed": false
   },
   "outputs": [],
   "source": [
    "import pandas as pd\n",
    "df = pd.DataFrame(complaints)"
   ]
  },
  {
   "cell_type": "code",
   "execution_count": 8,
   "metadata": {
    "collapsed": false
   },
   "outputs": [
    {
     "name": "stdout",
     "output_type": "stream",
     "text": [
      "<class 'pandas.core.frame.DataFrame'>\n",
      "RangeIndex: 5851 entries, 0 to 5850\n",
      "Data columns (total 4 columns):\n",
      "0    5851 non-null object\n",
      "1    5851 non-null object\n",
      "2    5851 non-null datetime64[ns]\n",
      "3    5650 non-null datetime64[ns]\n",
      "dtypes: datetime64[ns](2), object(2)\n",
      "memory usage: 182.9+ KB\n"
     ]
    }
   ],
   "source": [
    "df.info()"
   ]
  },
  {
   "cell_type": "code",
   "execution_count": null,
   "metadata": {
    "collapsed": true
   },
   "outputs": [],
   "source": []
  }
 ],
 "metadata": {
  "kernelspec": {
   "display_name": "Python 3",
   "language": "python",
   "name": "python3"
  },
  "language_info": {
   "codemirror_mode": {
    "name": "ipython",
    "version": 3
   },
   "file_extension": ".py",
   "mimetype": "text/x-python",
   "name": "python",
   "nbconvert_exporter": "python",
   "pygments_lexer": "ipython3",
   "version": "3.4.4"
  }
 },
 "nbformat": 4,
 "nbformat_minor": 0
}

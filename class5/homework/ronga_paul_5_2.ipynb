{
 "cells": [
  {
   "cell_type": "markdown",
   "metadata": {},
   "source": [
    "“Use the data from heights_weights_genders.csv to create a simple predictor”… [link](http://ledeprogram.github.io/algorithms/class5/#95)"
   ]
  },
  {
   "cell_type": "code",
   "execution_count": 9,
   "metadata": {
    "collapsed": true
   },
   "outputs": [],
   "source": [
    "import pandas as pd\n",
    "%matplotlib inline\n",
    "import matplotlib.pyplot as plt\n",
    "import statsmodels.formula.api as smf # for linear regression\n",
    "from numpy import random"
   ]
  },
  {
   "cell_type": "code",
   "execution_count": 3,
   "metadata": {
    "collapsed": true
   },
   "outputs": [],
   "source": [
    "df = pd.read_csv(\"../data/heights_weights_genders.csv\")"
   ]
  },
  {
   "cell_type": "code",
   "execution_count": 6,
   "metadata": {
    "collapsed": false
   },
   "outputs": [],
   "source": [
    "lm_male = smf.ols(formula=\"Weight~Height\",data=df[df['Gender']=='Male']).fit()\n",
    "male_intercept, male_slope = lm_male.params\n",
    "\n",
    "lm_female = smf.ols(formula=\"Weight~Height\",data=df[df['Gender']=='Female']).fit()\n",
    "female_intercept, female_slope = lm_female.params"
   ]
  },
  {
   "cell_type": "code",
   "execution_count": null,
   "metadata": {
    "collapsed": true
   },
   "outputs": [],
   "source": []
  },
  {
   "cell_type": "code",
   "execution_count": 8,
   "metadata": {
    "collapsed": false
   },
   "outputs": [],
   "source": [
    "def guess_weight(height, gender):\n",
    "    if gender == 'female':\n",
    "        return female_slope*height + female_intercept\n",
    "    elif gender == 'male':\n",
    "        return male_slope*height + male_intercept\n",
    "    else:\n",
    "        return 'This data is very bad for intersexed people, sorry.'"
   ]
  },
  {
   "cell_type": "code",
   "execution_count": 18,
   "metadata": {
    "collapsed": false
   },
   "outputs": [
    {
     "name": "stdout",
     "output_type": "stream",
     "text": [
      "Please type your height: 100\n",
      "Are you a male [m] or a female [f] ? f\n",
      "As a female, your weight should be around 353.3913957387751.\n"
     ]
    }
   ],
   "source": [
    "your_height = input(\"Please type your height: \")\n",
    "gender_input = input(\"Are you a male [m] or a female [f] ? \")\n",
    "if gender_input[0] == 'f':\n",
    "    your_gender = 'female'\n",
    "elif gender_input[0] == 'm':\n",
    "    your_gender = 'male'\n",
    "else:\n",
    "    your_gender = random.choice(['male', 'female'])\n",
    "    print('Could not understand your genre. Randomly set it to {}.'.format(your_gender))\n",
    "print(\"As a {}, your weight should be around {}.\".format(your_gender, guess_weight(int(your_height), your_gender)))"
   ]
  }
 ],
 "metadata": {
  "kernelspec": {
   "display_name": "Python 3",
   "language": "python",
   "name": "python3"
  },
  "language_info": {
   "codemirror_mode": {
    "name": "ipython",
    "version": 3
   },
   "file_extension": ".py",
   "mimetype": "text/x-python",
   "name": "python",
   "nbconvert_exporter": "python",
   "pygments_lexer": "ipython3",
   "version": "3.5.1"
  },
  "widgets": {
   "state": {},
   "version": "1.1.2"
  }
 },
 "nbformat": 4,
 "nbformat_minor": 0
}

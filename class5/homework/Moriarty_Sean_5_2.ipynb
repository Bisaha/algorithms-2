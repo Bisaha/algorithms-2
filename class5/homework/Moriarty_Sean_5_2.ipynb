{
 "cells": [
  {
   "cell_type": "markdown",
   "metadata": {},
   "source": [
    " Algorithms by Richard Dunks is licensed under a Creative Commons Attribution-NonCommercial-ShareAlike 4.0 International License.Creative-Commons-License\n",
    "Assignment 2\n",
    "\n",
    "    Create two models for the relationship between height and weight based on gender\n",
    "    Modify the code in Assignment 1 to ask for a person's gender as well as their height to produce an estimate of a person's weight using the models you created\n",
    "    Find the weights and use those in your function (i.e. don't generate a model each time)\n"
   ]
  },
  {
   "cell_type": "code",
   "execution_count": 1,
   "metadata": {
    "collapsed": true
   },
   "outputs": [],
   "source": [
    "import pandas as pd\n",
    "import matplotlib.pyplot as plt\n",
    "%matplotlib inline\n",
    "import statsmodels.formula.api as smf"
   ]
  },
  {
   "cell_type": "code",
   "execution_count": 2,
   "metadata": {
    "collapsed": true
   },
   "outputs": [],
   "source": [
    "df = pd.read_csv(\"/home/sean/git/algorithms/class5/data/heights_weights_genders.csv\")"
   ]
  },
  {
   "cell_type": "code",
   "execution_count": 9,
   "metadata": {
    "collapsed": false
   },
   "outputs": [],
   "source": [
    "male_df=df[df['Gender']=='Male']"
   ]
  },
  {
   "cell_type": "code",
   "execution_count": 11,
   "metadata": {
    "collapsed": false
   },
   "outputs": [],
   "source": [
    "male_lm = smf.ols(formula=\"Weight~Height\",data=male_df).fit()"
   ]
  },
  {
   "cell_type": "code",
   "execution_count": 12,
   "metadata": {
    "collapsed": false
   },
   "outputs": [
    {
     "data": {
      "text/plain": [
       "Intercept   -224.498841\n",
       "Height         5.961774\n",
       "dtype: float64"
      ]
     },
     "execution_count": 12,
     "metadata": {},
     "output_type": "execute_result"
    }
   ],
   "source": [
    "male_lm.params"
   ]
  },
  {
   "cell_type": "code",
   "execution_count": 13,
   "metadata": {
    "collapsed": true
   },
   "outputs": [],
   "source": [
    "male_intercept, male_slope = male_lm.params"
   ]
  },
  {
   "cell_type": "code",
   "execution_count": 14,
   "metadata": {
    "collapsed": false
   },
   "outputs": [],
   "source": [
    "female_df=df[df['Gender']=='Female']"
   ]
  },
  {
   "cell_type": "code",
   "execution_count": 15,
   "metadata": {
    "collapsed": false
   },
   "outputs": [],
   "source": [
    "female_lm = smf.ols(formula=\"Weight~Height\",data=female_df).fit()"
   ]
  },
  {
   "cell_type": "code",
   "execution_count": 16,
   "metadata": {
    "collapsed": false
   },
   "outputs": [
    {
     "data": {
      "text/plain": [
       "Intercept   -246.013266\n",
       "Height         5.994047\n",
       "dtype: float64"
      ]
     },
     "execution_count": 16,
     "metadata": {},
     "output_type": "execute_result"
    }
   ],
   "source": [
    "female_lm.params"
   ]
  },
  {
   "cell_type": "code",
   "execution_count": 45,
   "metadata": {
    "collapsed": true
   },
   "outputs": [],
   "source": [
    "female_intercept, female_slope = female_lm.params"
   ]
  },
  {
   "cell_type": "code",
   "execution_count": 17,
   "metadata": {
    "collapsed": true
   },
   "outputs": [],
   "source": [
    "def male_wt_predict(str_ht):\n",
    "    ht=float(str_ht)\n",
    "    return '%s' % float('%.4g' % (male_slope*ht+male_intercept))"
   ]
  },
  {
   "cell_type": "code",
   "execution_count": 18,
   "metadata": {
    "collapsed": true
   },
   "outputs": [],
   "source": [
    "def female_wt_predict(str_ht):\n",
    "    ht=float(str_ht)\n",
    "    return '%s' % float('%.4g' % (female_slope*ht+female_intercept))"
   ]
  },
  {
   "cell_type": "code",
   "execution_count": 19,
   "metadata": {
    "collapsed": true
   },
   "outputs": [],
   "source": [
    "def determine_gender(input_str):\n",
    "    return input_str[0].lower()"
   ]
  },
  {
   "cell_type": "code",
   "execution_count": 49,
   "metadata": {
    "collapsed": false
   },
   "outputs": [
    {
     "name": "stdout",
     "output_type": "stream",
     "text": [
      "Enter your gender, (m)ale or (f)emale: zebra\n",
      "Please enter male or female. You can also just enter m or f: m\n",
      "Enter your height (inches):75\n",
      "Predicted weight of 222.6 lbs from height of 75 in.\n"
     ]
    }
   ],
   "source": [
    "gender_str=input('Enter your gender, (m)ale or (f)emale: ')\n",
    "gender=determine_gender(gender_str)\n",
    "while not (gender == 'm') and not (gender == 'f'):\n",
    "    gender_str=input('Please enter male or female. You can also just enter m or f: ')\n",
    "    gender=determine_gender(gender_str)\n",
    "ht=input('Enter your height (inches):')\n",
    "if gender=='m':\n",
    "    wt=male_wt_predict(ht)\n",
    "else:\n",
    "    wt=female_wt_predict(ht)\n",
    "print('Predicted weight of {} lbs from height of {} in.'.format(wt, ht))    "
   ]
  },
  {
   "cell_type": "code",
   "execution_count": null,
   "metadata": {
    "collapsed": true
   },
   "outputs": [],
   "source": []
  }
 ],
 "metadata": {
  "kernelspec": {
   "display_name": "IPython (Python 3)",
   "language": "python",
   "name": "python3"
  },
  "language_info": {
   "codemirror_mode": {
    "name": "ipython",
    "version": 3
   },
   "file_extension": ".py",
   "mimetype": "text/x-python",
   "name": "python",
   "nbconvert_exporter": "python",
   "pygments_lexer": "ipython3",
   "version": "3.5.1+"
  }
 },
 "nbformat": 4,
 "nbformat_minor": 0
}

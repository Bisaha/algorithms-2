{
 "cells": [
  {
   "cell_type": "markdown",
   "metadata": {},
   "source": [
    "# Assignment 1\n",
    "- Use the data from heights_weights_genders.csv to create a simple predictor that takes in a person's height and guesses their weight based on a model using all the data, regardless of gender.\n",
    "- Find the weights and use those in your function (i.e. don't generate a model each time)"
   ]
  },
  {
   "cell_type": "code",
   "execution_count": 185,
   "metadata": {
    "collapsed": true
   },
   "outputs": [],
   "source": [
    "import pandas as pd\n",
    "import matplotlib.pyplot as plt # package for doing plotting (necessary for adding the line)\n",
    "import statsmodels.formula.api as smf # package we'll be using for linear regression\n",
    "%matplotlib inline"
   ]
  },
  {
   "cell_type": "code",
   "execution_count": 186,
   "metadata": {
    "collapsed": false
   },
   "outputs": [
    {
     "data": {
      "text/html": [
       "<div>\n",
       "<table border=\"1\" class=\"dataframe\">\n",
       "  <thead>\n",
       "    <tr style=\"text-align: right;\">\n",
       "      <th></th>\n",
       "      <th>Gender</th>\n",
       "      <th>Height</th>\n",
       "      <th>Weight</th>\n",
       "    </tr>\n",
       "  </thead>\n",
       "  <tbody>\n",
       "    <tr>\n",
       "      <th>0</th>\n",
       "      <td>Male</td>\n",
       "      <td>73.847017</td>\n",
       "      <td>241.893563</td>\n",
       "    </tr>\n",
       "    <tr>\n",
       "      <th>1</th>\n",
       "      <td>Male</td>\n",
       "      <td>68.781904</td>\n",
       "      <td>162.310473</td>\n",
       "    </tr>\n",
       "    <tr>\n",
       "      <th>2</th>\n",
       "      <td>Male</td>\n",
       "      <td>74.110105</td>\n",
       "      <td>212.740856</td>\n",
       "    </tr>\n",
       "  </tbody>\n",
       "</table>\n",
       "</div>"
      ],
      "text/plain": [
       "  Gender     Height      Weight\n",
       "0   Male  73.847017  241.893563\n",
       "1   Male  68.781904  162.310473\n",
       "2   Male  74.110105  212.740856"
      ]
     },
     "execution_count": 186,
     "metadata": {},
     "output_type": "execute_result"
    }
   ],
   "source": [
    "# Load the data.\n",
    "df = pd.read_csv('../data/heights_weights_genders.csv')\n",
    "df.head(3)"
   ]
  },
  {
   "cell_type": "code",
   "execution_count": 187,
   "metadata": {
    "collapsed": false
   },
   "outputs": [
    {
     "data": {
      "text/plain": [
       "<matplotlib.axes._subplots.AxesSubplot at 0x7fe47ea9b160>"
      ]
     },
     "execution_count": 187,
     "metadata": {},
     "output_type": "execute_result"
    },
    {
     "data": {
      "image/png": "[encoded data removed]",
      "text/plain": [
       "<matplotlib.figure.Figure at 0x7fe47ebad0f0>"
      ]
     },
     "metadata": {},
     "output_type": "display_data"
    }
   ],
   "source": [
    "# Take a look at it. \n",
    "df.plot(kind=\"scatter\",x=\"Height\",y=\"Weight\")"
   ]
  },
  {
   "cell_type": "code",
   "execution_count": 188,
   "metadata": {
    "collapsed": true
   },
   "outputs": [],
   "source": [
    "lm = smf.ols(formula=\"Weight~Height\",data=df).fit()\n",
    "lm.params\n",
    "intercept, height = lm.params"
   ]
  },
  {
   "cell_type": "code",
   "execution_count": 189,
   "metadata": {
    "collapsed": true
   },
   "outputs": [],
   "source": [
    "# Function using the built math. \n",
    "def simplest_predictor(user_height, height, intercept):\n",
    "    height = float(height)\n",
    "    intercept = float(intercept)\n",
    "    user_height = float(user_height)\n",
    "    return height*user_height+intercept"
   ]
  },
  {
   "cell_type": "code",
   "execution_count": 190,
   "metadata": {
    "collapsed": false
   },
   "outputs": [
    {
     "name": "stdout",
     "output_type": "stream",
     "text": [
      "Please enter your height in inches: 70\n",
      "Your weight will probably be around 189.47294304284964 pounds.\n"
     ]
    }
   ],
   "source": [
    "# Input the data\n",
    "user_height = input(\"Please enter your height in inches: \")\n",
    "print(\"Your weight will probably be around\", simplest_predictor(user_height,height,intercept), \"pounds.\")"
   ]
  },
  {
   "cell_type": "code",
   "execution_count": 191,
   "metadata": {
    "collapsed": false
   },
   "outputs": [],
   "source": [
    "# But how could I do that without using the built in formulas?\n",
    "# Let's generate some simplified reference data.\n",
    "ref_dict = {}\n",
    "inches = range(54,79)\n",
    "for inch in inches:\n",
    "    ref_dict[inch] = df.loc[(df[\"Height\"] > inch) & (df[\"Height\"] < inch + 1), \"Weight\"].median()"
   ]
  },
  {
   "cell_type": "code",
   "execution_count": 192,
   "metadata": {
    "collapsed": false
   },
   "outputs": [],
   "source": [
    "# Function to print out the corresponding weight value\n",
    "def simple_predictor(height):\n",
    "    height = float(height)\n",
    "    try:\n",
    "        if height > 78 or height < 54:\n",
    "            print(\"Sorry, we don't have enough data to compute your weight.\")\n",
    "        else:\n",
    "            print(\"Your weight is probably around\", round(ref_dict[height]), \"pounds.\") \n",
    "    except:\n",
    "        print(\"Sorry, we don't understand your input.\")  "
   ]
  },
  {
   "cell_type": "code",
   "execution_count": 193,
   "metadata": {
    "collapsed": false
   },
   "outputs": [
    {
     "name": "stdout",
     "output_type": "stream",
     "text": [
      "Please enter your Height in Inches: 70\n",
      "Your weight is probably around 195 pounds.\n"
     ]
    }
   ],
   "source": [
    "# Input the data\n",
    "height = input(\"Please enter your Height in Inches: \")\n",
    "simple_predictor(height)"
   ]
  },
  {
   "cell_type": "code",
   "execution_count": 210,
   "metadata": {
    "collapsed": false
   },
   "outputs": [
    {
     "data": {
      "text/html": [
       "<div>\n",
       "<table border=\"1\" class=\"dataframe\">\n",
       "  <thead>\n",
       "    <tr style=\"text-align: right;\">\n",
       "      <th></th>\n",
       "      <th>Weight</th>\n",
       "      <th>divided</th>\n",
       "      <th>intercept</th>\n",
       "    </tr>\n",
       "  </thead>\n",
       "  <tbody>\n",
       "    <tr>\n",
       "      <th>54</th>\n",
       "      <td>71.393749</td>\n",
       "      <td>0.756369</td>\n",
       "      <td>NaN</td>\n",
       "    </tr>\n",
       "    <tr>\n",
       "      <th>55</th>\n",
       "      <td>88.366583</td>\n",
       "      <td>0.622407</td>\n",
       "      <td>0.133962</td>\n",
       "    </tr>\n",
       "    <tr>\n",
       "      <th>56</th>\n",
       "      <td>90.815256</td>\n",
       "      <td>0.616636</td>\n",
       "      <td>0.005771</td>\n",
       "    </tr>\n",
       "    <tr>\n",
       "      <th>57</th>\n",
       "      <td>98.719001</td>\n",
       "      <td>0.577396</td>\n",
       "      <td>0.039240</td>\n",
       "    </tr>\n",
       "    <tr>\n",
       "      <th>58</th>\n",
       "      <td>103.651090</td>\n",
       "      <td>0.559570</td>\n",
       "      <td>0.017827</td>\n",
       "    </tr>\n",
       "    <tr>\n",
       "      <th>59</th>\n",
       "      <td>111.033241</td>\n",
       "      <td>0.531372</td>\n",
       "      <td>0.028197</td>\n",
       "    </tr>\n",
       "    <tr>\n",
       "      <th>60</th>\n",
       "      <td>117.069213</td>\n",
       "      <td>0.512517</td>\n",
       "      <td>0.018855</td>\n",
       "    </tr>\n",
       "    <tr>\n",
       "      <th>61</th>\n",
       "      <td>123.027361</td>\n",
       "      <td>0.495825</td>\n",
       "      <td>0.016693</td>\n",
       "    </tr>\n",
       "    <tr>\n",
       "      <th>62</th>\n",
       "      <td>129.933112</td>\n",
       "      <td>0.477169</td>\n",
       "      <td>0.018656</td>\n",
       "    </tr>\n",
       "    <tr>\n",
       "      <th>63</th>\n",
       "      <td>136.373330</td>\n",
       "      <td>0.461967</td>\n",
       "      <td>0.015201</td>\n",
       "    </tr>\n",
       "    <tr>\n",
       "      <th>64</th>\n",
       "      <td>143.510328</td>\n",
       "      <td>0.445961</td>\n",
       "      <td>0.016006</td>\n",
       "    </tr>\n",
       "    <tr>\n",
       "      <th>65</th>\n",
       "      <td>152.037420</td>\n",
       "      <td>0.427526</td>\n",
       "      <td>0.018435</td>\n",
       "    </tr>\n",
       "    <tr>\n",
       "      <th>66</th>\n",
       "      <td>162.022497</td>\n",
       "      <td>0.407351</td>\n",
       "      <td>0.020175</td>\n",
       "    </tr>\n",
       "    <tr>\n",
       "      <th>67</th>\n",
       "      <td>172.652115</td>\n",
       "      <td>0.388064</td>\n",
       "      <td>0.019287</td>\n",
       "    </tr>\n",
       "    <tr>\n",
       "      <th>68</th>\n",
       "      <td>181.305740</td>\n",
       "      <td>0.375057</td>\n",
       "      <td>0.013007</td>\n",
       "    </tr>\n",
       "    <tr>\n",
       "      <th>69</th>\n",
       "      <td>188.247304</td>\n",
       "      <td>0.366539</td>\n",
       "      <td>0.008518</td>\n",
       "    </tr>\n",
       "    <tr>\n",
       "      <th>70</th>\n",
       "      <td>194.695573</td>\n",
       "      <td>0.359536</td>\n",
       "      <td>0.007003</td>\n",
       "    </tr>\n",
       "    <tr>\n",
       "      <th>71</th>\n",
       "      <td>202.249437</td>\n",
       "      <td>0.351052</td>\n",
       "      <td>0.008484</td>\n",
       "    </tr>\n",
       "    <tr>\n",
       "      <th>72</th>\n",
       "      <td>206.092730</td>\n",
       "      <td>0.349357</td>\n",
       "      <td>0.001694</td>\n",
       "    </tr>\n",
       "    <tr>\n",
       "      <th>73</th>\n",
       "      <td>213.546687</td>\n",
       "      <td>0.341846</td>\n",
       "      <td>0.007512</td>\n",
       "    </tr>\n",
       "    <tr>\n",
       "      <th>74</th>\n",
       "      <td>218.423584</td>\n",
       "      <td>0.338791</td>\n",
       "      <td>0.003054</td>\n",
       "    </tr>\n",
       "    <tr>\n",
       "      <th>75</th>\n",
       "      <td>224.440459</td>\n",
       "      <td>0.334164</td>\n",
       "      <td>0.004627</td>\n",
       "    </tr>\n",
       "    <tr>\n",
       "      <th>76</th>\n",
       "      <td>235.236692</td>\n",
       "      <td>0.323079</td>\n",
       "      <td>0.011085</td>\n",
       "    </tr>\n",
       "    <tr>\n",
       "      <th>77</th>\n",
       "      <td>242.041173</td>\n",
       "      <td>0.318128</td>\n",
       "      <td>0.004951</td>\n",
       "    </tr>\n",
       "    <tr>\n",
       "      <th>78</th>\n",
       "      <td>253.889004</td>\n",
       "      <td>0.307221</td>\n",
       "      <td>0.010907</td>\n",
       "    </tr>\n",
       "  </tbody>\n",
       "</table>\n",
       "</div>"
      ],
      "text/plain": [
       "        Weight   divided  intercept\n",
       "54   71.393749  0.756369        NaN\n",
       "55   88.366583  0.622407   0.133962\n",
       "56   90.815256  0.616636   0.005771\n",
       "57   98.719001  0.577396   0.039240\n",
       "58  103.651090  0.559570   0.017827\n",
       "59  111.033241  0.531372   0.028197\n",
       "60  117.069213  0.512517   0.018855\n",
       "61  123.027361  0.495825   0.016693\n",
       "62  129.933112  0.477169   0.018656\n",
       "63  136.373330  0.461967   0.015201\n",
       "64  143.510328  0.445961   0.016006\n",
       "65  152.037420  0.427526   0.018435\n",
       "66  162.022497  0.407351   0.020175\n",
       "67  172.652115  0.388064   0.019287\n",
       "68  181.305740  0.375057   0.013007\n",
       "69  188.247304  0.366539   0.008518\n",
       "70  194.695573  0.359536   0.007003\n",
       "71  202.249437  0.351052   0.008484\n",
       "72  206.092730  0.349357   0.001694\n",
       "73  213.546687  0.341846   0.007512\n",
       "74  218.423584  0.338791   0.003054\n",
       "75  224.440459  0.334164   0.004627\n",
       "76  235.236692  0.323079   0.011085\n",
       "77  242.041173  0.318128   0.004951\n",
       "78  253.889004  0.307221   0.010907"
      ]
     },
     "execution_count": 210,
     "metadata": {},
     "output_type": "execute_result"
    }
   ],
   "source": [
    "# Unfortunately, the first predictor is not really a predictor. It just compares with others. \n",
    "# It is useless if there is no data. Let's try to find another way. \n",
    "df_ref = pd.DataFrame(ref_dict, index=['Weight'])\n",
    "df_ref = df_ref.transpose()\n",
    "df_ref['divided'] = df_ref.index / df_ref['Weight']\n",
    "df_ref['intercept'] = df_ref['divided'].shift(1) - df_ref['divided']\n",
    "df_ref"
   ]
  },
  {
   "cell_type": "code",
   "execution_count": 211,
   "metadata": {
    "collapsed": false
   },
   "outputs": [
    {
     "data": {
      "text/plain": [
       "0.014103974532151037"
      ]
     },
     "execution_count": 211,
     "metadata": {},
     "output_type": "execute_result"
    }
   ],
   "source": [
    "# Let's create a 'magic number' out of the 'divided' column. \n",
    "# We are using this number to calculate unknown inputs. The formula: Weight = Height * divided\n",
    "magicnumber = float(df_ref['divided'].median())\n",
    "magicintercept = float(df_ref['intercept'].median())"
   ]
  },
  {
   "cell_type": "code",
   "execution_count": 212,
   "metadata": {
    "collapsed": true
   },
   "outputs": [],
   "source": [
    "def simple_predictor_2(height2, magicnumber):\n",
    "    height2 = float(height2)\n",
    "    return height2 / magicnumber + magicintercept"
   ]
  },
  {
   "cell_type": "code",
   "execution_count": 213,
   "metadata": {
    "collapsed": false
   },
   "outputs": [
    {
     "name": "stdout",
     "output_type": "stream",
     "text": [
      "Please enter your height in inches: 70\n",
      "Your weight is probably around 171.85614620312975 pounds.\n"
     ]
    }
   ],
   "source": [
    "# Get the user data. \n",
    "height2 = input(\"Please enter your height in inches: \")\n",
    "print(\"Your weight is probably around\", simple_predictor_2(height2,magicnumber), \"pounds.\")"
   ]
  }
 ],
 "metadata": {
  "kernelspec": {
   "display_name": "Python 3",
   "language": "python",
   "name": "python3"
  },
  "language_info": {
   "codemirror_mode": {
    "name": "ipython",
    "version": 3
   },
   "file_extension": ".py",
   "mimetype": "text/x-python",
   "name": "python",
   "nbconvert_exporter": "python",
   "pygments_lexer": "ipython3",
   "version": "3.5.2"
  }
 },
 "nbformat": 4,
 "nbformat_minor": 0
}

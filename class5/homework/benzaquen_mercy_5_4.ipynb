{
 "cells": [
  {
   "cell_type": "markdown",
   "metadata": {},
   "source": [
    "# Using data from this FiveThirtyEight post, write code to calculate the correlation of the responses from the poll.\n",
    "Respond to the story in your PR. Is this a good example of data journalism? Why or why not?"
   ]
  },
  {
   "cell_type": "code",
   "execution_count": 36,
   "metadata": {
    "collapsed": false
   },
   "outputs": [],
   "source": [
    "import pandas as pd\n",
    "%matplotlib inline\n",
    "import statsmodels.formula.api as smf\n",
    "import matplotlib.pyplot as plt"
   ]
  },
  {
   "cell_type": "code",
   "execution_count": 213,
   "metadata": {
    "collapsed": false
   },
   "outputs": [],
   "source": [
    "df = pd.read_excel(\"Iran_data_3.xlsx\")"
   ]
  },
  {
   "cell_type": "code",
   "execution_count": 214,
   "metadata": {
    "collapsed": false
   },
   "outputs": [
    {
     "data": {
      "text/html": [
       "<div>\n",
       "<table border=\"1\" class=\"dataframe\">\n",
       "  <thead>\n",
       "    <tr style=\"text-align: right;\">\n",
       "      <th></th>\n",
       "      <th>Subject</th>\n",
       "      <th>Sentiment</th>\n",
       "      <th>Total</th>\n",
       "      <th>Dem</th>\n",
       "      <th>Rep</th>\n",
       "      <th>Ind</th>\n",
       "      <th>Men</th>\n",
       "      <th>Women</th>\n",
       "      <th>White</th>\n",
       "      <th>Black</th>\n",
       "      <th>...</th>\n",
       "      <th>No Degree</th>\n",
       "      <th>Under Age 35</th>\n",
       "      <th>35-54</th>\n",
       "      <th>55+</th>\n",
       "      <th>65+</th>\n",
       "      <th>Under $50k</th>\n",
       "      <th>$50k+</th>\n",
       "      <th>Lib</th>\n",
       "      <th>Cons</th>\n",
       "      <th>Party</th>\n",
       "    </tr>\n",
       "  </thead>\n",
       "  <tbody>\n",
       "    <tr>\n",
       "      <th>0</th>\n",
       "      <td>Obama</td>\n",
       "      <td>Approve</td>\n",
       "      <td>0.44</td>\n",
       "      <td>0.78</td>\n",
       "      <td>0.10</td>\n",
       "      <td>0.37</td>\n",
       "      <td>0.41</td>\n",
       "      <td>0.47</td>\n",
       "      <td>0.35</td>\n",
       "      <td>0.85</td>\n",
       "      <td>...</td>\n",
       "      <td>0.43</td>\n",
       "      <td>0.56</td>\n",
       "      <td>0.35</td>\n",
       "      <td>0.45</td>\n",
       "      <td>0.43</td>\n",
       "      <td>0.48</td>\n",
       "      <td>0.42</td>\n",
       "      <td>0.69</td>\n",
       "      <td>0.24</td>\n",
       "      <td>0.15</td>\n",
       "    </tr>\n",
       "    <tr>\n",
       "      <th>1</th>\n",
       "      <td>Obama</td>\n",
       "      <td>Disapprove</td>\n",
       "      <td>0.50</td>\n",
       "      <td>0.17</td>\n",
       "      <td>0.86</td>\n",
       "      <td>0.53</td>\n",
       "      <td>0.53</td>\n",
       "      <td>0.47</td>\n",
       "      <td>0.60</td>\n",
       "      <td>0.07</td>\n",
       "      <td>...</td>\n",
       "      <td>0.52</td>\n",
       "      <td>0.36</td>\n",
       "      <td>0.60</td>\n",
       "      <td>0.50</td>\n",
       "      <td>0.52</td>\n",
       "      <td>0.46</td>\n",
       "      <td>0.52</td>\n",
       "      <td>0.24</td>\n",
       "      <td>0.72</td>\n",
       "      <td>0.82</td>\n",
       "    </tr>\n",
       "    <tr>\n",
       "      <th>2</th>\n",
       "      <td>Obama</td>\n",
       "      <td>(Don't know)</td>\n",
       "      <td>0.06</td>\n",
       "      <td>0.05</td>\n",
       "      <td>0.04</td>\n",
       "      <td>0.10</td>\n",
       "      <td>0.05</td>\n",
       "      <td>0.06</td>\n",
       "      <td>0.05</td>\n",
       "      <td>0.08</td>\n",
       "      <td>...</td>\n",
       "      <td>0.06</td>\n",
       "      <td>0.08</td>\n",
       "      <td>0.04</td>\n",
       "      <td>0.05</td>\n",
       "      <td>0.05</td>\n",
       "      <td>0.05</td>\n",
       "      <td>0.05</td>\n",
       "      <td>0.06</td>\n",
       "      <td>0.04</td>\n",
       "      <td>0.02</td>\n",
       "    </tr>\n",
       "    <tr>\n",
       "      <th>3</th>\n",
       "      <td>Negotiations</td>\n",
       "      <td>Very confident</td>\n",
       "      <td>0.17</td>\n",
       "      <td>0.29</td>\n",
       "      <td>0.04</td>\n",
       "      <td>0.15</td>\n",
       "      <td>0.17</td>\n",
       "      <td>0.17</td>\n",
       "      <td>0.11</td>\n",
       "      <td>0.37</td>\n",
       "      <td>...</td>\n",
       "      <td>0.14</td>\n",
       "      <td>0.18</td>\n",
       "      <td>0.13</td>\n",
       "      <td>0.19</td>\n",
       "      <td>0.18</td>\n",
       "      <td>0.18</td>\n",
       "      <td>0.16</td>\n",
       "      <td>0.24</td>\n",
       "      <td>0.10</td>\n",
       "      <td>0.06</td>\n",
       "    </tr>\n",
       "    <tr>\n",
       "      <th>4</th>\n",
       "      <td>Negotiations</td>\n",
       "      <td>Somewhat confident</td>\n",
       "      <td>0.31</td>\n",
       "      <td>0.49</td>\n",
       "      <td>0.13</td>\n",
       "      <td>0.29</td>\n",
       "      <td>0.28</td>\n",
       "      <td>0.35</td>\n",
       "      <td>0.29</td>\n",
       "      <td>0.46</td>\n",
       "      <td>...</td>\n",
       "      <td>0.29</td>\n",
       "      <td>0.39</td>\n",
       "      <td>0.29</td>\n",
       "      <td>0.29</td>\n",
       "      <td>0.26</td>\n",
       "      <td>0.34</td>\n",
       "      <td>0.31</td>\n",
       "      <td>0.48</td>\n",
       "      <td>0.19</td>\n",
       "      <td>0.11</td>\n",
       "    </tr>\n",
       "    <tr>\n",
       "      <th>5</th>\n",
       "      <td>Negotiations</td>\n",
       "      <td>Not very confident</td>\n",
       "      <td>0.19</td>\n",
       "      <td>0.11</td>\n",
       "      <td>0.26</td>\n",
       "      <td>0.22</td>\n",
       "      <td>0.18</td>\n",
       "      <td>0.19</td>\n",
       "      <td>0.21</td>\n",
       "      <td>0.06</td>\n",
       "      <td>...</td>\n",
       "      <td>0.22</td>\n",
       "      <td>0.23</td>\n",
       "      <td>0.20</td>\n",
       "      <td>0.15</td>\n",
       "      <td>0.14</td>\n",
       "      <td>0.16</td>\n",
       "      <td>0.20</td>\n",
       "      <td>0.16</td>\n",
       "      <td>0.22</td>\n",
       "      <td>0.16</td>\n",
       "    </tr>\n",
       "    <tr>\n",
       "      <th>6</th>\n",
       "      <td>Negotiations</td>\n",
       "      <td>Not at all confident</td>\n",
       "      <td>0.31</td>\n",
       "      <td>0.08</td>\n",
       "      <td>0.57</td>\n",
       "      <td>0.32</td>\n",
       "      <td>0.35</td>\n",
       "      <td>0.27</td>\n",
       "      <td>0.37</td>\n",
       "      <td>0.05</td>\n",
       "      <td>...</td>\n",
       "      <td>0.32</td>\n",
       "      <td>0.17</td>\n",
       "      <td>0.38</td>\n",
       "      <td>0.34</td>\n",
       "      <td>0.40</td>\n",
       "      <td>0.29</td>\n",
       "      <td>0.32</td>\n",
       "      <td>0.11</td>\n",
       "      <td>0.47</td>\n",
       "      <td>0.67</td>\n",
       "    </tr>\n",
       "    <tr>\n",
       "      <th>7</th>\n",
       "      <td>Negotiations</td>\n",
       "      <td>(Don't know)</td>\n",
       "      <td>0.02</td>\n",
       "      <td>0.04</td>\n",
       "      <td>0.01</td>\n",
       "      <td>0.02</td>\n",
       "      <td>0.02</td>\n",
       "      <td>0.02</td>\n",
       "      <td>0.02</td>\n",
       "      <td>0.05</td>\n",
       "      <td>...</td>\n",
       "      <td>0.03</td>\n",
       "      <td>0.03</td>\n",
       "      <td>0.00</td>\n",
       "      <td>0.03</td>\n",
       "      <td>0.02</td>\n",
       "      <td>0.03</td>\n",
       "      <td>0.01</td>\n",
       "      <td>0.01</td>\n",
       "      <td>0.02</td>\n",
       "      <td>0.00</td>\n",
       "    </tr>\n",
       "    <tr>\n",
       "      <th>8</th>\n",
       "      <td>Deal</td>\n",
       "      <td>Favor</td>\n",
       "      <td>0.47</td>\n",
       "      <td>0.60</td>\n",
       "      <td>0.34</td>\n",
       "      <td>0.44</td>\n",
       "      <td>0.46</td>\n",
       "      <td>0.47</td>\n",
       "      <td>0.45</td>\n",
       "      <td>0.54</td>\n",
       "      <td>...</td>\n",
       "      <td>0.45</td>\n",
       "      <td>0.51</td>\n",
       "      <td>0.46</td>\n",
       "      <td>0.45</td>\n",
       "      <td>0.41</td>\n",
       "      <td>0.47</td>\n",
       "      <td>0.48</td>\n",
       "      <td>0.61</td>\n",
       "      <td>0.35</td>\n",
       "      <td>0.35</td>\n",
       "    </tr>\n",
       "    <tr>\n",
       "      <th>9</th>\n",
       "      <td>Deal</td>\n",
       "      <td>Oppose</td>\n",
       "      <td>0.43</td>\n",
       "      <td>0.26</td>\n",
       "      <td>0.60</td>\n",
       "      <td>0.49</td>\n",
       "      <td>0.48</td>\n",
       "      <td>0.39</td>\n",
       "      <td>0.46</td>\n",
       "      <td>0.31</td>\n",
       "      <td>...</td>\n",
       "      <td>0.45</td>\n",
       "      <td>0.37</td>\n",
       "      <td>0.47</td>\n",
       "      <td>0.44</td>\n",
       "      <td>0.49</td>\n",
       "      <td>0.45</td>\n",
       "      <td>0.41</td>\n",
       "      <td>0.28</td>\n",
       "      <td>0.56</td>\n",
       "      <td>0.61</td>\n",
       "    </tr>\n",
       "    <tr>\n",
       "      <th>10</th>\n",
       "      <td>Deal</td>\n",
       "      <td>(Don't know)</td>\n",
       "      <td>0.10</td>\n",
       "      <td>0.14</td>\n",
       "      <td>0.06</td>\n",
       "      <td>0.07</td>\n",
       "      <td>0.06</td>\n",
       "      <td>0.14</td>\n",
       "      <td>0.09</td>\n",
       "      <td>0.15</td>\n",
       "      <td>...</td>\n",
       "      <td>0.10</td>\n",
       "      <td>0.12</td>\n",
       "      <td>0.07</td>\n",
       "      <td>0.11</td>\n",
       "      <td>0.10</td>\n",
       "      <td>0.09</td>\n",
       "      <td>0.11</td>\n",
       "      <td>0.11</td>\n",
       "      <td>0.09</td>\n",
       "      <td>0.04</td>\n",
       "    </tr>\n",
       "  </tbody>\n",
       "</table>\n",
       "<p>11 rows × 21 columns</p>\n",
       "</div>"
      ],
      "text/plain": [
       "         Subject             Sentiment  Total   Dem   Rep   Ind   Men  Women  \\\n",
       "0          Obama               Approve   0.44  0.78  0.10  0.37  0.41   0.47   \n",
       "1          Obama            Disapprove   0.50  0.17  0.86  0.53  0.53   0.47   \n",
       "2          Obama          (Don't know)   0.06  0.05  0.04  0.10  0.05   0.06   \n",
       "3   Negotiations        Very confident   0.17  0.29  0.04  0.15  0.17   0.17   \n",
       "4   Negotiations    Somewhat confident   0.31  0.49  0.13  0.29  0.28   0.35   \n",
       "5   Negotiations    Not very confident   0.19  0.11  0.26  0.22  0.18   0.19   \n",
       "6   Negotiations  Not at all confident   0.31  0.08  0.57  0.32  0.35   0.27   \n",
       "7   Negotiations          (Don't know)   0.02  0.04  0.01  0.02  0.02   0.02   \n",
       "8           Deal                 Favor   0.47  0.60  0.34  0.44  0.46   0.47   \n",
       "9           Deal                Oppose   0.43  0.26  0.60  0.49  0.48   0.39   \n",
       "10          Deal          (Don't know)   0.10  0.14  0.06  0.07  0.06   0.14   \n",
       "\n",
       "    White  Black   ...    No Degree  Under Age 35  35-54   55+   65+  \\\n",
       "0    0.35   0.85   ...         0.43          0.56   0.35  0.45  0.43   \n",
       "1    0.60   0.07   ...         0.52          0.36   0.60  0.50  0.52   \n",
       "2    0.05   0.08   ...         0.06          0.08   0.04  0.05  0.05   \n",
       "3    0.11   0.37   ...         0.14          0.18   0.13  0.19  0.18   \n",
       "4    0.29   0.46   ...         0.29          0.39   0.29  0.29  0.26   \n",
       "5    0.21   0.06   ...         0.22          0.23   0.20  0.15  0.14   \n",
       "6    0.37   0.05   ...         0.32          0.17   0.38  0.34  0.40   \n",
       "7    0.02   0.05   ...         0.03          0.03   0.00  0.03  0.02   \n",
       "8    0.45   0.54   ...         0.45          0.51   0.46  0.45  0.41   \n",
       "9    0.46   0.31   ...         0.45          0.37   0.47  0.44  0.49   \n",
       "10   0.09   0.15   ...         0.10          0.12   0.07  0.11  0.10   \n",
       "\n",
       "    Under $50k  $50k+   Lib  Cons  Party   \n",
       "0         0.48   0.42  0.69  0.24    0.15  \n",
       "1         0.46   0.52  0.24  0.72    0.82  \n",
       "2         0.05   0.05  0.06  0.04    0.02  \n",
       "3         0.18   0.16  0.24  0.10    0.06  \n",
       "4         0.34   0.31  0.48  0.19    0.11  \n",
       "5         0.16   0.20  0.16  0.22    0.16  \n",
       "6         0.29   0.32  0.11  0.47    0.67  \n",
       "7         0.03   0.01  0.01  0.02    0.00  \n",
       "8         0.47   0.48  0.61  0.35    0.35  \n",
       "9         0.45   0.41  0.28  0.56    0.61  \n",
       "10        0.09   0.11  0.11  0.09    0.04  \n",
       "\n",
       "[11 rows x 21 columns]"
      ]
     },
     "execution_count": 214,
     "metadata": {},
     "output_type": "execute_result"
    }
   ],
   "source": [
    "df"
   ]
  },
  {
   "cell_type": "markdown",
   "metadata": {},
   "source": [
    "# Create a new df just with data for Approve of Obama"
   ]
  },
  {
   "cell_type": "code",
   "execution_count": 215,
   "metadata": {
    "collapsed": true
   },
   "outputs": [],
   "source": [
    "df_obama_approve = df[df['Sentiment'] == 'Approve']"
   ]
  },
  {
   "cell_type": "code",
   "execution_count": 216,
   "metadata": {
    "collapsed": false
   },
   "outputs": [
    {
     "data": {
      "text/html": [
       "<div>\n",
       "<table border=\"1\" class=\"dataframe\">\n",
       "  <thead>\n",
       "    <tr style=\"text-align: right;\">\n",
       "      <th></th>\n",
       "      <th>Subject</th>\n",
       "      <th>Sentiment</th>\n",
       "      <th>Total</th>\n",
       "      <th>Dem</th>\n",
       "      <th>Rep</th>\n",
       "      <th>Ind</th>\n",
       "      <th>Men</th>\n",
       "      <th>Women</th>\n",
       "      <th>White</th>\n",
       "      <th>Black</th>\n",
       "      <th>...</th>\n",
       "      <th>No Degree</th>\n",
       "      <th>Under Age 35</th>\n",
       "      <th>35-54</th>\n",
       "      <th>55+</th>\n",
       "      <th>65+</th>\n",
       "      <th>Under $50k</th>\n",
       "      <th>$50k+</th>\n",
       "      <th>Lib</th>\n",
       "      <th>Cons</th>\n",
       "      <th>Party</th>\n",
       "    </tr>\n",
       "  </thead>\n",
       "  <tbody>\n",
       "    <tr>\n",
       "      <th>0</th>\n",
       "      <td>Obama</td>\n",
       "      <td>Approve</td>\n",
       "      <td>0.44</td>\n",
       "      <td>0.78</td>\n",
       "      <td>0.1</td>\n",
       "      <td>0.37</td>\n",
       "      <td>0.41</td>\n",
       "      <td>0.47</td>\n",
       "      <td>0.35</td>\n",
       "      <td>0.85</td>\n",
       "      <td>...</td>\n",
       "      <td>0.43</td>\n",
       "      <td>0.56</td>\n",
       "      <td>0.35</td>\n",
       "      <td>0.45</td>\n",
       "      <td>0.43</td>\n",
       "      <td>0.48</td>\n",
       "      <td>0.42</td>\n",
       "      <td>0.69</td>\n",
       "      <td>0.24</td>\n",
       "      <td>0.15</td>\n",
       "    </tr>\n",
       "  </tbody>\n",
       "</table>\n",
       "<p>1 rows × 21 columns</p>\n",
       "</div>"
      ],
      "text/plain": [
       "  Subject Sentiment  Total   Dem  Rep   Ind   Men  Women  White  Black  \\\n",
       "0   Obama   Approve   0.44  0.78  0.1  0.37  0.41   0.47   0.35   0.85   \n",
       "\n",
       "    ...    No Degree  Under Age 35  35-54   55+   65+  Under $50k  $50k+  \\\n",
       "0   ...         0.43          0.56   0.35  0.45  0.43        0.48   0.42   \n",
       "\n",
       "    Lib  Cons  Party   \n",
       "0  0.69  0.24    0.15  \n",
       "\n",
       "[1 rows x 21 columns]"
      ]
     },
     "execution_count": 216,
     "metadata": {},
     "output_type": "execute_result"
    }
   ],
   "source": [
    "df_obama_approve"
   ]
  },
  {
   "cell_type": "code",
   "execution_count": 217,
   "metadata": {
    "collapsed": true
   },
   "outputs": [],
   "source": [
    "del df_obama_approve['Sentiment']"
   ]
  },
  {
   "cell_type": "markdown",
   "metadata": {},
   "source": [
    "# Create a new df just with data for In favor of the Iran deal"
   ]
  },
  {
   "cell_type": "code",
   "execution_count": 218,
   "metadata": {
    "collapsed": true
   },
   "outputs": [],
   "source": [
    "df_favor_iran_deal = df[df['Sentiment'] == 'Favor']"
   ]
  },
  {
   "cell_type": "code",
   "execution_count": 219,
   "metadata": {
    "collapsed": false
   },
   "outputs": [
    {
     "data": {
      "text/html": [
       "<div>\n",
       "<table border=\"1\" class=\"dataframe\">\n",
       "  <thead>\n",
       "    <tr style=\"text-align: right;\">\n",
       "      <th></th>\n",
       "      <th>Subject</th>\n",
       "      <th>Sentiment</th>\n",
       "      <th>Total</th>\n",
       "      <th>Dem</th>\n",
       "      <th>Rep</th>\n",
       "      <th>Ind</th>\n",
       "      <th>Men</th>\n",
       "      <th>Women</th>\n",
       "      <th>White</th>\n",
       "      <th>Black</th>\n",
       "      <th>...</th>\n",
       "      <th>No Degree</th>\n",
       "      <th>Under Age 35</th>\n",
       "      <th>35-54</th>\n",
       "      <th>55+</th>\n",
       "      <th>65+</th>\n",
       "      <th>Under $50k</th>\n",
       "      <th>$50k+</th>\n",
       "      <th>Lib</th>\n",
       "      <th>Cons</th>\n",
       "      <th>Party</th>\n",
       "    </tr>\n",
       "  </thead>\n",
       "  <tbody>\n",
       "    <tr>\n",
       "      <th>8</th>\n",
       "      <td>Deal</td>\n",
       "      <td>Favor</td>\n",
       "      <td>0.47</td>\n",
       "      <td>0.6</td>\n",
       "      <td>0.34</td>\n",
       "      <td>0.44</td>\n",
       "      <td>0.46</td>\n",
       "      <td>0.47</td>\n",
       "      <td>0.45</td>\n",
       "      <td>0.54</td>\n",
       "      <td>...</td>\n",
       "      <td>0.45</td>\n",
       "      <td>0.51</td>\n",
       "      <td>0.46</td>\n",
       "      <td>0.45</td>\n",
       "      <td>0.41</td>\n",
       "      <td>0.47</td>\n",
       "      <td>0.48</td>\n",
       "      <td>0.61</td>\n",
       "      <td>0.35</td>\n",
       "      <td>0.35</td>\n",
       "    </tr>\n",
       "  </tbody>\n",
       "</table>\n",
       "<p>1 rows × 21 columns</p>\n",
       "</div>"
      ],
      "text/plain": [
       "  Subject Sentiment  Total  Dem   Rep   Ind   Men  Women  White  Black  \\\n",
       "8    Deal     Favor   0.47  0.6  0.34  0.44  0.46   0.47   0.45   0.54   \n",
       "\n",
       "    ...    No Degree  Under Age 35  35-54   55+   65+  Under $50k  $50k+  \\\n",
       "8   ...         0.45          0.51   0.46  0.45  0.41        0.47   0.48   \n",
       "\n",
       "    Lib  Cons  Party   \n",
       "8  0.61  0.35    0.35  \n",
       "\n",
       "[1 rows x 21 columns]"
      ]
     },
     "execution_count": 219,
     "metadata": {},
     "output_type": "execute_result"
    }
   ],
   "source": [
    "df_favor_iran_deal"
   ]
  },
  {
   "cell_type": "code",
   "execution_count": 220,
   "metadata": {
    "collapsed": false
   },
   "outputs": [],
   "source": [
    "del df_favor_iran_deal['Sentiment']"
   ]
  },
  {
   "cell_type": "code",
   "execution_count": 221,
   "metadata": {
    "collapsed": false
   },
   "outputs": [
    {
     "data": {
      "text/html": [
       "<div>\n",
       "<table border=\"1\" class=\"dataframe\">\n",
       "  <thead>\n",
       "    <tr style=\"text-align: right;\">\n",
       "      <th></th>\n",
       "      <th>Subject</th>\n",
       "      <th>Total</th>\n",
       "      <th>Dem</th>\n",
       "      <th>Rep</th>\n",
       "      <th>Ind</th>\n",
       "      <th>Men</th>\n",
       "      <th>Women</th>\n",
       "      <th>White</th>\n",
       "      <th>Black</th>\n",
       "      <th>College Degree</th>\n",
       "      <th>No Degree</th>\n",
       "      <th>Under Age 35</th>\n",
       "      <th>35-54</th>\n",
       "      <th>55+</th>\n",
       "      <th>65+</th>\n",
       "      <th>Under $50k</th>\n",
       "      <th>$50k+</th>\n",
       "      <th>Lib</th>\n",
       "      <th>Cons</th>\n",
       "      <th>Party</th>\n",
       "    </tr>\n",
       "  </thead>\n",
       "  <tbody>\n",
       "    <tr>\n",
       "      <th>8</th>\n",
       "      <td>Deal</td>\n",
       "      <td>0.47</td>\n",
       "      <td>0.6</td>\n",
       "      <td>0.34</td>\n",
       "      <td>0.44</td>\n",
       "      <td>0.46</td>\n",
       "      <td>0.47</td>\n",
       "      <td>0.45</td>\n",
       "      <td>0.54</td>\n",
       "      <td>0.5</td>\n",
       "      <td>0.45</td>\n",
       "      <td>0.51</td>\n",
       "      <td>0.46</td>\n",
       "      <td>0.45</td>\n",
       "      <td>0.41</td>\n",
       "      <td>0.47</td>\n",
       "      <td>0.48</td>\n",
       "      <td>0.61</td>\n",
       "      <td>0.35</td>\n",
       "      <td>0.35</td>\n",
       "    </tr>\n",
       "  </tbody>\n",
       "</table>\n",
       "</div>"
      ],
      "text/plain": [
       "  Subject  Total  Dem   Rep   Ind   Men  Women  White  Black  College Degree  \\\n",
       "8    Deal   0.47  0.6  0.34  0.44  0.46   0.47   0.45   0.54             0.5   \n",
       "\n",
       "   No Degree  Under Age 35  35-54   55+   65+  Under $50k  $50k+   Lib  Cons  \\\n",
       "8       0.45          0.51   0.46  0.45  0.41        0.47   0.48  0.61  0.35   \n",
       "\n",
       "   Party   \n",
       "8    0.35  "
      ]
     },
     "execution_count": 221,
     "metadata": {},
     "output_type": "execute_result"
    }
   ],
   "source": [
    "df_favor_iran_deal"
   ]
  },
  {
   "cell_type": "markdown",
   "metadata": {},
   "source": [
    "# Combine the the two sub df"
   ]
  },
  {
   "cell_type": "code",
   "execution_count": 222,
   "metadata": {
    "collapsed": false
   },
   "outputs": [],
   "source": [
    "obama_approve_favor_deal = df_obama_approve.append(df_favor_iran_deal)"
   ]
  },
  {
   "cell_type": "code",
   "execution_count": 223,
   "metadata": {
    "collapsed": false
   },
   "outputs": [
    {
     "data": {
      "text/html": [
       "<div>\n",
       "<table border=\"1\" class=\"dataframe\">\n",
       "  <thead>\n",
       "    <tr style=\"text-align: right;\">\n",
       "      <th></th>\n",
       "      <th>Subject</th>\n",
       "      <th>Total</th>\n",
       "      <th>Dem</th>\n",
       "      <th>Rep</th>\n",
       "      <th>Ind</th>\n",
       "      <th>Men</th>\n",
       "      <th>Women</th>\n",
       "      <th>White</th>\n",
       "      <th>Black</th>\n",
       "      <th>College Degree</th>\n",
       "      <th>No Degree</th>\n",
       "      <th>Under Age 35</th>\n",
       "      <th>35-54</th>\n",
       "      <th>55+</th>\n",
       "      <th>65+</th>\n",
       "      <th>Under $50k</th>\n",
       "      <th>$50k+</th>\n",
       "      <th>Lib</th>\n",
       "      <th>Cons</th>\n",
       "      <th>Party</th>\n",
       "    </tr>\n",
       "  </thead>\n",
       "  <tbody>\n",
       "    <tr>\n",
       "      <th>0</th>\n",
       "      <td>Obama</td>\n",
       "      <td>0.44</td>\n",
       "      <td>0.78</td>\n",
       "      <td>0.10</td>\n",
       "      <td>0.37</td>\n",
       "      <td>0.41</td>\n",
       "      <td>0.47</td>\n",
       "      <td>0.35</td>\n",
       "      <td>0.85</td>\n",
       "      <td>0.47</td>\n",
       "      <td>0.43</td>\n",
       "      <td>0.56</td>\n",
       "      <td>0.35</td>\n",
       "      <td>0.45</td>\n",
       "      <td>0.43</td>\n",
       "      <td>0.48</td>\n",
       "      <td>0.42</td>\n",
       "      <td>0.69</td>\n",
       "      <td>0.24</td>\n",
       "      <td>0.15</td>\n",
       "    </tr>\n",
       "    <tr>\n",
       "      <th>8</th>\n",
       "      <td>Deal</td>\n",
       "      <td>0.47</td>\n",
       "      <td>0.60</td>\n",
       "      <td>0.34</td>\n",
       "      <td>0.44</td>\n",
       "      <td>0.46</td>\n",
       "      <td>0.47</td>\n",
       "      <td>0.45</td>\n",
       "      <td>0.54</td>\n",
       "      <td>0.50</td>\n",
       "      <td>0.45</td>\n",
       "      <td>0.51</td>\n",
       "      <td>0.46</td>\n",
       "      <td>0.45</td>\n",
       "      <td>0.41</td>\n",
       "      <td>0.47</td>\n",
       "      <td>0.48</td>\n",
       "      <td>0.61</td>\n",
       "      <td>0.35</td>\n",
       "      <td>0.35</td>\n",
       "    </tr>\n",
       "  </tbody>\n",
       "</table>\n",
       "</div>"
      ],
      "text/plain": [
       "  Subject  Total   Dem   Rep   Ind   Men  Women  White  Black  College Degree  \\\n",
       "0   Obama   0.44  0.78  0.10  0.37  0.41   0.47   0.35   0.85            0.47   \n",
       "8    Deal   0.47  0.60  0.34  0.44  0.46   0.47   0.45   0.54            0.50   \n",
       "\n",
       "   No Degree  Under Age 35  35-54   55+   65+  Under $50k  $50k+   Lib  Cons  \\\n",
       "0       0.43          0.56   0.35  0.45  0.43        0.48   0.42  0.69  0.24   \n",
       "8       0.45          0.51   0.46  0.45  0.41        0.47   0.48  0.61  0.35   \n",
       "\n",
       "   Party   \n",
       "0    0.15  \n",
       "8    0.35  "
      ]
     },
     "execution_count": 223,
     "metadata": {},
     "output_type": "execute_result"
    }
   ],
   "source": [
    "obama_approve_favor_deal"
   ]
  },
  {
   "cell_type": "code",
   "execution_count": 224,
   "metadata": {
    "collapsed": true
   },
   "outputs": [],
   "source": [
    "del obama_approve_favor_deal['Subject']"
   ]
  },
  {
   "cell_type": "code",
   "execution_count": 225,
   "metadata": {
    "collapsed": true
   },
   "outputs": [],
   "source": [
    "del obama_approve_favor_deal['Total']"
   ]
  },
  {
   "cell_type": "markdown",
   "metadata": {},
   "source": [
    "# Transpose so we can have out column names as rows"
   ]
  },
  {
   "cell_type": "code",
   "execution_count": 226,
   "metadata": {
    "collapsed": false
   },
   "outputs": [],
   "source": [
    "obama_approve_favor_deal_transpose = obama_approve_favor_deal.transpose()"
   ]
  },
  {
   "cell_type": "code",
   "execution_count": 227,
   "metadata": {
    "collapsed": false
   },
   "outputs": [
    {
     "data": {
      "text/html": [
       "<div>\n",
       "<table border=\"1\" class=\"dataframe\">\n",
       "  <thead>\n",
       "    <tr style=\"text-align: right;\">\n",
       "      <th></th>\n",
       "      <th>Approve_Obama</th>\n",
       "      <th>Favor_Deal</th>\n",
       "    </tr>\n",
       "  </thead>\n",
       "  <tbody>\n",
       "    <tr>\n",
       "      <th>Dem</th>\n",
       "      <td>0.78</td>\n",
       "      <td>0.60</td>\n",
       "    </tr>\n",
       "    <tr>\n",
       "      <th>Rep</th>\n",
       "      <td>0.10</td>\n",
       "      <td>0.34</td>\n",
       "    </tr>\n",
       "    <tr>\n",
       "      <th>Ind</th>\n",
       "      <td>0.37</td>\n",
       "      <td>0.44</td>\n",
       "    </tr>\n",
       "    <tr>\n",
       "      <th>Men</th>\n",
       "      <td>0.41</td>\n",
       "      <td>0.46</td>\n",
       "    </tr>\n",
       "    <tr>\n",
       "      <th>Women</th>\n",
       "      <td>0.47</td>\n",
       "      <td>0.47</td>\n",
       "    </tr>\n",
       "    <tr>\n",
       "      <th>White</th>\n",
       "      <td>0.35</td>\n",
       "      <td>0.45</td>\n",
       "    </tr>\n",
       "    <tr>\n",
       "      <th>Black</th>\n",
       "      <td>0.85</td>\n",
       "      <td>0.54</td>\n",
       "    </tr>\n",
       "    <tr>\n",
       "      <th>College Degree</th>\n",
       "      <td>0.47</td>\n",
       "      <td>0.50</td>\n",
       "    </tr>\n",
       "    <tr>\n",
       "      <th>No Degree</th>\n",
       "      <td>0.43</td>\n",
       "      <td>0.45</td>\n",
       "    </tr>\n",
       "    <tr>\n",
       "      <th>Under Age 35</th>\n",
       "      <td>0.56</td>\n",
       "      <td>0.51</td>\n",
       "    </tr>\n",
       "    <tr>\n",
       "      <th>35-54</th>\n",
       "      <td>0.35</td>\n",
       "      <td>0.46</td>\n",
       "    </tr>\n",
       "    <tr>\n",
       "      <th>55+</th>\n",
       "      <td>0.45</td>\n",
       "      <td>0.45</td>\n",
       "    </tr>\n",
       "    <tr>\n",
       "      <th>65+</th>\n",
       "      <td>0.43</td>\n",
       "      <td>0.41</td>\n",
       "    </tr>\n",
       "    <tr>\n",
       "      <th>Under $50k</th>\n",
       "      <td>0.48</td>\n",
       "      <td>0.47</td>\n",
       "    </tr>\n",
       "    <tr>\n",
       "      <th>$50k+</th>\n",
       "      <td>0.42</td>\n",
       "      <td>0.48</td>\n",
       "    </tr>\n",
       "    <tr>\n",
       "      <th>Lib</th>\n",
       "      <td>0.69</td>\n",
       "      <td>0.61</td>\n",
       "    </tr>\n",
       "    <tr>\n",
       "      <th>Cons</th>\n",
       "      <td>0.24</td>\n",
       "      <td>0.35</td>\n",
       "    </tr>\n",
       "    <tr>\n",
       "      <th>Party</th>\n",
       "      <td>0.15</td>\n",
       "      <td>0.35</td>\n",
       "    </tr>\n",
       "  </tbody>\n",
       "</table>\n",
       "</div>"
      ],
      "text/plain": [
       "                Approve_Obama  Favor_Deal\n",
       "Dem                      0.78        0.60\n",
       "Rep                      0.10        0.34\n",
       "Ind                      0.37        0.44\n",
       "Men                      0.41        0.46\n",
       "Women                    0.47        0.47\n",
       "White                    0.35        0.45\n",
       "Black                    0.85        0.54\n",
       "College Degree           0.47        0.50\n",
       "No Degree                0.43        0.45\n",
       "Under Age 35             0.56        0.51\n",
       "35-54                    0.35        0.46\n",
       "55+                      0.45        0.45\n",
       "65+                      0.43        0.41\n",
       "Under $50k               0.48        0.47\n",
       "$50k+                    0.42        0.48\n",
       "Lib                      0.69        0.61\n",
       "Cons                     0.24        0.35\n",
       "Party                    0.15        0.35"
      ]
     },
     "execution_count": 227,
     "metadata": {},
     "output_type": "execute_result"
    }
   ],
   "source": [
    "obama_approve_favor_deal_transpose.columns = [\"Approve_Obama\",\"Favor_Deal\"]\n",
    "obama_approve_favor_deal_transpose"
   ]
  },
  {
   "cell_type": "code",
   "execution_count": 228,
   "metadata": {
    "collapsed": false
   },
   "outputs": [],
   "source": [
    "plt.style.use('fivethirtyeight')"
   ]
  },
  {
   "cell_type": "code",
   "execution_count": 229,
   "metadata": {
    "collapsed": false
   },
   "outputs": [
    {
     "data": {
      "text/plain": [
       "<matplotlib.axes._subplots.AxesSubplot at 0x1097d9780>"
      ]
     },
     "execution_count": 229,
     "metadata": {},
     "output_type": "execute_result"
    },
    {
     "data": {
      "image/png": "[encoded data removed]",
      "text/plain": [
       "<matplotlib.figure.Figure at 0x10a6707b8>"
      ]
     },
     "metadata": {},
     "output_type": "display_data"
    }
   ],
   "source": [
    "obama_approve_favor_deal_transpose.plot(kind='scatter', x= 'Approve_Obama', y='Favor_Deal')"
   ]
  },
  {
   "cell_type": "markdown",
   "metadata": {},
   "source": [
    "# Calculate Correlation Coefficient"
   ]
  },
  {
   "cell_type": "code",
   "execution_count": 230,
   "metadata": {
    "collapsed": false
   },
   "outputs": [
    {
     "data": {
      "text/html": [
       "<div>\n",
       "<table border=\"1\" class=\"dataframe\">\n",
       "  <thead>\n",
       "    <tr style=\"text-align: right;\">\n",
       "      <th></th>\n",
       "      <th>Approve_Obama</th>\n",
       "      <th>Favor_Deal</th>\n",
       "    </tr>\n",
       "  </thead>\n",
       "  <tbody>\n",
       "    <tr>\n",
       "      <th>Approve_Obama</th>\n",
       "      <td>1.000000</td>\n",
       "      <td>0.913868</td>\n",
       "    </tr>\n",
       "    <tr>\n",
       "      <th>Favor_Deal</th>\n",
       "      <td>0.913868</td>\n",
       "      <td>1.000000</td>\n",
       "    </tr>\n",
       "  </tbody>\n",
       "</table>\n",
       "</div>"
      ],
      "text/plain": [
       "               Approve_Obama  Favor_Deal\n",
       "Approve_Obama       1.000000    0.913868\n",
       "Favor_Deal          0.913868    1.000000"
      ]
     },
     "execution_count": 230,
     "metadata": {},
     "output_type": "execute_result"
    }
   ],
   "source": [
    "obama_approve_favor_deal_transpose.corr()"
   ]
  },
  {
   "cell_type": "code",
   "execution_count": 231,
   "metadata": {
    "collapsed": false
   },
   "outputs": [
    {
     "data": {
      "text/plain": [
       "Intercept        0.305280\n",
       "Approve_Obama    0.355619\n",
       "dtype: float64"
      ]
     },
     "execution_count": 231,
     "metadata": {},
     "output_type": "execute_result"
    }
   ],
   "source": [
    "lm = smf.ols(formula='Favor_Deal~Approve_Obama',data=obama_approve_favor_deal_transpose).fit()\n",
    "lm.params"
   ]
  },
  {
   "cell_type": "code",
   "execution_count": 233,
   "metadata": {
    "collapsed": false
   },
   "outputs": [
    {
     "data": {
      "text/plain": [
       "<matplotlib.text.Text at 0x10acf1e10>"
      ]
     },
     "execution_count": 233,
     "metadata": {},
     "output_type": "execute_result"
    },
    {
     "data": {
      "image/png": "[encoded data removed]",
      "text/plain": [
       "<matplotlib.figure.Figure at 0x10ad3ae10>"
      ]
     },
     "metadata": {},
     "output_type": "display_data"
    }
   ],
   "source": [
    "intercept, slope = lm.params\n",
    "ax = obama_approve_favor_deal_transpose.plot(kind='scatter', x= 'Approve_Obama', y='Favor_Deal')\n",
    "plt.plot(obama_approve_favor_deal_transpose[\"Approve_Obama\"],slope*obama_approve_favor_deal_transpose[\"Approve_Obama\"]+intercept,\"-\",color=\"red\")\n",
    "ax.set_title(\"Feelings on Obama predict feelings on Iran deal\")\n",
    "ax.set_ylabel('Favor Iran deal')\n",
    "ax.set_xlabel(\"Approve of Obama\")\n"
   ]
  },
  {
   "cell_type": "code",
   "execution_count": null,
   "metadata": {
    "collapsed": true
   },
   "outputs": [],
   "source": []
  }
 ],
 "metadata": {
  "kernelspec": {
   "display_name": "Python 3",
   "language": "python",
   "name": "python3"
  },
  "language_info": {
   "codemirror_mode": {
    "name": "ipython",
    "version": 3
   },
   "file_extension": ".py",
   "mimetype": "text/x-python",
   "name": "python",
   "nbconvert_exporter": "python",
   "pygments_lexer": "ipython3",
   "version": "3.5.1"
  }
 },
 "nbformat": 4,
 "nbformat_minor": 0
}

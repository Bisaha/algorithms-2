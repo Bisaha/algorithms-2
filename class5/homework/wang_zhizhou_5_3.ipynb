{
 "cells": [
  {
   "cell_type": "markdown",
   "metadata": {},
   "source": [
    "## Assignment 3\n",
    "* Using the data from the 2013_NYC_CD_MedianIncome_Recycle.xlsx file, create a predictor using the weights from the model. This time, use the built in attributes in your model rather than hard-coding them into your algorithm"
   ]
  },
  {
   "cell_type": "code",
   "execution_count": 7,
   "metadata": {
    "collapsed": false
   },
   "outputs": [
    {
     "name": "stdout",
     "output_type": "stream",
     "text": [
      "Collecting xlrd\n",
      "  Using cached xlrd-1.0.0-py3-none-any.whl\n",
      "Installing collected packages: xlrd\n",
      "Successfully installed xlrd-1.0.0\n"
     ]
    }
   ],
   "source": [
    "import pandas as pd\n",
    "%matplotlib inline\n",
    "import matplotlib.pyplot as plt \n",
    "import statsmodels.formula.api as smf \n",
    "!pip3 install xlrd"
   ]
  },
  {
   "cell_type": "code",
   "execution_count": 10,
   "metadata": {
    "collapsed": false
   },
   "outputs": [],
   "source": [
    "df = pd.read_excel(\"data/2013_NYC_CD_MedianIncome_Recycle.xlsx\")"
   ]
  },
  {
   "cell_type": "code",
   "execution_count": 11,
   "metadata": {
    "collapsed": false
   },
   "outputs": [
    {
     "data": {
      "text/html": [
       "<div>\n",
       "<table border=\"1\" class=\"dataframe\">\n",
       "  <thead>\n",
       "    <tr style=\"text-align: right;\">\n",
       "      <th></th>\n",
       "      <th>CD_Name</th>\n",
       "      <th>MdHHIncE</th>\n",
       "      <th>RecycleRate</th>\n",
       "    </tr>\n",
       "  </thead>\n",
       "  <tbody>\n",
       "    <tr>\n",
       "      <th>0</th>\n",
       "      <td>Battery Park City, Greenwich Village &amp; Soho</td>\n",
       "      <td>119596</td>\n",
       "      <td>0.286771</td>\n",
       "    </tr>\n",
       "    <tr>\n",
       "      <th>1</th>\n",
       "      <td>Battery Park City, Greenwich Village &amp; Soho</td>\n",
       "      <td>119596</td>\n",
       "      <td>0.264074</td>\n",
       "    </tr>\n",
       "    <tr>\n",
       "      <th>2</th>\n",
       "      <td>Chinatown &amp; Lower East Side</td>\n",
       "      <td>40919</td>\n",
       "      <td>0.156485</td>\n",
       "    </tr>\n",
       "    <tr>\n",
       "      <th>3</th>\n",
       "      <td>Chelsea, Clinton &amp; Midtown Business Distric</td>\n",
       "      <td>92583</td>\n",
       "      <td>0.235125</td>\n",
       "    </tr>\n",
       "    <tr>\n",
       "      <th>4</th>\n",
       "      <td>Chelsea, Clinton &amp; Midtown Business Distric</td>\n",
       "      <td>92583</td>\n",
       "      <td>0.246725</td>\n",
       "    </tr>\n",
       "  </tbody>\n",
       "</table>\n",
       "</div>"
      ],
      "text/plain": [
       "                                       CD_Name  MdHHIncE  RecycleRate\n",
       "0  Battery Park City, Greenwich Village & Soho    119596     0.286771\n",
       "1  Battery Park City, Greenwich Village & Soho    119596     0.264074\n",
       "2                  Chinatown & Lower East Side     40919     0.156485\n",
       "3  Chelsea, Clinton & Midtown Business Distric     92583     0.235125\n",
       "4  Chelsea, Clinton & Midtown Business Distric     92583     0.246725"
      ]
     },
     "execution_count": 11,
     "metadata": {},
     "output_type": "execute_result"
    }
   ],
   "source": [
    "df.head()"
   ]
  },
  {
   "cell_type": "code",
   "execution_count": 20,
   "metadata": {
    "collapsed": true
   },
   "outputs": [],
   "source": [
    "lm = smf.ols(formula=\"RecycleRate~MdHHIncE\",data=df).fit()"
   ]
  },
  {
   "cell_type": "code",
   "execution_count": 21,
   "metadata": {
    "collapsed": false
   },
   "outputs": [
    {
     "data": {
      "text/plain": [
       "Intercept    0.074804\n",
       "MdHHIncE     0.000002\n",
       "dtype: float64"
      ]
     },
     "execution_count": 21,
     "metadata": {},
     "output_type": "execute_result"
    }
   ],
   "source": [
    "lm.params"
   ]
  },
  {
   "cell_type": "code",
   "execution_count": 22,
   "metadata": {
    "collapsed": true
   },
   "outputs": [],
   "source": [
    "intercept, slope = lm.params"
   ]
  },
  {
   "cell_type": "code",
   "execution_count": 27,
   "metadata": {
    "collapsed": false
   },
   "outputs": [
    {
     "data": {
      "text/plain": [
       "[<matplotlib.lines.Line2D at 0x10b883828>]"
      ]
     },
     "execution_count": 27,
     "metadata": {},
     "output_type": "execute_result"
    },
    {
     "data": {
      "image/png": "[encoded data removed]",
      "text/plain": [
       "<matplotlib.figure.Figure at 0x10b8a5b38>"
      ]
     },
     "metadata": {},
     "output_type": "display_data"
    }
   ],
   "source": [
    "df.plot(kind='scatter',x='MdHHIncE',y='RecycleRate',color='gray',alpha=0.8,linewidth=0)\n",
    "plt.plot(df[\"MdHHIncE\"],slope*df[\"MdHHIncE\"]+intercept,\"-\",color=\"red\",alpha=0.5)"
   ]
  },
  {
   "cell_type": "code",
   "execution_count": 28,
   "metadata": {
    "collapsed": false
   },
   "outputs": [
    {
     "name": "stdout",
     "output_type": "stream",
     "text": [
      "The module is: Recycle rate = 1.86961266766e-06 * medianincome + 0.0748041361524\n"
     ]
    }
   ],
   "source": [
    "print(\"The module is: Recycle rate =\", slope,\"* medianincome +\",intercept)"
   ]
  },
  {
   "cell_type": "code",
   "execution_count": 31,
   "metadata": {
    "collapsed": false
   },
   "outputs": [],
   "source": [
    "def get_rrate(income):\n",
    "    recycle_rate = income * slope + intercept\n",
    "    return recycle_rate"
   ]
  },
  {
   "cell_type": "code",
   "execution_count": null,
   "metadata": {
    "collapsed": true
   },
   "outputs": [],
   "source": []
  }
 ],
 "metadata": {
  "kernelspec": {
   "display_name": "Python 3",
   "language": "python",
   "name": "python3"
  },
  "language_info": {
   "codemirror_mode": {
    "name": "ipython",
    "version": 3
   },
   "file_extension": ".py",
   "mimetype": "text/x-python",
   "name": "python",
   "nbconvert_exporter": "python",
   "pygments_lexer": "ipython3",
   "version": "3.5.1"
  }
 },
 "nbformat": 4,
 "nbformat_minor": 0
}

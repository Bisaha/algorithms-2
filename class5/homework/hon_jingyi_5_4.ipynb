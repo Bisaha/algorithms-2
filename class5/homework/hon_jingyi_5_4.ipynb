{
 "cells": [
  {
   "cell_type": "markdown",
   "metadata": {},
   "source": [
    "Using data from this FiveThirtyEight post (http://fivethirtyeight.com/datalab/opinions-about-the-iran-deal-are-more-about-obama-than-iran/), write code to calculate the correlation of the responses from the poll.\n",
    "Respond to the story in your PR. Is this a good example of data journalism? Why or why not?"
   ]
  },
  {
   "cell_type": "code",
   "execution_count": 1,
   "metadata": {
    "collapsed": true
   },
   "outputs": [],
   "source": [
    "import pandas as pd"
   ]
  },
  {
   "cell_type": "code",
   "execution_count": 2,
   "metadata": {
    "collapsed": true
   },
   "outputs": [],
   "source": [
    "df = pd.read_excel(\"fox_survey.xlsx\")"
   ]
  },
  {
   "cell_type": "code",
   "execution_count": 3,
   "metadata": {
    "collapsed": false
   },
   "outputs": [
    {
     "data": {
      "text/html": [
       "<div>\n",
       "<table border=\"1\" class=\"dataframe\">\n",
       "  <thead>\n",
       "    <tr style=\"text-align: right;\">\n",
       "      <th></th>\n",
       "      <th>Obama Approval</th>\n",
       "      <th>Iran Agreement Confidence</th>\n",
       "      <th>Favor Iran Deal</th>\n",
       "    </tr>\n",
       "  </thead>\n",
       "  <tbody>\n",
       "    <tr>\n",
       "      <th>Dem</th>\n",
       "      <td>78</td>\n",
       "      <td>29</td>\n",
       "      <td>60</td>\n",
       "    </tr>\n",
       "    <tr>\n",
       "      <th>Rep</th>\n",
       "      <td>10</td>\n",
       "      <td>4</td>\n",
       "      <td>34</td>\n",
       "    </tr>\n",
       "    <tr>\n",
       "      <th>Ind</th>\n",
       "      <td>37</td>\n",
       "      <td>15</td>\n",
       "      <td>44</td>\n",
       "    </tr>\n",
       "    <tr>\n",
       "      <th>Men</th>\n",
       "      <td>41</td>\n",
       "      <td>17</td>\n",
       "      <td>46</td>\n",
       "    </tr>\n",
       "    <tr>\n",
       "      <th>Women</th>\n",
       "      <td>47</td>\n",
       "      <td>17</td>\n",
       "      <td>47</td>\n",
       "    </tr>\n",
       "  </tbody>\n",
       "</table>\n",
       "</div>"
      ],
      "text/plain": [
       "       Obama Approval  Iran Agreement Confidence  Favor Iran Deal\n",
       "Dem                78                         29               60\n",
       "Rep                10                          4               34\n",
       "Ind                37                         15               44\n",
       "Men                41                         17               46\n",
       "Women              47                         17               47"
      ]
     },
     "execution_count": 3,
     "metadata": {},
     "output_type": "execute_result"
    }
   ],
   "source": [
    "df.head()"
   ]
  },
  {
   "cell_type": "code",
   "execution_count": 4,
   "metadata": {
    "collapsed": false
   },
   "outputs": [
    {
     "data": {
      "text/html": [
       "<div>\n",
       "<table border=\"1\" class=\"dataframe\">\n",
       "  <thead>\n",
       "    <tr style=\"text-align: right;\">\n",
       "      <th></th>\n",
       "      <th>Obama Approval</th>\n",
       "      <th>Iran Agreement Confidence</th>\n",
       "      <th>Favor Iran Deal</th>\n",
       "    </tr>\n",
       "  </thead>\n",
       "  <tbody>\n",
       "    <tr>\n",
       "      <th>Obama Approval</th>\n",
       "      <td>1.000000</td>\n",
       "      <td>0.936991</td>\n",
       "      <td>0.766848</td>\n",
       "    </tr>\n",
       "    <tr>\n",
       "      <th>Iran Agreement Confidence</th>\n",
       "      <td>0.936991</td>\n",
       "      <td>1.000000</td>\n",
       "      <td>0.764880</td>\n",
       "    </tr>\n",
       "    <tr>\n",
       "      <th>Favor Iran Deal</th>\n",
       "      <td>0.766848</td>\n",
       "      <td>0.764880</td>\n",
       "      <td>1.000000</td>\n",
       "    </tr>\n",
       "  </tbody>\n",
       "</table>\n",
       "</div>"
      ],
      "text/plain": [
       "                           Obama Approval  Iran Agreement Confidence  \\\n",
       "Obama Approval                   1.000000                   0.936991   \n",
       "Iran Agreement Confidence        0.936991                   1.000000   \n",
       "Favor Iran Deal                  0.766848                   0.764880   \n",
       "\n",
       "                           Favor Iran Deal  \n",
       "Obama Approval                    0.766848  \n",
       "Iran Agreement Confidence         0.764880  \n",
       "Favor Iran Deal                   1.000000  "
      ]
     },
     "execution_count": 4,
     "metadata": {},
     "output_type": "execute_result"
    }
   ],
   "source": [
    "df.corr()"
   ]
  },
  {
   "cell_type": "code",
   "execution_count": null,
   "metadata": {
    "collapsed": true
   },
   "outputs": [],
   "source": []
  }
 ],
 "metadata": {
  "kernelspec": {
   "display_name": "Python 3",
   "language": "python",
   "name": "python3"
  },
  "language_info": {
   "codemirror_mode": {
    "name": "ipython",
    "version": 3
   },
   "file_extension": ".py",
   "mimetype": "text/x-python",
   "name": "python",
   "nbconvert_exporter": "python",
   "pygments_lexer": "ipython3",
   "version": "3.5.1"
  }
 },
 "nbformat": 4,
 "nbformat_minor": 0
}

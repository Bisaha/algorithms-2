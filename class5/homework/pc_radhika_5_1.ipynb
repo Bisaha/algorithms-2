{
 "cells": [
  {
   "cell_type": "markdown",
   "metadata": {},
   "source": [
    "## Assignment 1 ##\n",
    "\n",
    "1. Use the data from heights_weights_genders.csv to create a simple predictor that takes in a person's height and guesses their weight based on a model using all the data, regardless of gender\n",
    "2. Find the weights and use those in your function (i.e. don't generate a model each time)"
   ]
  },
  {
   "cell_type": "code",
   "execution_count": 1,
   "metadata": {
    "collapsed": true
   },
   "outputs": [],
   "source": [
    "import pandas as pd\n",
    "%matplotlib inline\n",
    "import matplotlib.pyplot as plt # package for doing plotting (necessary for adding the line)\n",
    "import statsmodels.formula.api as smf # package we'll be using for linear regression"
   ]
  },
  {
   "cell_type": "code",
   "execution_count": 3,
   "metadata": {
    "collapsed": false
   },
   "outputs": [
    {
     "data": {
      "text/html": [
       "<div>\n",
       "<table border=\"1\" class=\"dataframe\">\n",
       "  <thead>\n",
       "    <tr style=\"text-align: right;\">\n",
       "      <th></th>\n",
       "      <th>Gender</th>\n",
       "      <th>Height</th>\n",
       "      <th>Weight</th>\n",
       "    </tr>\n",
       "  </thead>\n",
       "  <tbody>\n",
       "    <tr>\n",
       "      <th>0</th>\n",
       "      <td>Male</td>\n",
       "      <td>73.847017</td>\n",
       "      <td>241.893563</td>\n",
       "    </tr>\n",
       "    <tr>\n",
       "      <th>1</th>\n",
       "      <td>Male</td>\n",
       "      <td>68.781904</td>\n",
       "      <td>162.310473</td>\n",
       "    </tr>\n",
       "    <tr>\n",
       "      <th>2</th>\n",
       "      <td>Male</td>\n",
       "      <td>74.110105</td>\n",
       "      <td>212.740856</td>\n",
       "    </tr>\n",
       "    <tr>\n",
       "      <th>3</th>\n",
       "      <td>Male</td>\n",
       "      <td>71.730978</td>\n",
       "      <td>220.042470</td>\n",
       "    </tr>\n",
       "    <tr>\n",
       "      <th>4</th>\n",
       "      <td>Male</td>\n",
       "      <td>69.881796</td>\n",
       "      <td>206.349801</td>\n",
       "    </tr>\n",
       "  </tbody>\n",
       "</table>\n",
       "</div>"
      ],
      "text/plain": [
       "  Gender     Height      Weight\n",
       "0   Male  73.847017  241.893563\n",
       "1   Male  68.781904  162.310473\n",
       "2   Male  74.110105  212.740856\n",
       "3   Male  71.730978  220.042470\n",
       "4   Male  69.881796  206.349801"
      ]
     },
     "execution_count": 3,
     "metadata": {},
     "output_type": "execute_result"
    }
   ],
   "source": [
    "df = pd.read_csv(\"data/heights_weights_genders.csv\")\n",
    "df.head()"
   ]
  },
  {
   "cell_type": "code",
   "execution_count": 8,
   "metadata": {
    "collapsed": false
   },
   "outputs": [
    {
     "data": {
      "text/plain": [
       "Intercept   -350.737192\n",
       "Height         7.717288\n",
       "dtype: float64"
      ]
     },
     "execution_count": 8,
     "metadata": {},
     "output_type": "execute_result"
    }
   ],
   "source": [
    "lm = smf.ols(formula=\"Weight~Height\",data=df).fit()\n",
    "lm.params\n"
   ]
  },
  {
   "cell_type": "code",
   "execution_count": 9,
   "metadata": {
    "collapsed": true
   },
   "outputs": [],
   "source": [
    "def weight_predictor(your_file):\n",
    "    df = pd.read_csv(your_file)\n",
    "    lm = smf.ols(formula=\"Weight~Height\",data=df).fit()\n",
    "    weight = (df['Height']) * lm.params.Height + lm.params.Intercept\n",
    "    return weight"
   ]
  },
  {
   "cell_type": "code",
   "execution_count": 10,
   "metadata": {
    "collapsed": false
   },
   "outputs": [
    {
     "data": {
      "text/plain": [
       "0       219.161480\n",
       "1       180.072546\n",
       "2       221.191809\n",
       "3       202.831401\n",
       "4       188.560728\n",
       "5       168.273675\n",
       "6       180.097066\n",
       "7       176.727962\n",
       "8       166.467320\n",
       "9       138.974825\n",
       "10      198.698052\n",
       "11      202.135508\n",
       "12      149.083200\n",
       "13      183.940189\n",
       "14      183.636607\n",
       "15      171.303513\n",
       "16      208.135788\n",
       "17      142.971081\n",
       "18      186.695182\n",
       "19      173.544499\n",
       "20      173.382786\n",
       "21      185.146939\n",
       "22      159.754687\n",
       "23      229.648939\n",
       "24      173.214133\n",
       "25      175.149910\n",
       "26      182.447367\n",
       "27      211.087858\n",
       "28      169.571928\n",
       "29      177.869348\n",
       "           ...    \n",
       "9970    155.661475\n",
       "9971    148.110190\n",
       "9972    117.345114\n",
       "9973    117.987944\n",
       "9974    153.926703\n",
       "9975    160.547955\n",
       "9976    123.690045\n",
       "9977    146.988021\n",
       "9978     92.048040\n",
       "9979    128.166902\n",
       "9980    115.944648\n",
       "9981    115.720862\n",
       "9982    188.458208\n",
       "9983    157.297454\n",
       "9984    104.945712\n",
       "9985    174.355279\n",
       "9986    138.173798\n",
       "9987    155.595928\n",
       "9988    108.740302\n",
       "9989    119.670727\n",
       "9990    136.837169\n",
       "9991    132.648046\n",
       "9992    128.335291\n",
       "9993    112.534933\n",
       "9994    105.341003\n",
       "9995    159.936199\n",
       "9996    166.839332\n",
       "9997    142.150475\n",
       "9998    182.019919\n",
       "9999    127.304371\n",
       "Name: Height, dtype: float64"
      ]
     },
     "execution_count": 10,
     "metadata": {},
     "output_type": "execute_result"
    }
   ],
   "source": [
    "weight_predictor(\"data/heights_weights_genders.csv\")"
   ]
  },
  {
   "cell_type": "code",
   "execution_count": 14,
   "metadata": {
    "collapsed": true
   },
   "outputs": [],
   "source": [
    "def weight_predict(your_height):\n",
    "    df = pd.read_csv(\"data/heights_weights_genders.csv\")\n",
    "    lm = smf.ols(formula=\"Weight~Height\",data=df).fit()\n",
    "    weight = your_height * lm.params.Height + lm.params.Intercept\n",
    "    return weight"
   ]
  },
  {
   "cell_type": "code",
   "execution_count": 15,
   "metadata": {
    "collapsed": false
   },
   "outputs": [
    {
     "data": {
      "text/plain": [
       "219.16147979083121"
      ]
     },
     "execution_count": 15,
     "metadata": {},
     "output_type": "execute_result"
    }
   ],
   "source": [
    "weight_predict(73.847017)"
   ]
  },
  {
   "cell_type": "code",
   "execution_count": null,
   "metadata": {
    "collapsed": true
   },
   "outputs": [],
   "source": []
  }
 ],
 "metadata": {
  "kernelspec": {
   "display_name": "Python 3",
   "language": "python",
   "name": "python3"
  },
  "language_info": {
   "codemirror_mode": {
    "name": "ipython",
    "version": 3
   },
   "file_extension": ".py",
   "mimetype": "text/x-python",
   "name": "python",
   "nbconvert_exporter": "python",
   "pygments_lexer": "ipython3",
   "version": "3.5.1"
  }
 },
 "nbformat": 4,
 "nbformat_minor": 0
}

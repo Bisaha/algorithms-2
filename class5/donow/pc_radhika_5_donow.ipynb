{
 "cells": [
  {
   "cell_type": "markdown",
   "metadata": {},
   "source": [
    "### Assignment 1 ###\n",
    "\n",
    "Query the training database you used in homework 4-1 and query the noise_311 table Perform a basic statistical analysis of the time a complaint is left open Compare the results to what you found for DOT complaints. \n",
    "Submit this as Do Now 5\n",
    "\n",
    "Host: training.c1erymiua9dx.us-east-1.rds.amazonaws.com\n",
    "\n",
    "Port: 5432\n",
    "\n",
    "Database: training\n",
    "\n",
    "Username: dot_student\n",
    "\n",
    "Password: qgis"
   ]
  },
  {
   "cell_type": "code",
   "execution_count": 1,
   "metadata": {
    "collapsed": true
   },
   "outputs": [],
   "source": [
    "import pandas as pd\n",
    "import numpy as np\n",
    "import matplotlib.pyplot as plt\n",
    "%matplotlib inline\n",
    "plt.style.use('ggplot')\n",
    "import dateutil.parser\n",
    "import pg8000\n",
    "from pandas import DataFrame\n"
   ]
  },
  {
   "cell_type": "code",
   "execution_count": null,
   "metadata": {
    "collapsed": true
   },
   "outputs": [],
   "source": [
    "conn.re"
   ]
  },
  {
   "cell_type": "code",
   "execution_count": 19,
   "metadata": {
    "collapsed": false
   },
   "outputs": [
    {
     "ename": "ProgrammingError",
     "evalue": "('FATAL', '53300', 'remaining connection slots are reserved for non-replication superuser and rds_superuser connections', 'postinit.c', '744', 'InitPostgres', '', '')",
     "output_type": "error",
     "traceback": [
      "\u001b[1;31m---------------------------------------------------------------------------\u001b[0m",
      "\u001b[1;31mProgrammingError\u001b[0m                          Traceback (most recent call last)",
      "\u001b[1;32m<ipython-input-19-298b0e572a40>\u001b[0m in \u001b[0;36m<module>\u001b[1;34m()\u001b[0m\n\u001b[1;32m----> 1\u001b[1;33m \u001b[0mconn\u001b[0m \u001b[1;33m=\u001b[0m \u001b[0mpg8000\u001b[0m\u001b[1;33m.\u001b[0m\u001b[0mconnect\u001b[0m\u001b[1;33m(\u001b[0m\u001b[0mhost\u001b[0m\u001b[1;33m=\u001b[0m\u001b[1;34m\"training.c1erymiua9dx.us-east-1.rds.amazonaws.com\"\u001b[0m\u001b[1;33m,\u001b[0m \u001b[0muser\u001b[0m\u001b[1;33m=\u001b[0m\u001b[1;34m'dot_student'\u001b[0m\u001b[1;33m,\u001b[0m \u001b[0mpassword\u001b[0m\u001b[1;33m=\u001b[0m\u001b[1;34m'qgis'\u001b[0m\u001b[1;33m,\u001b[0m \u001b[0mdatabase\u001b[0m\u001b[1;33m=\u001b[0m\u001b[1;34m'training'\u001b[0m\u001b[1;33m)\u001b[0m\u001b[1;33m\u001b[0m\u001b[0m\n\u001b[0m\u001b[0;32m      2\u001b[0m \u001b[0mcursor\u001b[0m \u001b[1;33m=\u001b[0m \u001b[0mconn\u001b[0m\u001b[1;33m.\u001b[0m\u001b[0mcursor\u001b[0m\u001b[1;33m(\u001b[0m\u001b[1;33m)\u001b[0m\u001b[1;33m\u001b[0m\u001b[0m\n",
      "\u001b[1;32mc:\\users\\radhika\\appdata\\local\\programs\\python\\python35-32\\lib\\site-packages\\pg8000\\__init__.py\u001b[0m in \u001b[0;36mconnect\u001b[1;34m(user, host, unix_sock, port, database, password, ssl, timeout, **kwargs)\u001b[0m\n\u001b[0;32m    101\u001b[0m     \"\"\"\n\u001b[0;32m    102\u001b[0m     return Connection(\n\u001b[1;32m--> 103\u001b[1;33m         user, host, unix_sock, port, database, password, ssl, timeout)\n\u001b[0m\u001b[0;32m    104\u001b[0m \u001b[1;33m\u001b[0m\u001b[0m\n\u001b[0;32m    105\u001b[0m \u001b[0mapilevel\u001b[0m \u001b[1;33m=\u001b[0m \u001b[1;34m\"2.0\"\u001b[0m\u001b[1;33m\u001b[0m\u001b[0m\n",
      "\u001b[1;32mc:\\users\\radhika\\appdata\\local\\programs\\python\\python35-32\\lib\\site-packages\\pg8000\\core.py\u001b[0m in \u001b[0;36m__init__\u001b[1;34m(self, user, host, unix_sock, port, database, password, ssl, timeout)\u001b[0m\n\u001b[0;32m   1610\u001b[0m                 \u001b[1;32mexcept\u001b[0m \u001b[0mException\u001b[0m\u001b[1;33m:\u001b[0m\u001b[1;33m\u001b[0m\u001b[0m\n\u001b[0;32m   1611\u001b[0m                     \u001b[1;32mpass\u001b[0m\u001b[1;33m\u001b[0m\u001b[0m\n\u001b[1;32m-> 1612\u001b[1;33m                 \u001b[1;32mraise\u001b[0m \u001b[0me\u001b[0m\u001b[1;33m\u001b[0m\u001b[0m\n\u001b[0m\u001b[0;32m   1613\u001b[0m \u001b[1;33m\u001b[0m\u001b[0m\n\u001b[0;32m   1614\u001b[0m         \u001b[0mself\u001b[0m\u001b[1;33m.\u001b[0m\u001b[0min_transaction\u001b[0m \u001b[1;33m=\u001b[0m \u001b[1;32mFalse\u001b[0m\u001b[1;33m\u001b[0m\u001b[0m\n",
      "\u001b[1;32mc:\\users\\radhika\\appdata\\local\\programs\\python\\python35-32\\lib\\site-packages\\pg8000\\core.py\u001b[0m in \u001b[0;36m__init__\u001b[1;34m(self, user, host, unix_sock, port, database, password, ssl, timeout)\u001b[0m\n\u001b[0;32m   1604\u001b[0m                     \u001b[0mself\u001b[0m\u001b[1;33m.\u001b[0m\u001b[0mmessage_types\u001b[0m\u001b[1;33m[\u001b[0m\u001b[0mcode\u001b[0m\u001b[1;33m]\u001b[0m\u001b[1;33m(\u001b[0m\u001b[0mself\u001b[0m\u001b[1;33m.\u001b[0m\u001b[0m_read\u001b[0m\u001b[1;33m(\u001b[0m\u001b[0mdata_len\u001b[0m \u001b[1;33m-\u001b[0m \u001b[1;36m4\u001b[0m\u001b[1;33m)\u001b[0m\u001b[1;33m,\u001b[0m \u001b[1;32mNone\u001b[0m\u001b[1;33m)\u001b[0m\u001b[1;33m\u001b[0m\u001b[0m\n\u001b[0;32m   1605\u001b[0m                 \u001b[1;32mif\u001b[0m \u001b[0mself\u001b[0m\u001b[1;33m.\u001b[0m\u001b[0merror\u001b[0m \u001b[1;32mis\u001b[0m \u001b[1;32mnot\u001b[0m \u001b[1;32mNone\u001b[0m\u001b[1;33m:\u001b[0m\u001b[1;33m\u001b[0m\u001b[0m\n\u001b[1;32m-> 1606\u001b[1;33m                     \u001b[1;32mraise\u001b[0m \u001b[0mself\u001b[0m\u001b[1;33m.\u001b[0m\u001b[0merror\u001b[0m\u001b[1;33m\u001b[0m\u001b[0m\n\u001b[0m\u001b[0;32m   1607\u001b[0m             \u001b[1;32mexcept\u001b[0m \u001b[0mException\u001b[0m \u001b[1;32mas\u001b[0m \u001b[0me\u001b[0m\u001b[1;33m:\u001b[0m\u001b[1;33m\u001b[0m\u001b[0m\n\u001b[0;32m   1608\u001b[0m                 \u001b[1;32mtry\u001b[0m\u001b[1;33m:\u001b[0m\u001b[1;33m\u001b[0m\u001b[0m\n",
      "\u001b[1;31mProgrammingError\u001b[0m: ('FATAL', '53300', 'remaining connection slots are reserved for non-replication superuser and rds_superuser connections', 'postinit.c', '744', 'InitPostgres', '', '')"
     ]
    }
   ],
   "source": [
    "conn = pg8000.connect(host=\"training.c1erymiua9dx.us-east-1.rds.amazonaws.com\", user='dot_student', password='qgis', database='training')\n",
    "cursor = conn.cursor()"
   ]
  },
  {
   "cell_type": "code",
   "execution_count": 20,
   "metadata": {
    "collapsed": false
   },
   "outputs": [
    {
     "data": {
      "text/plain": [
       "['unique_key',\n",
       " 'created_date',\n",
       " 'closed_date',\n",
       " 'agency',\n",
       " 'agency_name',\n",
       " 'complaint_type',\n",
       " 'descriptor',\n",
       " 'location_type',\n",
       " 'incident_zip',\n",
       " 'incident_address',\n",
       " 'street_name',\n",
       " 'cross_street_1',\n",
       " 'cross_street_2',\n",
       " 'intersection_street_1',\n",
       " 'intersection_street_2',\n",
       " 'address_type',\n",
       " 'city',\n",
       " 'landmark',\n",
       " 'facility_type',\n",
       " 'status',\n",
       " 'due_date',\n",
       " 'resolution_description',\n",
       " 'resolution_action_updated_date',\n",
       " 'community_board',\n",
       " 'borough',\n",
       " 'x_coordinate',\n",
       " 'y_coordinate',\n",
       " 'park_facility_name',\n",
       " 'park_borough',\n",
       " 'school_name',\n",
       " 'school_number',\n",
       " 'school_region',\n",
       " 'school_code',\n",
       " 'school_phone_number',\n",
       " 'school_address',\n",
       " 'school_city',\n",
       " 'school_state',\n",
       " 'school_zip',\n",
       " 'school_not_found',\n",
       " 'school_or_citywide_complaint',\n",
       " 'vehicle_type',\n",
       " 'taxi_company_borough',\n",
       " 'taxi_pick_up_location',\n",
       " 'bridge_highway_name',\n",
       " 'bridge_highway_direction',\n",
       " 'road_ramp',\n",
       " 'bridge_highway_segment',\n",
       " 'garage_lot_name',\n",
       " 'ferry_direction',\n",
       " 'ferry_terminal_name',\n",
       " 'latitude',\n",
       " 'longitude',\n",
       " 'location']"
      ]
     },
     "execution_count": 20,
     "metadata": {},
     "output_type": "execute_result"
    }
   ],
   "source": [
    "cursor.execute(\"select column_name from information_schema.columns where table_name='noise_311'\")\n",
    "column_list = []\n",
    "for row in cursor.fetchall():\n",
    "    column_list.append(row[0])\n",
    "column_list"
   ]
  },
  {
   "cell_type": "code",
   "execution_count": 21,
   "metadata": {
    "collapsed": true
   },
   "outputs": [],
   "source": [
    "response = \"select * from noise_311\""
   ]
  },
  {
   "cell_type": "code",
   "execution_count": 22,
   "metadata": {
    "collapsed": false
   },
   "outputs": [],
   "source": [
    "cursor.execute(\"select * from noise_311\")\n",
    "output = []\n",
    "for row in cursor.fetchall():\n",
    "    output.append(row)\n"
   ]
  },
  {
   "cell_type": "code",
   "execution_count": 23,
   "metadata": {
    "collapsed": true
   },
   "outputs": [],
   "source": [
    "df = pd.DataFrame(data=output, columns=column_list)"
   ]
  },
  {
   "cell_type": "code",
   "execution_count": 24,
   "metadata": {
    "collapsed": false
   },
   "outputs": [
    {
     "data": {
      "text/html": [
       "<div>\n",
       "<table border=\"1\" class=\"dataframe\">\n",
       "  <thead>\n",
       "    <tr style=\"text-align: right;\">\n",
       "      <th></th>\n",
       "      <th>unique_key</th>\n",
       "      <th>created_date</th>\n",
       "      <th>closed_date</th>\n",
       "      <th>agency</th>\n",
       "      <th>agency_name</th>\n",
       "      <th>complaint_type</th>\n",
       "      <th>descriptor</th>\n",
       "      <th>location_type</th>\n",
       "      <th>incident_zip</th>\n",
       "      <th>incident_address</th>\n",
       "      <th>...</th>\n",
       "      <th>bridge_highway_name</th>\n",
       "      <th>bridge_highway_direction</th>\n",
       "      <th>road_ramp</th>\n",
       "      <th>bridge_highway_segment</th>\n",
       "      <th>garage_lot_name</th>\n",
       "      <th>ferry_direction</th>\n",
       "      <th>ferry_terminal_name</th>\n",
       "      <th>latitude</th>\n",
       "      <th>longitude</th>\n",
       "      <th>location</th>\n",
       "    </tr>\n",
       "  </thead>\n",
       "  <tbody>\n",
       "    <tr>\n",
       "      <th>0</th>\n",
       "      <td>28792167</td>\n",
       "      <td>2014-08-31 23:59:00</td>\n",
       "      <td>2014-09-01 03:52:00</td>\n",
       "      <td>NYPD</td>\n",
       "      <td>New York City Police Department</td>\n",
       "      <td>Noise - Street/Sidewalk</td>\n",
       "      <td>Loud Music/Party</td>\n",
       "      <td>Street/Sidewalk</td>\n",
       "      <td>11222</td>\n",
       "      <td>200 KINGSLAND AVENUE</td>\n",
       "      <td>...</td>\n",
       "      <td>None</td>\n",
       "      <td>None</td>\n",
       "      <td>None</td>\n",
       "      <td>None</td>\n",
       "      <td>None</td>\n",
       "      <td>None</td>\n",
       "      <td>None</td>\n",
       "      <td>40.7238883</td>\n",
       "      <td>-73.94134889</td>\n",
       "      <td>(40.723888303549415, -73.94134888943505)</td>\n",
       "    </tr>\n",
       "    <tr>\n",
       "      <th>1</th>\n",
       "      <td>28789088</td>\n",
       "      <td>2014-08-31 23:56:00</td>\n",
       "      <td>2014-09-01 06:17:00</td>\n",
       "      <td>NYPD</td>\n",
       "      <td>New York City Police Department</td>\n",
       "      <td>Noise - Vehicle</td>\n",
       "      <td>Car/Truck Music</td>\n",
       "      <td>Street/Sidewalk</td>\n",
       "      <td>11234</td>\n",
       "      <td>FLATLANDS AVENUE</td>\n",
       "      <td>...</td>\n",
       "      <td>None</td>\n",
       "      <td>None</td>\n",
       "      <td>None</td>\n",
       "      <td>None</td>\n",
       "      <td>None</td>\n",
       "      <td>None</td>\n",
       "      <td>None</td>\n",
       "      <td>40.61948901</td>\n",
       "      <td>-73.93805105</td>\n",
       "      <td>(40.61948901090983, -73.93805104516916)</td>\n",
       "    </tr>\n",
       "    <tr>\n",
       "      <th>2</th>\n",
       "      <td>28791854</td>\n",
       "      <td>2014-08-31 23:54:00</td>\n",
       "      <td>2014-09-01 01:29:00</td>\n",
       "      <td>NYPD</td>\n",
       "      <td>New York City Police Department</td>\n",
       "      <td>Noise - Commercial</td>\n",
       "      <td>Loud Music/Party</td>\n",
       "      <td>Club/Bar/Restaurant</td>\n",
       "      <td>10002</td>\n",
       "      <td>161 LUDLOW STREET</td>\n",
       "      <td>...</td>\n",
       "      <td>None</td>\n",
       "      <td>None</td>\n",
       "      <td>None</td>\n",
       "      <td>None</td>\n",
       "      <td>None</td>\n",
       "      <td>None</td>\n",
       "      <td>None</td>\n",
       "      <td>40.72141034</td>\n",
       "      <td>-73.98769444</td>\n",
       "      <td>(40.72141034382407, -73.98769444021134)</td>\n",
       "    </tr>\n",
       "  </tbody>\n",
       "</table>\n",
       "<p>3 rows × 53 columns</p>\n",
       "</div>"
      ],
      "text/plain": [
       "   unique_key        created_date         closed_date agency  \\\n",
       "0    28792167 2014-08-31 23:59:00 2014-09-01 03:52:00   NYPD   \n",
       "1    28789088 2014-08-31 23:56:00 2014-09-01 06:17:00   NYPD   \n",
       "2    28791854 2014-08-31 23:54:00 2014-09-01 01:29:00   NYPD   \n",
       "\n",
       "                       agency_name           complaint_type        descriptor  \\\n",
       "0  New York City Police Department  Noise - Street/Sidewalk  Loud Music/Party   \n",
       "1  New York City Police Department          Noise - Vehicle   Car/Truck Music   \n",
       "2  New York City Police Department       Noise - Commercial  Loud Music/Party   \n",
       "\n",
       "         location_type incident_zip      incident_address  \\\n",
       "0      Street/Sidewalk        11222  200 KINGSLAND AVENUE   \n",
       "1      Street/Sidewalk        11234      FLATLANDS AVENUE   \n",
       "2  Club/Bar/Restaurant        10002     161 LUDLOW STREET   \n",
       "\n",
       "                     ...                    bridge_highway_name  \\\n",
       "0                    ...                                   None   \n",
       "1                    ...                                   None   \n",
       "2                    ...                                   None   \n",
       "\n",
       "  bridge_highway_direction road_ramp bridge_highway_segment garage_lot_name  \\\n",
       "0                     None      None                   None            None   \n",
       "1                     None      None                   None            None   \n",
       "2                     None      None                   None            None   \n",
       "\n",
       "  ferry_direction ferry_terminal_name     latitude     longitude  \\\n",
       "0            None                None   40.7238883  -73.94134889   \n",
       "1            None                None  40.61948901  -73.93805105   \n",
       "2            None                None  40.72141034  -73.98769444   \n",
       "\n",
       "                                   location  \n",
       "0  (40.723888303549415, -73.94134888943505)  \n",
       "1   (40.61948901090983, -73.93805104516916)  \n",
       "2   (40.72141034382407, -73.98769444021134)  \n",
       "\n",
       "[3 rows x 53 columns]"
      ]
     },
     "execution_count": 24,
     "metadata": {},
     "output_type": "execute_result"
    }
   ],
   "source": [
    "df.head(3)"
   ]
  },
  {
   "cell_type": "code",
   "execution_count": 27,
   "metadata": {
    "collapsed": false
   },
   "outputs": [],
   "source": [
    "sel_df = df[[\n",
    " 'unique_key',\n",
    " 'agency',\n",
    " 'agency_name',\n",
    " 'created_date',\n",
    " 'closed_date',                  \n",
    " 'complaint_type',\n",
    " 'descriptor',\n",
    " 'status',\n",
    " 'due_date',\n",
    " 'resolution_description',\n",
    " 'city',\n",
    " 'borough'\n",
    " ]]"
   ]
  },
  {
   "cell_type": "code",
   "execution_count": 28,
   "metadata": {
    "collapsed": false
   },
   "outputs": [
    {
     "data": {
      "text/html": [
       "<div>\n",
       "<table border=\"1\" class=\"dataframe\">\n",
       "  <thead>\n",
       "    <tr style=\"text-align: right;\">\n",
       "      <th></th>\n",
       "      <th>unique_key</th>\n",
       "      <th>agency</th>\n",
       "      <th>agency_name</th>\n",
       "      <th>created_date</th>\n",
       "      <th>closed_date</th>\n",
       "      <th>complaint_type</th>\n",
       "      <th>descriptor</th>\n",
       "      <th>status</th>\n",
       "      <th>due_date</th>\n",
       "      <th>resolution_description</th>\n",
       "      <th>city</th>\n",
       "      <th>borough</th>\n",
       "    </tr>\n",
       "  </thead>\n",
       "  <tbody>\n",
       "    <tr>\n",
       "      <th>0</th>\n",
       "      <td>28792167</td>\n",
       "      <td>NYPD</td>\n",
       "      <td>New York City Police Department</td>\n",
       "      <td>2014-08-31 23:59:00</td>\n",
       "      <td>2014-09-01 03:52:00</td>\n",
       "      <td>Noise - Street/Sidewalk</td>\n",
       "      <td>Loud Music/Party</td>\n",
       "      <td>Closed</td>\n",
       "      <td>9/1/14 7:59</td>\n",
       "      <td>None</td>\n",
       "      <td>BROOKLYN</td>\n",
       "      <td>BROOKLYN</td>\n",
       "    </tr>\n",
       "    <tr>\n",
       "      <th>1</th>\n",
       "      <td>28789088</td>\n",
       "      <td>NYPD</td>\n",
       "      <td>New York City Police Department</td>\n",
       "      <td>2014-08-31 23:56:00</td>\n",
       "      <td>2014-09-01 06:17:00</td>\n",
       "      <td>Noise - Vehicle</td>\n",
       "      <td>Car/Truck Music</td>\n",
       "      <td>Closed</td>\n",
       "      <td>9/1/14 7:56</td>\n",
       "      <td>None</td>\n",
       "      <td>BROOKLYN</td>\n",
       "      <td>BROOKLYN</td>\n",
       "    </tr>\n",
       "    <tr>\n",
       "      <th>2</th>\n",
       "      <td>28791854</td>\n",
       "      <td>NYPD</td>\n",
       "      <td>New York City Police Department</td>\n",
       "      <td>2014-08-31 23:54:00</td>\n",
       "      <td>2014-09-01 01:29:00</td>\n",
       "      <td>Noise - Commercial</td>\n",
       "      <td>Loud Music/Party</td>\n",
       "      <td>Closed</td>\n",
       "      <td>9/1/14 7:54</td>\n",
       "      <td>None</td>\n",
       "      <td>NEW YORK</td>\n",
       "      <td>MANHATTAN</td>\n",
       "    </tr>\n",
       "  </tbody>\n",
       "</table>\n",
       "</div>"
      ],
      "text/plain": [
       "   unique_key agency                      agency_name        created_date  \\\n",
       "0    28792167   NYPD  New York City Police Department 2014-08-31 23:59:00   \n",
       "1    28789088   NYPD  New York City Police Department 2014-08-31 23:56:00   \n",
       "2    28791854   NYPD  New York City Police Department 2014-08-31 23:54:00   \n",
       "\n",
       "          closed_date           complaint_type        descriptor  status  \\\n",
       "0 2014-09-01 03:52:00  Noise - Street/Sidewalk  Loud Music/Party  Closed   \n",
       "1 2014-09-01 06:17:00          Noise - Vehicle   Car/Truck Music  Closed   \n",
       "2 2014-09-01 01:29:00       Noise - Commercial  Loud Music/Party  Closed   \n",
       "\n",
       "      due_date resolution_description      city    borough  \n",
       "0  9/1/14 7:59                   None  BROOKLYN   BROOKLYN  \n",
       "1  9/1/14 7:56                   None  BROOKLYN   BROOKLYN  \n",
       "2  9/1/14 7:54                   None  NEW YORK  MANHATTAN  "
      ]
     },
     "execution_count": 28,
     "metadata": {},
     "output_type": "execute_result"
    }
   ],
   "source": [
    "sel_df.head(3)"
   ]
  },
  {
   "cell_type": "code",
   "execution_count": 29,
   "metadata": {
    "collapsed": false,
    "scrolled": true
   },
   "outputs": [
    {
     "name": "stdout",
     "output_type": "stream",
     "text": [
      "<class 'pandas.core.frame.DataFrame'>\n",
      "RangeIndex: 37615 entries, 0 to 37614\n",
      "Data columns (total 12 columns):\n",
      "unique_key                37615 non-null int64\n",
      "agency                    37615 non-null object\n",
      "agency_name               37615 non-null object\n",
      "created_date              37615 non-null datetime64[ns]\n",
      "closed_date               37615 non-null datetime64[ns]\n",
      "complaint_type            37615 non-null object\n",
      "descriptor                37615 non-null object\n",
      "status                    37615 non-null object\n",
      "due_date                  34758 non-null object\n",
      "resolution_description    0 non-null object\n",
      "city                      37602 non-null object\n",
      "borough                   37615 non-null object\n",
      "dtypes: datetime64[ns](2), int64(1), object(9)\n",
      "memory usage: 2.2+ MB\n"
     ]
    }
   ],
   "source": [
    "sel_df.info()"
   ]
  },
  {
   "cell_type": "code",
   "execution_count": 78,
   "metadata": {
    "collapsed": false
   },
   "outputs": [],
   "source": [
    "#dateutil.parser.parse(\"2016-02-01 00:15:00\")"
   ]
  },
  {
   "cell_type": "code",
   "execution_count": 30,
   "metadata": {
    "collapsed": false
   },
   "outputs": [
    {
     "name": "stdout",
     "output_type": "stream",
     "text": [
      "<class 'pandas.core.frame.DataFrame'>\n",
      "RangeIndex: 37615 entries, 0 to 37614\n",
      "Data columns (total 13 columns):\n",
      "unique_key                37615 non-null int64\n",
      "agency                    37615 non-null object\n",
      "agency_name               37615 non-null object\n",
      "created_date              37615 non-null datetime64[ns]\n",
      "closed_date               37615 non-null datetime64[ns]\n",
      "complaint_type            37615 non-null object\n",
      "descriptor                37615 non-null object\n",
      "status                    37615 non-null object\n",
      "due_date                  34758 non-null object\n",
      "resolution_description    0 non-null object\n",
      "city                      37602 non-null object\n",
      "borough                   37615 non-null object\n",
      "ClosedDate                37615 non-null datetime64[ns]\n",
      "dtypes: datetime64[ns](3), int64(1), object(9)\n",
      "memory usage: 2.4+ MB\n"
     ]
    },
    {
     "name": "stderr",
     "output_type": "stream",
     "text": [
      "c:\\users\\radhika\\appdata\\local\\programs\\python\\python35-32\\lib\\site-packages\\ipykernel\\__main__.py:1: SettingWithCopyWarning: \n",
      "A value is trying to be set on a copy of a slice from a DataFrame.\n",
      "Try using .loc[row_indexer,col_indexer] = value instead\n",
      "\n",
      "See the caveats in the documentation: http://pandas.pydata.org/pandas-docs/stable/indexing.html#indexing-view-versus-copy\n",
      "  if __name__ == '__main__':\n"
     ]
    }
   ],
   "source": [
    "sel_df['ClosedDate'] = pd.to_datetime(sel_df['closed_date'], format='%m/%d/%y %H:%M:%S')\n",
    "sel_df.info()"
   ]
  },
  {
   "cell_type": "code",
   "execution_count": 31,
   "metadata": {
    "collapsed": false
   },
   "outputs": [
    {
     "name": "stdout",
     "output_type": "stream",
     "text": [
      "<class 'pandas.core.frame.DataFrame'>\n",
      "RangeIndex: 37615 entries, 0 to 37614\n",
      "Data columns (total 14 columns):\n",
      "unique_key                37615 non-null int64\n",
      "agency                    37615 non-null object\n",
      "agency_name               37615 non-null object\n",
      "created_date              37615 non-null datetime64[ns]\n",
      "closed_date               37615 non-null datetime64[ns]\n",
      "complaint_type            37615 non-null object\n",
      "descriptor                37615 non-null object\n",
      "status                    37615 non-null object\n",
      "due_date                  34758 non-null object\n",
      "resolution_description    0 non-null object\n",
      "city                      37602 non-null object\n",
      "borough                   37615 non-null object\n",
      "ClosedDate                37615 non-null datetime64[ns]\n",
      "CreatedDate               37615 non-null datetime64[ns]\n",
      "dtypes: datetime64[ns](4), int64(1), object(9)\n",
      "memory usage: 2.7+ MB\n"
     ]
    },
    {
     "name": "stderr",
     "output_type": "stream",
     "text": [
      "c:\\users\\radhika\\appdata\\local\\programs\\python\\python35-32\\lib\\site-packages\\ipykernel\\__main__.py:2: SettingWithCopyWarning: \n",
      "A value is trying to be set on a copy of a slice from a DataFrame.\n",
      "Try using .loc[row_indexer,col_indexer] = value instead\n",
      "\n",
      "See the caveats in the documentation: http://pandas.pydata.org/pandas-docs/stable/indexing.html#indexing-view-versus-copy\n",
      "  from ipykernel import kernelapp as app\n"
     ]
    }
   ],
   "source": [
    "#no need to do this step as created date and closed date are already in datetime format\n",
    "sel_df['CreatedDate'] = pd.to_datetime(sel_df['created_date'], format='%m/%d/%y %H:%M:%S')\n",
    "sel_df.info()"
   ]
  },
  {
   "cell_type": "code",
   "execution_count": 32,
   "metadata": {
    "collapsed": false
   },
   "outputs": [
    {
     "name": "stderr",
     "output_type": "stream",
     "text": [
      "c:\\users\\radhika\\appdata\\local\\programs\\python\\python35-32\\lib\\site-packages\\ipykernel\\__main__.py:1: SettingWithCopyWarning: \n",
      "A value is trying to be set on a copy of a slice from a DataFrame.\n",
      "Try using .loc[row_indexer,col_indexer] = value instead\n",
      "\n",
      "See the caveats in the documentation: http://pandas.pydata.org/pandas-docs/stable/indexing.html#indexing-view-versus-copy\n",
      "  if __name__ == '__main__':\n"
     ]
    },
    {
     "data": {
      "text/plain": [
       "0   03:53:00\n",
       "1   06:21:00\n",
       "2   01:35:00\n",
       "Name: delay, dtype: timedelta64[ns]"
      ]
     },
     "execution_count": 32,
     "metadata": {},
     "output_type": "execute_result"
    }
   ],
   "source": [
    "sel_df['delay'] = sel_df['ClosedDate'] - sel_df['CreatedDate']\n",
    "sel_df['delay'].head(3)"
   ]
  },
  {
   "cell_type": "code",
   "execution_count": 34,
   "metadata": {
    "collapsed": false,
    "scrolled": true
   },
   "outputs": [
    {
     "data": {
      "text/plain": [
       "False    37615\n",
       "Name: delay, dtype: int64"
      ]
     },
     "execution_count": 34,
     "metadata": {},
     "output_type": "execute_result"
    }
   ],
   "source": [
    "sel_df['delay'].isnull().value_counts()"
   ]
  },
  {
   "cell_type": "code",
   "execution_count": 35,
   "metadata": {
    "collapsed": false
   },
   "outputs": [
    {
     "data": {
      "text/html": [
       "<div>\n",
       "<table border=\"1\" class=\"dataframe\">\n",
       "  <thead>\n",
       "    <tr style=\"text-align: right;\">\n",
       "      <th></th>\n",
       "      <th>delay</th>\n",
       "    </tr>\n",
       "  </thead>\n",
       "  <tbody>\n",
       "    <tr>\n",
       "      <th>count</th>\n",
       "      <td>37615</td>\n",
       "    </tr>\n",
       "    <tr>\n",
       "      <th>mean</th>\n",
       "      <td>0 days 07:44:22.532500</td>\n",
       "    </tr>\n",
       "    <tr>\n",
       "      <th>std</th>\n",
       "      <td>1 days 12:06:09.012799</td>\n",
       "    </tr>\n",
       "    <tr>\n",
       "      <th>min</th>\n",
       "      <td>0 days 00:01:00</td>\n",
       "    </tr>\n",
       "    <tr>\n",
       "      <th>25%</th>\n",
       "      <td>0 days 00:54:00</td>\n",
       "    </tr>\n",
       "    <tr>\n",
       "      <th>50%</th>\n",
       "      <td>0 days 02:02:00</td>\n",
       "    </tr>\n",
       "    <tr>\n",
       "      <th>75%</th>\n",
       "      <td>0 days 04:15:00</td>\n",
       "    </tr>\n",
       "    <tr>\n",
       "      <th>max</th>\n",
       "      <td>48 days 05:45:00</td>\n",
       "    </tr>\n",
       "  </tbody>\n",
       "</table>\n",
       "</div>"
      ],
      "text/plain": [
       "                        delay\n",
       "count                   37615\n",
       "mean   0 days 07:44:22.532500\n",
       "std    1 days 12:06:09.012799\n",
       "min           0 days 00:01:00\n",
       "25%           0 days 00:54:00\n",
       "50%           0 days 02:02:00\n",
       "75%           0 days 04:15:00\n",
       "max          48 days 05:45:00"
      ]
     },
     "execution_count": 35,
     "metadata": {},
     "output_type": "execute_result"
    }
   ],
   "source": [
    "delay_delta = pd.DataFrame(sel_df['delay'][sel_df['delay']> pd.Timedelta(seconds=0)].dropna())\n",
    "delay_delta.describe()"
   ]
  },
  {
   "cell_type": "code",
   "execution_count": 36,
   "metadata": {
    "collapsed": false
   },
   "outputs": [
    {
     "data": {
      "text/html": [
       "<div>\n",
       "<table border=\"1\" class=\"dataframe\">\n",
       "  <thead>\n",
       "    <tr style=\"text-align: right;\">\n",
       "      <th></th>\n",
       "      <th>delay</th>\n",
       "    </tr>\n",
       "  </thead>\n",
       "  <tbody>\n",
       "    <tr>\n",
       "      <th>0</th>\n",
       "      <td>03:53:00</td>\n",
       "    </tr>\n",
       "    <tr>\n",
       "      <th>1</th>\n",
       "      <td>06:21:00</td>\n",
       "    </tr>\n",
       "    <tr>\n",
       "      <th>2</th>\n",
       "      <td>01:35:00</td>\n",
       "    </tr>\n",
       "    <tr>\n",
       "      <th>3</th>\n",
       "      <td>03:01:00</td>\n",
       "    </tr>\n",
       "    <tr>\n",
       "      <th>4</th>\n",
       "      <td>01:19:00</td>\n",
       "    </tr>\n",
       "  </tbody>\n",
       "</table>\n",
       "</div>"
      ],
      "text/plain": [
       "     delay\n",
       "0 03:53:00\n",
       "1 06:21:00\n",
       "2 01:35:00\n",
       "3 03:01:00\n",
       "4 01:19:00"
      ]
     },
     "execution_count": 36,
     "metadata": {},
     "output_type": "execute_result"
    }
   ],
   "source": [
    "delay_delta.head()"
   ]
  },
  {
   "cell_type": "code",
   "execution_count": 37,
   "metadata": {
    "collapsed": false
   },
   "outputs": [
    {
     "data": {
      "text/plain": [
       "False    37615\n",
       "Name: delay, dtype: int64"
      ]
     },
     "execution_count": 37,
     "metadata": {},
     "output_type": "execute_result"
    }
   ],
   "source": [
    "#now all the null values have been removed. great ! now i can test with a dataframe.\n",
    "delay_delta['delay'].isnull().value_counts()"
   ]
  },
  {
   "cell_type": "code",
   "execution_count": 41,
   "metadata": {
    "collapsed": false
   },
   "outputs": [
    {
     "data": {
      "text/plain": [
       "0        233.0\n",
       "1        381.0\n",
       "2         95.0\n",
       "3        181.0\n",
       "4         79.0\n",
       "5        186.0\n",
       "6         64.0\n",
       "7        258.0\n",
       "8        288.0\n",
       "9        205.0\n",
       "10       292.0\n",
       "11       156.0\n",
       "12       234.0\n",
       "13       313.0\n",
       "14       186.0\n",
       "15        60.0\n",
       "16       207.0\n",
       "17       812.0\n",
       "18       105.0\n",
       "19       168.0\n",
       "20       354.0\n",
       "21         7.0\n",
       "22        33.0\n",
       "23       171.0\n",
       "24       327.0\n",
       "25        21.0\n",
       "26       132.0\n",
       "27       166.0\n",
       "28       176.0\n",
       "29       313.0\n",
       "         ...  \n",
       "37585    182.0\n",
       "37586    254.0\n",
       "37587    111.0\n",
       "37588    264.0\n",
       "37589     42.0\n",
       "37590    376.0\n",
       "37591    111.0\n",
       "37592     39.0\n",
       "37593    287.0\n",
       "37594     47.0\n",
       "37595     50.0\n",
       "37596    118.0\n",
       "37597     88.0\n",
       "37598    117.0\n",
       "37599    127.0\n",
       "37600    141.0\n",
       "37601    185.0\n",
       "37602    176.0\n",
       "37603     55.0\n",
       "37604     74.0\n",
       "37605     95.0\n",
       "37606    842.0\n",
       "37607    192.0\n",
       "37608    102.0\n",
       "37609     72.0\n",
       "37610    624.0\n",
       "37611    144.0\n",
       "37612    278.0\n",
       "37613    134.0\n",
       "37614    458.0\n",
       "Name: delay, dtype: float64"
      ]
     },
     "execution_count": 41,
     "metadata": {},
     "output_type": "execute_result"
    }
   ],
   "source": [
    "#changing the delta value to seconds so that we can plot easily\n",
    "delay_delta['delay'].astype('timedelta64[m]')"
   ]
  },
  {
   "cell_type": "code",
   "execution_count": 43,
   "metadata": {
    "collapsed": false
   },
   "outputs": [
    {
     "data": {
      "text/plain": [
       "<matplotlib.text.Text at 0xb5def10>"
      ]
     },
     "execution_count": 43,
     "metadata": {},
     "output_type": "execute_result"
    },
    {
     "data": {
      "image/png": "[encoded data removed]",
      "text/plain": [
       "<matplotlib.figure.Figure at 0xb2e5870>"
      ]
     },
     "metadata": {},
     "output_type": "display_data"
    }
   ],
   "source": [
    "# plotting time delata in days bucket\n",
    "delay_delta['delay'].astype('timedelta64[m]').hist(bins=20)\n",
    "plt.xlabel('Response in Minutes')\n",
    "plt.ylabel('Frequency of Resonse')"
   ]
  },
  {
   "cell_type": "code",
   "execution_count": 44,
   "metadata": {
    "collapsed": false
   },
   "outputs": [
    {
     "data": {
      "text/plain": [
       "<matplotlib.text.Text at 0xb936710>"
      ]
     },
     "execution_count": 44,
     "metadata": {},
     "output_type": "execute_result"
    },
    {
     "data": {
      "image/png": "[encoded data removed]",
      "text/plain": [
       "<matplotlib.figure.Figure at 0x624c030>"
      ]
     },
     "metadata": {},
     "output_type": "display_data"
    }
   ],
   "source": [
    "# plotting time delata in days bucket\n",
    "delay_delta['delay'].astype('timedelta64[D]').hist(bins=20)\n",
    "plt.xlabel('Response in Minutes')\n",
    "plt.ylabel('Frequency of Resonse')"
   ]
  },
  {
   "cell_type": "code",
   "execution_count": 21,
   "metadata": {
    "collapsed": false
   },
   "outputs": [
    {
     "data": {
      "text/plain": [
       "0   01:03:00\n",
       "1   00:40:00\n",
       "2   01:15:00\n",
       "3   02:18:00\n",
       "4   00:41:00\n",
       "Name: delay, dtype: timedelta64[ns]"
      ]
     },
     "execution_count": 21,
     "metadata": {},
     "output_type": "execute_result"
    }
   ],
   "source": [
    "delay_delta['delay'].head()"
   ]
  },
  {
   "cell_type": "code",
   "execution_count": 46,
   "metadata": {
    "collapsed": false
   },
   "outputs": [
    {
     "data": {
      "text/html": [
       "<div>\n",
       "<table border=\"1\" class=\"dataframe\">\n",
       "  <thead>\n",
       "    <tr style=\"text-align: right;\">\n",
       "      <th></th>\n",
       "      <th>unique_key</th>\n",
       "      <th>agency</th>\n",
       "      <th>agency_name</th>\n",
       "      <th>created_date</th>\n",
       "      <th>closed_date</th>\n",
       "      <th>complaint_type</th>\n",
       "      <th>descriptor</th>\n",
       "      <th>status</th>\n",
       "      <th>due_date</th>\n",
       "      <th>resolution_description</th>\n",
       "      <th>city</th>\n",
       "      <th>borough</th>\n",
       "      <th>ClosedDate</th>\n",
       "      <th>CreatedDate</th>\n",
       "      <th>delay</th>\n",
       "    </tr>\n",
       "  </thead>\n",
       "  <tbody>\n",
       "    <tr>\n",
       "      <th>0</th>\n",
       "      <td>28792167</td>\n",
       "      <td>NYPD</td>\n",
       "      <td>New York City Police Department</td>\n",
       "      <td>2014-08-31 23:59:00</td>\n",
       "      <td>2014-09-01 03:52:00</td>\n",
       "      <td>Noise - Street/Sidewalk</td>\n",
       "      <td>Loud Music/Party</td>\n",
       "      <td>Closed</td>\n",
       "      <td>9/1/14 7:59</td>\n",
       "      <td>None</td>\n",
       "      <td>BROOKLYN</td>\n",
       "      <td>BROOKLYN</td>\n",
       "      <td>2014-09-01 03:52:00</td>\n",
       "      <td>2014-08-31 23:59:00</td>\n",
       "      <td>03:53:00</td>\n",
       "    </tr>\n",
       "    <tr>\n",
       "      <th>1</th>\n",
       "      <td>28789088</td>\n",
       "      <td>NYPD</td>\n",
       "      <td>New York City Police Department</td>\n",
       "      <td>2014-08-31 23:56:00</td>\n",
       "      <td>2014-09-01 06:17:00</td>\n",
       "      <td>Noise - Vehicle</td>\n",
       "      <td>Car/Truck Music</td>\n",
       "      <td>Closed</td>\n",
       "      <td>9/1/14 7:56</td>\n",
       "      <td>None</td>\n",
       "      <td>BROOKLYN</td>\n",
       "      <td>BROOKLYN</td>\n",
       "      <td>2014-09-01 06:17:00</td>\n",
       "      <td>2014-08-31 23:56:00</td>\n",
       "      <td>06:21:00</td>\n",
       "    </tr>\n",
       "    <tr>\n",
       "      <th>2</th>\n",
       "      <td>28791854</td>\n",
       "      <td>NYPD</td>\n",
       "      <td>New York City Police Department</td>\n",
       "      <td>2014-08-31 23:54:00</td>\n",
       "      <td>2014-09-01 01:29:00</td>\n",
       "      <td>Noise - Commercial</td>\n",
       "      <td>Loud Music/Party</td>\n",
       "      <td>Closed</td>\n",
       "      <td>9/1/14 7:54</td>\n",
       "      <td>None</td>\n",
       "      <td>NEW YORK</td>\n",
       "      <td>MANHATTAN</td>\n",
       "      <td>2014-09-01 01:29:00</td>\n",
       "      <td>2014-08-31 23:54:00</td>\n",
       "      <td>01:35:00</td>\n",
       "    </tr>\n",
       "  </tbody>\n",
       "</table>\n",
       "</div>"
      ],
      "text/plain": [
       "   unique_key agency                      agency_name        created_date  \\\n",
       "0    28792167   NYPD  New York City Police Department 2014-08-31 23:59:00   \n",
       "1    28789088   NYPD  New York City Police Department 2014-08-31 23:56:00   \n",
       "2    28791854   NYPD  New York City Police Department 2014-08-31 23:54:00   \n",
       "\n",
       "          closed_date           complaint_type        descriptor  status  \\\n",
       "0 2014-09-01 03:52:00  Noise - Street/Sidewalk  Loud Music/Party  Closed   \n",
       "1 2014-09-01 06:17:00          Noise - Vehicle   Car/Truck Music  Closed   \n",
       "2 2014-09-01 01:29:00       Noise - Commercial  Loud Music/Party  Closed   \n",
       "\n",
       "      due_date resolution_description      city    borough  \\\n",
       "0  9/1/14 7:59                   None  BROOKLYN   BROOKLYN   \n",
       "1  9/1/14 7:56                   None  BROOKLYN   BROOKLYN   \n",
       "2  9/1/14 7:54                   None  NEW YORK  MANHATTAN   \n",
       "\n",
       "           ClosedDate         CreatedDate    delay  \n",
       "0 2014-09-01 03:52:00 2014-08-31 23:59:00 03:53:00  \n",
       "1 2014-09-01 06:17:00 2014-08-31 23:56:00 06:21:00  \n",
       "2 2014-09-01 01:29:00 2014-08-31 23:54:00 01:35:00  "
      ]
     },
     "execution_count": 46,
     "metadata": {},
     "output_type": "execute_result"
    }
   ],
   "source": [
    "sel_df.head(3)"
   ]
  },
  {
   "cell_type": "code",
   "execution_count": 47,
   "metadata": {
    "collapsed": false
   },
   "outputs": [
    {
     "data": {
      "text/plain": [
       "0   03:53:00\n",
       "1   06:21:00\n",
       "2   01:35:00\n",
       "3   03:01:00\n",
       "4   01:19:00\n",
       "Name: delay, dtype: timedelta64[ns]"
      ]
     },
     "execution_count": 47,
     "metadata": {},
     "output_type": "execute_result"
    }
   ],
   "source": [
    "delay_delta['delay'].head()"
   ]
  },
  {
   "cell_type": "code",
   "execution_count": 48,
   "metadata": {
    "collapsed": false
   },
   "outputs": [
    {
     "data": {
      "text/plain": [
       "00:21:00    222\n",
       "00:10:00    221\n",
       "00:36:00    212\n",
       "00:33:00    211\n",
       "00:31:00    210\n",
       "Name: delay, dtype: int64"
      ]
     },
     "execution_count": 48,
     "metadata": {},
     "output_type": "execute_result"
    }
   ],
   "source": [
    "delay_delta['delay'].value_counts().head()"
   ]
  },
  {
   "cell_type": "code",
   "execution_count": 49,
   "metadata": {
    "collapsed": false
   },
   "outputs": [
    {
     "data": {
      "text/plain": [
       "<matplotlib.text.Text at 0xba3def0>"
      ]
     },
     "execution_count": 49,
     "metadata": {},
     "output_type": "execute_result"
    },
    {
     "data": {
      "image/png": "[encoded data removed]",
      "text/plain": [
       "<matplotlib.figure.Figure at 0xb9e1b90>"
      ]
     },
     "metadata": {},
     "output_type": "display_data"
    }
   ],
   "source": [
    "delay_delta['delay'].value_counts().hist()\n",
    "plt.xlabel('Delay')\n",
    "plt.ylabel('Frequency of Delay')"
   ]
  },
  {
   "cell_type": "code",
   "execution_count": 51,
   "metadata": {
    "collapsed": false
   },
   "outputs": [
    {
     "data": {
      "text/html": [
       "<div>\n",
       "<table border=\"1\" class=\"dataframe\">\n",
       "  <thead>\n",
       "    <tr style=\"text-align: right;\">\n",
       "      <th></th>\n",
       "      <th>delay</th>\n",
       "    </tr>\n",
       "  </thead>\n",
       "  <tbody>\n",
       "    <tr>\n",
       "      <th>00:21:00</th>\n",
       "      <td>222</td>\n",
       "    </tr>\n",
       "    <tr>\n",
       "      <th>00:10:00</th>\n",
       "      <td>221</td>\n",
       "    </tr>\n",
       "    <tr>\n",
       "      <th>00:36:00</th>\n",
       "      <td>212</td>\n",
       "    </tr>\n",
       "    <tr>\n",
       "      <th>00:33:00</th>\n",
       "      <td>211</td>\n",
       "    </tr>\n",
       "    <tr>\n",
       "      <th>00:31:00</th>\n",
       "      <td>210</td>\n",
       "    </tr>\n",
       "  </tbody>\n",
       "</table>\n",
       "</div>"
      ],
      "text/plain": [
       "          delay\n",
       "00:21:00    222\n",
       "00:10:00    221\n",
       "00:36:00    212\n",
       "00:33:00    211\n",
       "00:31:00    210"
      ]
     },
     "execution_count": 51,
     "metadata": {},
     "output_type": "execute_result"
    }
   ],
   "source": [
    "delay_plot = pd.DataFrame(delay_delta['delay'].value_counts())\n",
    "delay_plot.head()"
   ]
  },
  {
   "cell_type": "code",
   "execution_count": 51,
   "metadata": {
    "collapsed": false
   },
   "outputs": [
    {
     "data": {
      "text/plain": [
       "count                     37615\n",
       "mean     0 days 07:44:22.532500\n",
       "std      1 days 12:06:09.012799\n",
       "min             0 days 00:01:00\n",
       "25%             0 days 00:54:00\n",
       "50%             0 days 02:02:00\n",
       "75%             0 days 04:15:00\n",
       "max            48 days 05:45:00\n",
       "Name: delay, dtype: object"
      ]
     },
     "execution_count": 52,
     "metadata": {},
     "output_type": "execute_result"
    },
    {
     "name": "stdout",
     "output_type": "stream",
     "text": [
      "ERROR! Session/line number was not unique in database. History logging moved to new session 508\n"
     ]
    },
    {
     "ename": "KeyboardInterrupt",
     "evalue": "",
     "output_type": "error",
     "traceback": [
      "Traceback (most recent call last):\n",
      "  File \"c:\\users\\radhika\\appdata\\local\\programs\\python\\python35-32\\lib\\site-packages\\ipykernel\\ipkernel.py\", line 199, in do_execute\n    shell.run_cell(code, store_history=store_history, silent=silent)\n",
      "  File \"c:\\users\\radhika\\appdata\\local\\programs\\python\\python35-32\\lib\\site-packages\\IPython\\core\\interactiveshell.py\", line 2729, in run_cell\n    self.events.trigger('post_execute')\n",
      "  File \"c:\\users\\radhika\\appdata\\local\\programs\\python\\python35-32\\lib\\site-packages\\IPython\\core\\events.py\", line 74, in trigger\n    func(*args, **kwargs)\n",
      "  File \"c:\\users\\radhika\\appdata\\local\\programs\\python\\python35-32\\lib\\site-packages\\ipykernel\\pylab\\backend_inline.py\", line 113, in flush_figures\n    return show(True)\n",
      "  File \"c:\\users\\radhika\\appdata\\local\\programs\\python\\python35-32\\lib\\site-packages\\ipykernel\\pylab\\backend_inline.py\", line 36, in show\n    display(figure_manager.canvas.figure)\n",
      "  File \"c:\\users\\radhika\\appdata\\local\\programs\\python\\python35-32\\lib\\site-packages\\IPython\\core\\display.py\", line 158, in display\n    format_dict, md_dict = format(obj, include=include, exclude=exclude)\n",
      "  File \"c:\\users\\radhika\\appdata\\local\\programs\\python\\python35-32\\lib\\site-packages\\IPython\\core\\formatters.py\", line 177, in format\n    data = formatter(obj)\n",
      "  File \"<decorator-gen-9>\", line 2, in __call__\n",
      "  File \"c:\\users\\radhika\\appdata\\local\\programs\\python\\python35-32\\lib\\site-packages\\IPython\\core\\formatters.py\", line 222, in catch_format_error\n    r = method(self, *args, **kwargs)\n",
      "  File \"c:\\users\\radhika\\appdata\\local\\programs\\python\\python35-32\\lib\\site-packages\\IPython\\core\\formatters.py\", line 339, in __call__\n    return printer(obj)\n",
      "  File \"c:\\users\\radhika\\appdata\\local\\programs\\python\\python35-32\\lib\\site-packages\\IPython\\core\\pylabtools.py\", line 228, in <lambda>\n    png_formatter.for_type(Figure, lambda fig: print_figure(fig, 'png', **kwargs))\n",
      "  File \"c:\\users\\radhika\\appdata\\local\\programs\\python\\python35-32\\lib\\site-packages\\IPython\\core\\pylabtools.py\", line 119, in print_figure\n    fig.canvas.print_figure(bytes_io, **kw)\n",
      "  File \"c:\\users\\radhika\\appdata\\local\\programs\\python\\python35-32\\lib\\site-packages\\matplotlib\\backend_bases.py\", line 2180, in print_figure\n    **kwargs)\n",
      "  File \"c:\\users\\radhika\\appdata\\local\\programs\\python\\python35-32\\lib\\site-packages\\matplotlib\\backends\\backend_agg.py\", line 527, in print_png\n    FigureCanvasAgg.draw(self)\n",
      "  File \"c:\\users\\radhika\\appdata\\local\\programs\\python\\python35-32\\lib\\site-packages\\matplotlib\\backends\\backend_agg.py\", line 474, in draw\n    self.figure.draw(self.renderer)\n",
      "  File \"c:\\users\\radhika\\appdata\\local\\programs\\python\\python35-32\\lib\\site-packages\\matplotlib\\artist.py\", line 61, in draw_wrapper\n    draw(artist, renderer, *args, **kwargs)\n",
      "  File \"c:\\users\\radhika\\appdata\\local\\programs\\python\\python35-32\\lib\\site-packages\\matplotlib\\figure.py\", line 1159, in draw\n    func(*args)\n",
      "  File \"c:\\users\\radhika\\appdata\\local\\programs\\python\\python35-32\\lib\\site-packages\\matplotlib\\artist.py\", line 61, in draw_wrapper\n    draw(artist, renderer, *args, **kwargs)\n",
      "  File \"c:\\users\\radhika\\appdata\\local\\programs\\python\\python35-32\\lib\\site-packages\\matplotlib\\axes\\_base.py\", line 2324, in draw\n    a.draw(renderer)\n",
      "  File \"c:\\users\\radhika\\appdata\\local\\programs\\python\\python35-32\\lib\\site-packages\\matplotlib\\artist.py\", line 61, in draw_wrapper\n    draw(artist, renderer, *args, **kwargs)\n",
      "  File \"c:\\users\\radhika\\appdata\\local\\programs\\python\\python35-32\\lib\\site-packages\\matplotlib\\axis.py\", line 1106, in draw\n    ticks_to_draw = self._update_ticks(renderer)\n",
      "  File \"c:\\users\\radhika\\appdata\\local\\programs\\python\\python35-32\\lib\\site-packages\\matplotlib\\axis.py\", line 949, in _update_ticks\n    tick_tups = [t for t in self.iter_ticks()]\n",
      "  File \"c:\\users\\radhika\\appdata\\local\\programs\\python\\python35-32\\lib\\site-packages\\matplotlib\\axis.py\", line 949, in <listcomp>\n    tick_tups = [t for t in self.iter_ticks()]\n",
      "  File \"c:\\users\\radhika\\appdata\\local\\programs\\python\\python35-32\\lib\\site-packages\\matplotlib\\axis.py\", line 893, in iter_ticks\n    majorTicks = self.get_major_ticks(len(majorLocs))\n",
      "  File \"c:\\users\\radhika\\appdata\\local\\programs\\python\\python35-32\\lib\\site-packages\\matplotlib\\axis.py\", line 1294, in get_major_ticks\n    tick = self._get_tick(major=True)\n",
      "  File \"c:\\users\\radhika\\appdata\\local\\programs\\python\\python35-32\\lib\\site-packages\\matplotlib\\axis.py\", line 1675, in _get_tick\n    return XTick(self.axes, 0, '', major=major, **tick_kw)\n",
      "  File \"c:\\users\\radhika\\appdata\\local\\programs\\python\\python35-32\\lib\\site-packages\\matplotlib\\axis.py\", line 156, in __init__\n    self.label2 = self._get_text2()\n",
      "  File \"c:\\users\\radhika\\appdata\\local\\programs\\python\\python35-32\\lib\\site-packages\\matplotlib\\axis.py\", line 382, in _get_text2\n    trans, vert, horiz = self._get_text2_transform()\n",
      "  File \"c:\\users\\radhika\\appdata\\local\\programs\\python\\python35-32\\lib\\site-packages\\matplotlib\\axis.py\", line 343, in _get_text2_transform\n    return self.axes.get_xaxis_text2_transform(self._pad)\n",
      "  File \"c:\\users\\radhika\\appdata\\local\\programs\\python\\python35-32\\lib\\site-packages\\matplotlib\\axes\\_base.py\", line 706, in get_xaxis_text2_transform\n    self.figure.dpi_scale_trans),\n",
      "  File \"c:\\users\\radhika\\appdata\\local\\programs\\python\\python35-32\\lib\\site-packages\\matplotlib\\transforms.py\", line 1157, in __add__\n    return composite_transform_factory(self, other)\n",
      "  File \"c:\\users\\radhika\\appdata\\local\\programs\\python\\python35-32\\lib\\site-packages\\matplotlib\\transforms.py\", line 2473, in composite_transform_factory\n    return CompositeGenericTransform(a, b)\n",
      "  File \"c:\\users\\radhika\\appdata\\local\\programs\\python\\python35-32\\lib\\site-packages\\matplotlib\\transforms.py\", line 2285, in __init__\n    Transform.__init__(self, **kwargs)\n",
      "  File \"c:\\users\\radhika\\appdata\\local\\programs\\python\\python35-32\\lib\\site-packages\\matplotlib\\transforms.py\", line 98, in __init__\n    self._parents = WeakValueDictionary()\n",
      "  File \"c:\\users\\radhika\\appdata\\local\\programs\\python\\python35-32\\lib\\weakref.py\", line 120, in __init__\n    self.update(*args, **kw)\n",
      "  File \"c:\\users\\radhika\\appdata\\local\\programs\\python\\python35-32\\lib\\weakref.py\", line 266, in update\n    if len(args) > 1:\n",
      "KeyboardInterrupt\n"
     ]
    }
   ],
   "source": [
    "delay_delta['delay'].describe()"
   ]
  },
  {
   "cell_type": "code",
   "execution_count": 52,
   "metadata": {
    "collapsed": false
   },
   "outputs": [
    {
     "data": {
      "text/plain": [
       "Timedelta('0 days 00:54:00')"
      ]
     },
     "execution_count": 52,
     "metadata": {},
     "output_type": "execute_result"
    },
    {
     "name": "stdout",
     "output_type": "stream",
     "text": [
      "ERROR! Session/line number was not unique in database. History logging moved to new session 509\n"
     ]
    }
   ],
   "source": [
    "delay_delta['delay'].quantile(q=0.25)"
   ]
  },
  {
   "cell_type": "code",
   "execution_count": 53,
   "metadata": {
    "collapsed": false
   },
   "outputs": [
    {
     "data": {
      "text/plain": [
       "Timedelta('0 days 02:02:00')"
      ]
     },
     "execution_count": 53,
     "metadata": {},
     "output_type": "execute_result"
    }
   ],
   "source": [
    "delay_delta['delay'].quantile(q=0.5)"
   ]
  },
  {
   "cell_type": "code",
   "execution_count": 54,
   "metadata": {
    "collapsed": false
   },
   "outputs": [
    {
     "data": {
      "text/plain": [
       "Timedelta('0 days 04:15:00')"
      ]
     },
     "execution_count": 54,
     "metadata": {},
     "output_type": "execute_result"
    }
   ],
   "source": [
    "delay_delta['delay'].quantile(q=0.75)"
   ]
  },
  {
   "cell_type": "code",
   "execution_count": null,
   "metadata": {
    "collapsed": true
   },
   "outputs": [],
   "source": []
  }
 ],
 "metadata": {
  "kernelspec": {
   "display_name": "Python 3",
   "language": "python",
   "name": "python3"
  },
  "language_info": {
   "codemirror_mode": {
    "name": "ipython",
    "version": 3
   },
   "file_extension": ".py",
   "mimetype": "text/x-python",
   "name": "python",
   "nbconvert_exporter": "python",
   "pygments_lexer": "ipython3",
   "version": "3.5.1"
  }
 },
 "nbformat": 4,
 "nbformat_minor": 0
}

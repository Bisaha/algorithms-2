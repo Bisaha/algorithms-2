{
 "cells": [
  {
   "cell_type": "code",
   "execution_count": 1,
   "metadata": {
    "collapsed": false
   },
   "outputs": [],
   "source": [
    "import pg8000\n",
    "import pandas as pd\n",
    "import matplotlib\n",
    "import numpy\n",
    "%matplotlib inline\n",
    "conn = pg8000.connect(host=\"training.c1erymiua9dx.us-east-1.rds.amazonaws.com\", port=5432, database=\"training\", user=\"dot_student\", password=\"qgis\")"
   ]
  },
  {
   "cell_type": "code",
   "execution_count": 2,
   "metadata": {
    "collapsed": true
   },
   "outputs": [],
   "source": [
    "cursor = conn.cursor()"
   ]
  },
  {
   "cell_type": "code",
   "execution_count": 3,
   "metadata": {
    "collapsed": true
   },
   "outputs": [],
   "source": [
    "conn.rollback()"
   ]
  },
  {
   "cell_type": "code",
   "execution_count": 4,
   "metadata": {
    "collapsed": false
   },
   "outputs": [],
   "source": [
    "cursor.execute(\"SELECT * FROM noise_311\")\n",
    "results = []\n",
    "for item in cursor.fetchall():\n",
    "    results.append(item)"
   ]
  },
  {
   "cell_type": "code",
   "execution_count": 11,
   "metadata": {
    "collapsed": false
   },
   "outputs": [
    {
     "name": "stdout",
     "output_type": "stream",
     "text": [
      "['unique_key']\n",
      "['created_date']\n",
      "['closed_date']\n",
      "['agency']\n",
      "['agency_name']\n",
      "['complaint_type']\n",
      "['descriptor']\n",
      "['location_type']\n",
      "['incident_zip']\n",
      "['incident_address']\n",
      "['street_name']\n",
      "['cross_street_1']\n",
      "['cross_street_2']\n",
      "['intersection_street_1']\n",
      "['intersection_street_2']\n",
      "['address_type']\n",
      "['city']\n",
      "['landmark']\n",
      "['facility_type']\n",
      "['status']\n",
      "['due_date']\n",
      "['resolution_description']\n",
      "['resolution_action_updated_date']\n",
      "['community_board']\n",
      "['borough']\n",
      "['x_coordinate']\n",
      "['y_coordinate']\n",
      "['park_facility_name']\n",
      "['park_borough']\n",
      "['school_name']\n",
      "['school_number']\n",
      "['school_region']\n",
      "['school_code']\n",
      "['school_phone_number']\n",
      "['school_address']\n",
      "['school_city']\n",
      "['school_state']\n",
      "['school_zip']\n",
      "['school_not_found']\n",
      "['school_or_citywide_complaint']\n",
      "['vehicle_type']\n",
      "['taxi_company_borough']\n",
      "['taxi_pick_up_location']\n",
      "['bridge_highway_name']\n",
      "['bridge_highway_direction']\n",
      "['road_ramp']\n",
      "['bridge_highway_segment']\n",
      "['garage_lot_name']\n",
      "['ferry_direction']\n",
      "['ferry_terminal_name']\n",
      "['latitude']\n",
      "['longitude']\n",
      "['location']\n"
     ]
    }
   ],
   "source": [
    "cursor.execute(\"select column_name from information_schema.columns where table_name='noise_311'\")\n",
    "columns_names = []\n",
    "for item in cursor.fetchall():\n",
    "    print(item)\n",
    "    columns_names.append(item)"
   ]
  },
  {
   "cell_type": "code",
   "execution_count": 24,
   "metadata": {
    "collapsed": false
   },
   "outputs": [],
   "source": [
    "df= pd.DataFrame(results)"
   ]
  },
  {
   "cell_type": "code",
   "execution_count": 25,
   "metadata": {
    "collapsed": false
   },
   "outputs": [],
   "source": [
    "df.columns = ['unique_key', 'created_date', 'closed_date', 'agency', 'agency_name', 'complaint_type','descriptor','location_type',\n",
    "'incident_zip', \n",
    "'incident_address',\n",
    "'street_name', \n",
    "'cross_street_1',\n",
    "'cross_street_2', \n",
    "'intersection_street_1',\n",
    "'intersection_street_2',\n",
    "'address_type',\n",
    "'city',\n",
    "'landmark',\n",
    "'facility_type',\n",
    "'status',\n",
    "'due_date', \n",
    "'resolution_description',\n",
    "'resolution_action_updated_date',\n",
    "'community_board',\n",
    "'borough',\n",
    "'x_coordinate',\n",
    "'y_coordinate',\n",
    "'park_facility_name',\n",
    "'park_borough',\n",
    "'school_name',\n",
    "'school_number',\n",
    "'school_region',\n",
    "'school_code',\n",
    "'school_phone_number',\n",
    "'school_address',\n",
    "'school_city',\n",
    "'school_state',\n",
    "'school_zip',\n",
    "'school_not_found',\n",
    "'school_or_citywide_complaint',\n",
    "'vehicle_type',\n",
    "'taxi_company_borough',\n",
    "'taxi_pick_up_location',\n",
    "'bridge_highway_name',\n",
    "'bridge_highway_direction',\n",
    "'road_ramp',\n",
    "'bridge_highway_segment',\n",
    "'garage_lot_name',\n",
    "'ferry_direction',\n",
    "'ferry_terminal_name',\n",
    "'latitude',\n",
    "'longitude',\n",
    "'location']"
   ]
  },
  {
   "cell_type": "code",
   "execution_count": 26,
   "metadata": {
    "collapsed": false
   },
   "outputs": [
    {
     "data": {
      "text/html": [
       "<div>\n",
       "<table border=\"1\" class=\"dataframe\">\n",
       "  <thead>\n",
       "    <tr style=\"text-align: right;\">\n",
       "      <th></th>\n",
       "      <th>unique_key</th>\n",
       "      <th>created_date</th>\n",
       "      <th>closed_date</th>\n",
       "      <th>agency</th>\n",
       "      <th>agency_name</th>\n",
       "      <th>complaint_type</th>\n",
       "      <th>descriptor</th>\n",
       "      <th>location_type</th>\n",
       "      <th>incident_zip</th>\n",
       "      <th>incident_address</th>\n",
       "      <th>...</th>\n",
       "      <th>bridge_highway_name</th>\n",
       "      <th>bridge_highway_direction</th>\n",
       "      <th>road_ramp</th>\n",
       "      <th>bridge_highway_segment</th>\n",
       "      <th>garage_lot_name</th>\n",
       "      <th>ferry_direction</th>\n",
       "      <th>ferry_terminal_name</th>\n",
       "      <th>latitude</th>\n",
       "      <th>longitude</th>\n",
       "      <th>location</th>\n",
       "    </tr>\n",
       "  </thead>\n",
       "  <tbody>\n",
       "    <tr>\n",
       "      <th>0</th>\n",
       "      <td>28792167</td>\n",
       "      <td>2014-08-31 23:59:00</td>\n",
       "      <td>2014-09-01 03:52:00</td>\n",
       "      <td>NYPD</td>\n",
       "      <td>New York City Police Department</td>\n",
       "      <td>Noise - Street/Sidewalk</td>\n",
       "      <td>Loud Music/Party</td>\n",
       "      <td>Street/Sidewalk</td>\n",
       "      <td>11222</td>\n",
       "      <td>200 KINGSLAND AVENUE</td>\n",
       "      <td>...</td>\n",
       "      <td>None</td>\n",
       "      <td>None</td>\n",
       "      <td>None</td>\n",
       "      <td>None</td>\n",
       "      <td>None</td>\n",
       "      <td>None</td>\n",
       "      <td>None</td>\n",
       "      <td>40.7238883</td>\n",
       "      <td>-73.94134889</td>\n",
       "      <td>(40.723888303549415, -73.94134888943505)</td>\n",
       "    </tr>\n",
       "    <tr>\n",
       "      <th>1</th>\n",
       "      <td>28789088</td>\n",
       "      <td>2014-08-31 23:56:00</td>\n",
       "      <td>2014-09-01 06:17:00</td>\n",
       "      <td>NYPD</td>\n",
       "      <td>New York City Police Department</td>\n",
       "      <td>Noise - Vehicle</td>\n",
       "      <td>Car/Truck Music</td>\n",
       "      <td>Street/Sidewalk</td>\n",
       "      <td>11234</td>\n",
       "      <td>FLATLANDS AVENUE</td>\n",
       "      <td>...</td>\n",
       "      <td>None</td>\n",
       "      <td>None</td>\n",
       "      <td>None</td>\n",
       "      <td>None</td>\n",
       "      <td>None</td>\n",
       "      <td>None</td>\n",
       "      <td>None</td>\n",
       "      <td>40.61948901</td>\n",
       "      <td>-73.93805105</td>\n",
       "      <td>(40.61948901090983, -73.93805104516916)</td>\n",
       "    </tr>\n",
       "    <tr>\n",
       "      <th>2</th>\n",
       "      <td>28791854</td>\n",
       "      <td>2014-08-31 23:54:00</td>\n",
       "      <td>2014-09-01 01:29:00</td>\n",
       "      <td>NYPD</td>\n",
       "      <td>New York City Police Department</td>\n",
       "      <td>Noise - Commercial</td>\n",
       "      <td>Loud Music/Party</td>\n",
       "      <td>Club/Bar/Restaurant</td>\n",
       "      <td>10002</td>\n",
       "      <td>161 LUDLOW STREET</td>\n",
       "      <td>...</td>\n",
       "      <td>None</td>\n",
       "      <td>None</td>\n",
       "      <td>None</td>\n",
       "      <td>None</td>\n",
       "      <td>None</td>\n",
       "      <td>None</td>\n",
       "      <td>None</td>\n",
       "      <td>40.72141034</td>\n",
       "      <td>-73.98769444</td>\n",
       "      <td>(40.72141034382407, -73.98769444021134)</td>\n",
       "    </tr>\n",
       "    <tr>\n",
       "      <th>3</th>\n",
       "      <td>28789936</td>\n",
       "      <td>2014-08-31 23:52:00</td>\n",
       "      <td>2014-09-01 02:53:00</td>\n",
       "      <td>NYPD</td>\n",
       "      <td>New York City Police Department</td>\n",
       "      <td>Noise - Street/Sidewalk</td>\n",
       "      <td>Loud Music/Party</td>\n",
       "      <td>Street/Sidewalk</td>\n",
       "      <td>10033</td>\n",
       "      <td>624 WEST 182 STREET</td>\n",
       "      <td>...</td>\n",
       "      <td>None</td>\n",
       "      <td>None</td>\n",
       "      <td>None</td>\n",
       "      <td>None</td>\n",
       "      <td>None</td>\n",
       "      <td>None</td>\n",
       "      <td>None</td>\n",
       "      <td>40.85016672</td>\n",
       "      <td>-73.93397221</td>\n",
       "      <td>(40.85016671877659, -73.93397220795968)</td>\n",
       "    </tr>\n",
       "    <tr>\n",
       "      <th>4</th>\n",
       "      <td>28789931</td>\n",
       "      <td>2014-08-31 23:47:00</td>\n",
       "      <td>2014-09-01 01:06:00</td>\n",
       "      <td>NYPD</td>\n",
       "      <td>New York City Police Department</td>\n",
       "      <td>Noise - Street/Sidewalk</td>\n",
       "      <td>Loud Music/Party</td>\n",
       "      <td>Street/Sidewalk</td>\n",
       "      <td>11217</td>\n",
       "      <td>525 DEAN STREET</td>\n",
       "      <td>...</td>\n",
       "      <td>None</td>\n",
       "      <td>None</td>\n",
       "      <td>None</td>\n",
       "      <td>None</td>\n",
       "      <td>None</td>\n",
       "      <td>None</td>\n",
       "      <td>None</td>\n",
       "      <td>40.68120794</td>\n",
       "      <td>-73.97277535</td>\n",
       "      <td>(40.68120794066068, -73.97277535440028)</td>\n",
       "    </tr>\n",
       "  </tbody>\n",
       "</table>\n",
       "<p>5 rows × 53 columns</p>\n",
       "</div>"
      ],
      "text/plain": [
       "   unique_key        created_date         closed_date agency  \\\n",
       "0    28792167 2014-08-31 23:59:00 2014-09-01 03:52:00   NYPD   \n",
       "1    28789088 2014-08-31 23:56:00 2014-09-01 06:17:00   NYPD   \n",
       "2    28791854 2014-08-31 23:54:00 2014-09-01 01:29:00   NYPD   \n",
       "3    28789936 2014-08-31 23:52:00 2014-09-01 02:53:00   NYPD   \n",
       "4    28789931 2014-08-31 23:47:00 2014-09-01 01:06:00   NYPD   \n",
       "\n",
       "                       agency_name           complaint_type        descriptor  \\\n",
       "0  New York City Police Department  Noise - Street/Sidewalk  Loud Music/Party   \n",
       "1  New York City Police Department          Noise - Vehicle   Car/Truck Music   \n",
       "2  New York City Police Department       Noise - Commercial  Loud Music/Party   \n",
       "3  New York City Police Department  Noise - Street/Sidewalk  Loud Music/Party   \n",
       "4  New York City Police Department  Noise - Street/Sidewalk  Loud Music/Party   \n",
       "\n",
       "         location_type incident_zip      incident_address  \\\n",
       "0      Street/Sidewalk        11222  200 KINGSLAND AVENUE   \n",
       "1      Street/Sidewalk        11234      FLATLANDS AVENUE   \n",
       "2  Club/Bar/Restaurant        10002     161 LUDLOW STREET   \n",
       "3      Street/Sidewalk        10033   624 WEST 182 STREET   \n",
       "4      Street/Sidewalk        11217       525 DEAN STREET   \n",
       "\n",
       "                     ...                    bridge_highway_name  \\\n",
       "0                    ...                                   None   \n",
       "1                    ...                                   None   \n",
       "2                    ...                                   None   \n",
       "3                    ...                                   None   \n",
       "4                    ...                                   None   \n",
       "\n",
       "  bridge_highway_direction road_ramp bridge_highway_segment garage_lot_name  \\\n",
       "0                     None      None                   None            None   \n",
       "1                     None      None                   None            None   \n",
       "2                     None      None                   None            None   \n",
       "3                     None      None                   None            None   \n",
       "4                     None      None                   None            None   \n",
       "\n",
       "  ferry_direction ferry_terminal_name     latitude     longitude  \\\n",
       "0            None                None   40.7238883  -73.94134889   \n",
       "1            None                None  40.61948901  -73.93805105   \n",
       "2            None                None  40.72141034  -73.98769444   \n",
       "3            None                None  40.85016672  -73.93397221   \n",
       "4            None                None  40.68120794  -73.97277535   \n",
       "\n",
       "                                   location  \n",
       "0  (40.723888303549415, -73.94134888943505)  \n",
       "1   (40.61948901090983, -73.93805104516916)  \n",
       "2   (40.72141034382407, -73.98769444021134)  \n",
       "3   (40.85016671877659, -73.93397220795968)  \n",
       "4   (40.68120794066068, -73.97277535440028)  \n",
       "\n",
       "[5 rows x 53 columns]"
      ]
     },
     "execution_count": 26,
     "metadata": {},
     "output_type": "execute_result"
    }
   ],
   "source": [
    "df.head()"
   ]
  },
  {
   "cell_type": "code",
   "execution_count": 27,
   "metadata": {
    "collapsed": false
   },
   "outputs": [
    {
     "data": {
      "text/plain": [
       "Index(['unique_key', 'created_date', 'closed_date', 'agency', 'agency_name',\n",
       "       'complaint_type', 'descriptor', 'location_type', 'incident_zip',\n",
       "       'incident_address', 'street_name', 'cross_street_1', 'cross_street_2',\n",
       "       'intersection_street_1', 'intersection_street_2', 'address_type',\n",
       "       'city', 'landmark', 'facility_type', 'status', 'due_date',\n",
       "       'resolution_description', 'resolution_action_updated_date',\n",
       "       'community_board', 'borough', 'x_coordinate', 'y_coordinate',\n",
       "       'park_facility_name', 'park_borough', 'school_name', 'school_number',\n",
       "       'school_region', 'school_code', 'school_phone_number', 'school_address',\n",
       "       'school_city', 'school_state', 'school_zip', 'school_not_found',\n",
       "       'school_or_citywide_complaint', 'vehicle_type', 'taxi_company_borough',\n",
       "       'taxi_pick_up_location', 'bridge_highway_name',\n",
       "       'bridge_highway_direction', 'road_ramp', 'bridge_highway_segment',\n",
       "       'garage_lot_name', 'ferry_direction', 'ferry_terminal_name', 'latitude',\n",
       "       'longitude', 'location'],\n",
       "      dtype='object')"
      ]
     },
     "execution_count": 27,
     "metadata": {},
     "output_type": "execute_result"
    }
   ],
   "source": [
    "df.columns"
   ]
  },
  {
   "cell_type": "code",
   "execution_count": 28,
   "metadata": {
    "collapsed": false
   },
   "outputs": [],
   "source": [
    "df['new_created_date'] = pd.to_datetime(df['created_date'], \n",
    "                                format='%m/%d/%y %H:%M:%S')"
   ]
  },
  {
   "cell_type": "code",
   "execution_count": 29,
   "metadata": {
    "collapsed": false
   },
   "outputs": [],
   "source": [
    "df['new_closed_date'] = pd.to_datetime(df['closed_date'], \n",
    "                                format='%m/%d/%y %H:%M:%S')"
   ]
  },
  {
   "cell_type": "code",
   "execution_count": 30,
   "metadata": {
    "collapsed": false
   },
   "outputs": [],
   "source": [
    "df['time_open'] = df['new_closed_date'] - df['new_created_date']"
   ]
  },
  {
   "cell_type": "code",
   "execution_count": 31,
   "metadata": {
    "collapsed": false
   },
   "outputs": [
    {
     "data": {
      "text/html": [
       "<div>\n",
       "<table border=\"1\" class=\"dataframe\">\n",
       "  <thead>\n",
       "    <tr style=\"text-align: right;\">\n",
       "      <th></th>\n",
       "      <th>unique_key</th>\n",
       "      <th>created_date</th>\n",
       "      <th>closed_date</th>\n",
       "      <th>agency</th>\n",
       "      <th>agency_name</th>\n",
       "      <th>complaint_type</th>\n",
       "      <th>descriptor</th>\n",
       "      <th>location_type</th>\n",
       "      <th>incident_zip</th>\n",
       "      <th>incident_address</th>\n",
       "      <th>...</th>\n",
       "      <th>bridge_highway_segment</th>\n",
       "      <th>garage_lot_name</th>\n",
       "      <th>ferry_direction</th>\n",
       "      <th>ferry_terminal_name</th>\n",
       "      <th>latitude</th>\n",
       "      <th>longitude</th>\n",
       "      <th>location</th>\n",
       "      <th>new_created_date</th>\n",
       "      <th>new_closed_date</th>\n",
       "      <th>time_open</th>\n",
       "    </tr>\n",
       "  </thead>\n",
       "  <tbody>\n",
       "    <tr>\n",
       "      <th>0</th>\n",
       "      <td>28792167</td>\n",
       "      <td>2014-08-31 23:59:00</td>\n",
       "      <td>2014-09-01 03:52:00</td>\n",
       "      <td>NYPD</td>\n",
       "      <td>New York City Police Department</td>\n",
       "      <td>Noise - Street/Sidewalk</td>\n",
       "      <td>Loud Music/Party</td>\n",
       "      <td>Street/Sidewalk</td>\n",
       "      <td>11222</td>\n",
       "      <td>200 KINGSLAND AVENUE</td>\n",
       "      <td>...</td>\n",
       "      <td>None</td>\n",
       "      <td>None</td>\n",
       "      <td>None</td>\n",
       "      <td>None</td>\n",
       "      <td>40.7238883</td>\n",
       "      <td>-73.94134889</td>\n",
       "      <td>(40.723888303549415, -73.94134888943505)</td>\n",
       "      <td>2014-08-31 23:59:00</td>\n",
       "      <td>2014-09-01 03:52:00</td>\n",
       "      <td>03:53:00</td>\n",
       "    </tr>\n",
       "    <tr>\n",
       "      <th>1</th>\n",
       "      <td>28789088</td>\n",
       "      <td>2014-08-31 23:56:00</td>\n",
       "      <td>2014-09-01 06:17:00</td>\n",
       "      <td>NYPD</td>\n",
       "      <td>New York City Police Department</td>\n",
       "      <td>Noise - Vehicle</td>\n",
       "      <td>Car/Truck Music</td>\n",
       "      <td>Street/Sidewalk</td>\n",
       "      <td>11234</td>\n",
       "      <td>FLATLANDS AVENUE</td>\n",
       "      <td>...</td>\n",
       "      <td>None</td>\n",
       "      <td>None</td>\n",
       "      <td>None</td>\n",
       "      <td>None</td>\n",
       "      <td>40.61948901</td>\n",
       "      <td>-73.93805105</td>\n",
       "      <td>(40.61948901090983, -73.93805104516916)</td>\n",
       "      <td>2014-08-31 23:56:00</td>\n",
       "      <td>2014-09-01 06:17:00</td>\n",
       "      <td>06:21:00</td>\n",
       "    </tr>\n",
       "    <tr>\n",
       "      <th>2</th>\n",
       "      <td>28791854</td>\n",
       "      <td>2014-08-31 23:54:00</td>\n",
       "      <td>2014-09-01 01:29:00</td>\n",
       "      <td>NYPD</td>\n",
       "      <td>New York City Police Department</td>\n",
       "      <td>Noise - Commercial</td>\n",
       "      <td>Loud Music/Party</td>\n",
       "      <td>Club/Bar/Restaurant</td>\n",
       "      <td>10002</td>\n",
       "      <td>161 LUDLOW STREET</td>\n",
       "      <td>...</td>\n",
       "      <td>None</td>\n",
       "      <td>None</td>\n",
       "      <td>None</td>\n",
       "      <td>None</td>\n",
       "      <td>40.72141034</td>\n",
       "      <td>-73.98769444</td>\n",
       "      <td>(40.72141034382407, -73.98769444021134)</td>\n",
       "      <td>2014-08-31 23:54:00</td>\n",
       "      <td>2014-09-01 01:29:00</td>\n",
       "      <td>01:35:00</td>\n",
       "    </tr>\n",
       "    <tr>\n",
       "      <th>3</th>\n",
       "      <td>28789936</td>\n",
       "      <td>2014-08-31 23:52:00</td>\n",
       "      <td>2014-09-01 02:53:00</td>\n",
       "      <td>NYPD</td>\n",
       "      <td>New York City Police Department</td>\n",
       "      <td>Noise - Street/Sidewalk</td>\n",
       "      <td>Loud Music/Party</td>\n",
       "      <td>Street/Sidewalk</td>\n",
       "      <td>10033</td>\n",
       "      <td>624 WEST 182 STREET</td>\n",
       "      <td>...</td>\n",
       "      <td>None</td>\n",
       "      <td>None</td>\n",
       "      <td>None</td>\n",
       "      <td>None</td>\n",
       "      <td>40.85016672</td>\n",
       "      <td>-73.93397221</td>\n",
       "      <td>(40.85016671877659, -73.93397220795968)</td>\n",
       "      <td>2014-08-31 23:52:00</td>\n",
       "      <td>2014-09-01 02:53:00</td>\n",
       "      <td>03:01:00</td>\n",
       "    </tr>\n",
       "    <tr>\n",
       "      <th>4</th>\n",
       "      <td>28789931</td>\n",
       "      <td>2014-08-31 23:47:00</td>\n",
       "      <td>2014-09-01 01:06:00</td>\n",
       "      <td>NYPD</td>\n",
       "      <td>New York City Police Department</td>\n",
       "      <td>Noise - Street/Sidewalk</td>\n",
       "      <td>Loud Music/Party</td>\n",
       "      <td>Street/Sidewalk</td>\n",
       "      <td>11217</td>\n",
       "      <td>525 DEAN STREET</td>\n",
       "      <td>...</td>\n",
       "      <td>None</td>\n",
       "      <td>None</td>\n",
       "      <td>None</td>\n",
       "      <td>None</td>\n",
       "      <td>40.68120794</td>\n",
       "      <td>-73.97277535</td>\n",
       "      <td>(40.68120794066068, -73.97277535440028)</td>\n",
       "      <td>2014-08-31 23:47:00</td>\n",
       "      <td>2014-09-01 01:06:00</td>\n",
       "      <td>01:19:00</td>\n",
       "    </tr>\n",
       "  </tbody>\n",
       "</table>\n",
       "<p>5 rows × 56 columns</p>\n",
       "</div>"
      ],
      "text/plain": [
       "   unique_key        created_date         closed_date agency  \\\n",
       "0    28792167 2014-08-31 23:59:00 2014-09-01 03:52:00   NYPD   \n",
       "1    28789088 2014-08-31 23:56:00 2014-09-01 06:17:00   NYPD   \n",
       "2    28791854 2014-08-31 23:54:00 2014-09-01 01:29:00   NYPD   \n",
       "3    28789936 2014-08-31 23:52:00 2014-09-01 02:53:00   NYPD   \n",
       "4    28789931 2014-08-31 23:47:00 2014-09-01 01:06:00   NYPD   \n",
       "\n",
       "                       agency_name           complaint_type        descriptor  \\\n",
       "0  New York City Police Department  Noise - Street/Sidewalk  Loud Music/Party   \n",
       "1  New York City Police Department          Noise - Vehicle   Car/Truck Music   \n",
       "2  New York City Police Department       Noise - Commercial  Loud Music/Party   \n",
       "3  New York City Police Department  Noise - Street/Sidewalk  Loud Music/Party   \n",
       "4  New York City Police Department  Noise - Street/Sidewalk  Loud Music/Party   \n",
       "\n",
       "         location_type incident_zip      incident_address    ...     \\\n",
       "0      Street/Sidewalk        11222  200 KINGSLAND AVENUE    ...      \n",
       "1      Street/Sidewalk        11234      FLATLANDS AVENUE    ...      \n",
       "2  Club/Bar/Restaurant        10002     161 LUDLOW STREET    ...      \n",
       "3      Street/Sidewalk        10033   624 WEST 182 STREET    ...      \n",
       "4      Street/Sidewalk        11217       525 DEAN STREET    ...      \n",
       "\n",
       "  bridge_highway_segment garage_lot_name ferry_direction ferry_terminal_name  \\\n",
       "0                   None            None            None                None   \n",
       "1                   None            None            None                None   \n",
       "2                   None            None            None                None   \n",
       "3                   None            None            None                None   \n",
       "4                   None            None            None                None   \n",
       "\n",
       "      latitude     longitude                                  location  \\\n",
       "0   40.7238883  -73.94134889  (40.723888303549415, -73.94134888943505)   \n",
       "1  40.61948901  -73.93805105   (40.61948901090983, -73.93805104516916)   \n",
       "2  40.72141034  -73.98769444   (40.72141034382407, -73.98769444021134)   \n",
       "3  40.85016672  -73.93397221   (40.85016671877659, -73.93397220795968)   \n",
       "4  40.68120794  -73.97277535   (40.68120794066068, -73.97277535440028)   \n",
       "\n",
       "     new_created_date     new_closed_date time_open  \n",
       "0 2014-08-31 23:59:00 2014-09-01 03:52:00  03:53:00  \n",
       "1 2014-08-31 23:56:00 2014-09-01 06:17:00  06:21:00  \n",
       "2 2014-08-31 23:54:00 2014-09-01 01:29:00  01:35:00  \n",
       "3 2014-08-31 23:52:00 2014-09-01 02:53:00  03:01:00  \n",
       "4 2014-08-31 23:47:00 2014-09-01 01:06:00  01:19:00  \n",
       "\n",
       "[5 rows x 56 columns]"
      ]
     },
     "execution_count": 31,
     "metadata": {},
     "output_type": "execute_result"
    }
   ],
   "source": [
    "df.head()"
   ]
  },
  {
   "cell_type": "code",
   "execution_count": 32,
   "metadata": {
    "collapsed": false
   },
   "outputs": [
    {
     "data": {
      "text/plain": [
       "0 days 00:21:00     222\n",
       "0 days 00:10:00     221\n",
       "0 days 00:36:00     212\n",
       "0 days 00:33:00     211\n",
       "0 days 00:31:00     210\n",
       "0 days 00:27:00     209\n",
       "0 days 00:25:00     207\n",
       "0 days 00:28:00     206\n",
       "0 days 00:23:00     204\n",
       "0 days 00:26:00     202\n",
       "0 days 00:32:00     201\n",
       "0 days 00:30:00     200\n",
       "0 days 00:38:00     199\n",
       "0 days 00:44:00     199\n",
       "0 days 00:42:00     196\n",
       "0 days 00:17:00     196\n",
       "0 days 00:48:00     195\n",
       "0 days 00:34:00     195\n",
       "0 days 00:49:00     195\n",
       "0 days 00:41:00     193\n",
       "0 days 00:22:00     192\n",
       "0 days 00:11:00     190\n",
       "0 days 00:40:00     190\n",
       "0 days 00:24:00     189\n",
       "0 days 00:20:00     188\n",
       "0 days 00:14:00     188\n",
       "0 days 00:53:00     188\n",
       "0 days 00:39:00     187\n",
       "0 days 00:37:00     186\n",
       "0 days 00:35:00     185\n",
       "                   ... \n",
       "2 days 10:31:00       1\n",
       "2 days 02:26:00       1\n",
       "3 days 12:39:00       1\n",
       "0 days 19:11:00       1\n",
       "1 days 16:44:00       1\n",
       "12 days 14:25:00      1\n",
       "2 days 01:27:00       1\n",
       "2 days 16:03:00       1\n",
       "0 days 15:09:00       1\n",
       "2 days 20:54:00       1\n",
       "0 days 23:09:00       1\n",
       "10 days 10:52:00      1\n",
       "1 days 01:58:00       1\n",
       "4 days 00:40:00       1\n",
       "3 days 19:55:00       1\n",
       "10 days 15:37:00      1\n",
       "1 days 21:14:00       1\n",
       "14 days 17:01:00      1\n",
       "1 days 04:58:00       1\n",
       "7 days 04:12:00       1\n",
       "2 days 01:59:00       1\n",
       "1 days 19:53:00       1\n",
       "3 days 12:02:00       1\n",
       "1 days 19:59:00       1\n",
       "3 days 06:12:00       1\n",
       "1 days 15:57:00       1\n",
       "12 days 15:18:00      1\n",
       "14 days 01:31:00      1\n",
       "3 days 21:17:00       1\n",
       "1 days 05:38:00       1\n",
       "Name: time_open, dtype: int64"
      ]
     },
     "execution_count": 32,
     "metadata": {},
     "output_type": "execute_result"
    }
   ],
   "source": [
    "df['time_open'].value_counts()"
   ]
  },
  {
   "cell_type": "code",
   "execution_count": 33,
   "metadata": {
    "collapsed": false
   },
   "outputs": [],
   "source": [
    "time_open = pd.DataFrame(df['time_open'][df['time_open'] > pd.Timedelta(minutes=0)].dropna())"
   ]
  },
  {
   "cell_type": "code",
   "execution_count": 34,
   "metadata": {
    "collapsed": false
   },
   "outputs": [
    {
     "data": {
      "text/html": [
       "<div>\n",
       "<table border=\"1\" class=\"dataframe\">\n",
       "  <thead>\n",
       "    <tr style=\"text-align: right;\">\n",
       "      <th></th>\n",
       "      <th>time_open</th>\n",
       "    </tr>\n",
       "  </thead>\n",
       "  <tbody>\n",
       "    <tr>\n",
       "      <th>0</th>\n",
       "      <td>03:53:00</td>\n",
       "    </tr>\n",
       "    <tr>\n",
       "      <th>1</th>\n",
       "      <td>06:21:00</td>\n",
       "    </tr>\n",
       "    <tr>\n",
       "      <th>2</th>\n",
       "      <td>01:35:00</td>\n",
       "    </tr>\n",
       "    <tr>\n",
       "      <th>3</th>\n",
       "      <td>03:01:00</td>\n",
       "    </tr>\n",
       "    <tr>\n",
       "      <th>4</th>\n",
       "      <td>01:19:00</td>\n",
       "    </tr>\n",
       "    <tr>\n",
       "      <th>5</th>\n",
       "      <td>03:06:00</td>\n",
       "    </tr>\n",
       "    <tr>\n",
       "      <th>6</th>\n",
       "      <td>01:04:00</td>\n",
       "    </tr>\n",
       "    <tr>\n",
       "      <th>7</th>\n",
       "      <td>04:18:00</td>\n",
       "    </tr>\n",
       "    <tr>\n",
       "      <th>8</th>\n",
       "      <td>04:48:00</td>\n",
       "    </tr>\n",
       "    <tr>\n",
       "      <th>9</th>\n",
       "      <td>03:25:00</td>\n",
       "    </tr>\n",
       "    <tr>\n",
       "      <th>10</th>\n",
       "      <td>04:52:00</td>\n",
       "    </tr>\n",
       "    <tr>\n",
       "      <th>11</th>\n",
       "      <td>02:36:00</td>\n",
       "    </tr>\n",
       "    <tr>\n",
       "      <th>12</th>\n",
       "      <td>03:54:00</td>\n",
       "    </tr>\n",
       "    <tr>\n",
       "      <th>13</th>\n",
       "      <td>05:13:00</td>\n",
       "    </tr>\n",
       "    <tr>\n",
       "      <th>14</th>\n",
       "      <td>03:06:00</td>\n",
       "    </tr>\n",
       "    <tr>\n",
       "      <th>15</th>\n",
       "      <td>01:00:00</td>\n",
       "    </tr>\n",
       "    <tr>\n",
       "      <th>16</th>\n",
       "      <td>03:27:00</td>\n",
       "    </tr>\n",
       "    <tr>\n",
       "      <th>17</th>\n",
       "      <td>13:32:00</td>\n",
       "    </tr>\n",
       "    <tr>\n",
       "      <th>18</th>\n",
       "      <td>01:45:00</td>\n",
       "    </tr>\n",
       "    <tr>\n",
       "      <th>19</th>\n",
       "      <td>02:48:00</td>\n",
       "    </tr>\n",
       "    <tr>\n",
       "      <th>20</th>\n",
       "      <td>05:54:00</td>\n",
       "    </tr>\n",
       "    <tr>\n",
       "      <th>21</th>\n",
       "      <td>00:07:00</td>\n",
       "    </tr>\n",
       "    <tr>\n",
       "      <th>22</th>\n",
       "      <td>00:33:00</td>\n",
       "    </tr>\n",
       "    <tr>\n",
       "      <th>23</th>\n",
       "      <td>02:51:00</td>\n",
       "    </tr>\n",
       "    <tr>\n",
       "      <th>24</th>\n",
       "      <td>05:27:00</td>\n",
       "    </tr>\n",
       "    <tr>\n",
       "      <th>25</th>\n",
       "      <td>00:21:00</td>\n",
       "    </tr>\n",
       "    <tr>\n",
       "      <th>26</th>\n",
       "      <td>02:12:00</td>\n",
       "    </tr>\n",
       "    <tr>\n",
       "      <th>27</th>\n",
       "      <td>02:46:00</td>\n",
       "    </tr>\n",
       "    <tr>\n",
       "      <th>28</th>\n",
       "      <td>02:56:00</td>\n",
       "    </tr>\n",
       "    <tr>\n",
       "      <th>29</th>\n",
       "      <td>05:13:00</td>\n",
       "    </tr>\n",
       "    <tr>\n",
       "      <th>...</th>\n",
       "      <td>...</td>\n",
       "    </tr>\n",
       "    <tr>\n",
       "      <th>37585</th>\n",
       "      <td>03:02:00</td>\n",
       "    </tr>\n",
       "    <tr>\n",
       "      <th>37586</th>\n",
       "      <td>04:14:00</td>\n",
       "    </tr>\n",
       "    <tr>\n",
       "      <th>37587</th>\n",
       "      <td>01:51:00</td>\n",
       "    </tr>\n",
       "    <tr>\n",
       "      <th>37588</th>\n",
       "      <td>04:24:00</td>\n",
       "    </tr>\n",
       "    <tr>\n",
       "      <th>37589</th>\n",
       "      <td>00:42:00</td>\n",
       "    </tr>\n",
       "    <tr>\n",
       "      <th>37590</th>\n",
       "      <td>06:16:00</td>\n",
       "    </tr>\n",
       "    <tr>\n",
       "      <th>37591</th>\n",
       "      <td>01:51:00</td>\n",
       "    </tr>\n",
       "    <tr>\n",
       "      <th>37592</th>\n",
       "      <td>00:39:00</td>\n",
       "    </tr>\n",
       "    <tr>\n",
       "      <th>37593</th>\n",
       "      <td>04:47:00</td>\n",
       "    </tr>\n",
       "    <tr>\n",
       "      <th>37594</th>\n",
       "      <td>00:47:00</td>\n",
       "    </tr>\n",
       "    <tr>\n",
       "      <th>37595</th>\n",
       "      <td>00:50:00</td>\n",
       "    </tr>\n",
       "    <tr>\n",
       "      <th>37596</th>\n",
       "      <td>01:58:00</td>\n",
       "    </tr>\n",
       "    <tr>\n",
       "      <th>37597</th>\n",
       "      <td>01:28:00</td>\n",
       "    </tr>\n",
       "    <tr>\n",
       "      <th>37598</th>\n",
       "      <td>01:57:00</td>\n",
       "    </tr>\n",
       "    <tr>\n",
       "      <th>37599</th>\n",
       "      <td>02:07:00</td>\n",
       "    </tr>\n",
       "    <tr>\n",
       "      <th>37600</th>\n",
       "      <td>02:21:00</td>\n",
       "    </tr>\n",
       "    <tr>\n",
       "      <th>37601</th>\n",
       "      <td>03:05:00</td>\n",
       "    </tr>\n",
       "    <tr>\n",
       "      <th>37602</th>\n",
       "      <td>02:56:00</td>\n",
       "    </tr>\n",
       "    <tr>\n",
       "      <th>37603</th>\n",
       "      <td>00:55:00</td>\n",
       "    </tr>\n",
       "    <tr>\n",
       "      <th>37604</th>\n",
       "      <td>01:14:00</td>\n",
       "    </tr>\n",
       "    <tr>\n",
       "      <th>37605</th>\n",
       "      <td>01:35:00</td>\n",
       "    </tr>\n",
       "    <tr>\n",
       "      <th>37606</th>\n",
       "      <td>14:02:00</td>\n",
       "    </tr>\n",
       "    <tr>\n",
       "      <th>37607</th>\n",
       "      <td>03:12:00</td>\n",
       "    </tr>\n",
       "    <tr>\n",
       "      <th>37608</th>\n",
       "      <td>01:42:00</td>\n",
       "    </tr>\n",
       "    <tr>\n",
       "      <th>37609</th>\n",
       "      <td>01:12:00</td>\n",
       "    </tr>\n",
       "    <tr>\n",
       "      <th>37610</th>\n",
       "      <td>10:24:00</td>\n",
       "    </tr>\n",
       "    <tr>\n",
       "      <th>37611</th>\n",
       "      <td>02:24:00</td>\n",
       "    </tr>\n",
       "    <tr>\n",
       "      <th>37612</th>\n",
       "      <td>04:38:00</td>\n",
       "    </tr>\n",
       "    <tr>\n",
       "      <th>37613</th>\n",
       "      <td>02:14:00</td>\n",
       "    </tr>\n",
       "    <tr>\n",
       "      <th>37614</th>\n",
       "      <td>07:38:00</td>\n",
       "    </tr>\n",
       "  </tbody>\n",
       "</table>\n",
       "<p>37615 rows × 1 columns</p>\n",
       "</div>"
      ],
      "text/plain": [
       "       time_open\n",
       "0       03:53:00\n",
       "1       06:21:00\n",
       "2       01:35:00\n",
       "3       03:01:00\n",
       "4       01:19:00\n",
       "5       03:06:00\n",
       "6       01:04:00\n",
       "7       04:18:00\n",
       "8       04:48:00\n",
       "9       03:25:00\n",
       "10      04:52:00\n",
       "11      02:36:00\n",
       "12      03:54:00\n",
       "13      05:13:00\n",
       "14      03:06:00\n",
       "15      01:00:00\n",
       "16      03:27:00\n",
       "17      13:32:00\n",
       "18      01:45:00\n",
       "19      02:48:00\n",
       "20      05:54:00\n",
       "21      00:07:00\n",
       "22      00:33:00\n",
       "23      02:51:00\n",
       "24      05:27:00\n",
       "25      00:21:00\n",
       "26      02:12:00\n",
       "27      02:46:00\n",
       "28      02:56:00\n",
       "29      05:13:00\n",
       "...          ...\n",
       "37585   03:02:00\n",
       "37586   04:14:00\n",
       "37587   01:51:00\n",
       "37588   04:24:00\n",
       "37589   00:42:00\n",
       "37590   06:16:00\n",
       "37591   01:51:00\n",
       "37592   00:39:00\n",
       "37593   04:47:00\n",
       "37594   00:47:00\n",
       "37595   00:50:00\n",
       "37596   01:58:00\n",
       "37597   01:28:00\n",
       "37598   01:57:00\n",
       "37599   02:07:00\n",
       "37600   02:21:00\n",
       "37601   03:05:00\n",
       "37602   02:56:00\n",
       "37603   00:55:00\n",
       "37604   01:14:00\n",
       "37605   01:35:00\n",
       "37606   14:02:00\n",
       "37607   03:12:00\n",
       "37608   01:42:00\n",
       "37609   01:12:00\n",
       "37610   10:24:00\n",
       "37611   02:24:00\n",
       "37612   04:38:00\n",
       "37613   02:14:00\n",
       "37614   07:38:00\n",
       "\n",
       "[37615 rows x 1 columns]"
      ]
     },
     "execution_count": 34,
     "metadata": {},
     "output_type": "execute_result"
    }
   ],
   "source": [
    "time_open"
   ]
  },
  {
   "cell_type": "code",
   "execution_count": 35,
   "metadata": {
    "collapsed": false
   },
   "outputs": [
    {
     "data": {
      "text/plain": [
       "time_open   02:02:00\n",
       "dtype: timedelta64[ns]"
      ]
     },
     "execution_count": 35,
     "metadata": {},
     "output_type": "execute_result"
    }
   ],
   "source": [
    "time_open.median()"
   ]
  },
  {
   "cell_type": "code",
   "execution_count": 36,
   "metadata": {
    "collapsed": false
   },
   "outputs": [
    {
     "data": {
      "text/plain": [
       "time_open   07:44:22.532500\n",
       "dtype: timedelta64[ns]"
      ]
     },
     "execution_count": 36,
     "metadata": {},
     "output_type": "execute_result"
    }
   ],
   "source": [
    "time_open.mean()"
   ]
  },
  {
   "cell_type": "code",
   "execution_count": 37,
   "metadata": {
    "collapsed": false
   },
   "outputs": [
    {
     "data": {
      "text/html": [
       "<div>\n",
       "<table border=\"1\" class=\"dataframe\">\n",
       "  <thead>\n",
       "    <tr style=\"text-align: right;\">\n",
       "      <th></th>\n",
       "      <th>time_open</th>\n",
       "    </tr>\n",
       "  </thead>\n",
       "  <tbody>\n",
       "    <tr>\n",
       "      <th>0</th>\n",
       "      <td>00:21:00</td>\n",
       "    </tr>\n",
       "  </tbody>\n",
       "</table>\n",
       "</div>"
      ],
      "text/plain": [
       "   time_open\n",
       "0   00:21:00"
      ]
     },
     "execution_count": 37,
     "metadata": {},
     "output_type": "execute_result"
    }
   ],
   "source": [
    "time_open.mode()"
   ]
  },
  {
   "cell_type": "code",
   "execution_count": 38,
   "metadata": {
    "collapsed": false
   },
   "outputs": [
    {
     "data": {
      "text/plain": [
       "Timedelta('0 days 00:54:00')"
      ]
     },
     "execution_count": 38,
     "metadata": {},
     "output_type": "execute_result"
    }
   ],
   "source": [
    "time_open['time_open'].quantile(q=0.25)"
   ]
  },
  {
   "cell_type": "code",
   "execution_count": 39,
   "metadata": {
    "collapsed": false
   },
   "outputs": [
    {
     "data": {
      "text/plain": [
       "Timedelta('0 days 02:02:00')"
      ]
     },
     "execution_count": 39,
     "metadata": {},
     "output_type": "execute_result"
    }
   ],
   "source": [
    "time_open['time_open'].quantile(q=0.5)"
   ]
  },
  {
   "cell_type": "code",
   "execution_count": 40,
   "metadata": {
    "collapsed": false
   },
   "outputs": [
    {
     "data": {
      "text/plain": [
       "Timedelta('0 days 04:15:00')"
      ]
     },
     "execution_count": 40,
     "metadata": {},
     "output_type": "execute_result"
    }
   ],
   "source": [
    "time_open['time_open'].quantile(q=0.75)"
   ]
  },
  {
   "cell_type": "code",
   "execution_count": 41,
   "metadata": {
    "collapsed": true
   },
   "outputs": [],
   "source": [
    "iqr = (time_open['time_open'].quantile(q=0.75)) - (time_open['time_open'].quantile(q=0.25))"
   ]
  },
  {
   "cell_type": "code",
   "execution_count": 42,
   "metadata": {
    "collapsed": false
   },
   "outputs": [
    {
     "data": {
      "text/plain": [
       "Timedelta('0 days 03:21:00')"
      ]
     },
     "execution_count": 42,
     "metadata": {},
     "output_type": "execute_result"
    }
   ],
   "source": [
    "iqr"
   ]
  },
  {
   "cell_type": "code",
   "execution_count": 43,
   "metadata": {
    "collapsed": true
   },
   "outputs": [],
   "source": [
    "ual = (iqr * 1.5) + time_open.median()"
   ]
  },
  {
   "cell_type": "code",
   "execution_count": 44,
   "metadata": {
    "collapsed": false
   },
   "outputs": [
    {
     "data": {
      "text/plain": [
       "time_open   07:03:30\n",
       "dtype: timedelta64[ns]"
      ]
     },
     "execution_count": 44,
     "metadata": {},
     "output_type": "execute_result"
    }
   ],
   "source": [
    "ual"
   ]
  },
  {
   "cell_type": "code",
   "execution_count": 45,
   "metadata": {
    "collapsed": true
   },
   "outputs": [],
   "source": [
    "lal = (iqr * 1.5) - time_open.median()"
   ]
  },
  {
   "cell_type": "code",
   "execution_count": 46,
   "metadata": {
    "collapsed": false
   },
   "outputs": [
    {
     "data": {
      "text/plain": [
       "time_open   02:59:30\n",
       "dtype: timedelta64[ns]"
      ]
     },
     "execution_count": 46,
     "metadata": {},
     "output_type": "execute_result"
    }
   ],
   "source": [
    "lal"
   ]
  },
  {
   "cell_type": "code",
   "execution_count": 47,
   "metadata": {
    "collapsed": false
   },
   "outputs": [
    {
     "data": {
      "text/plain": [
       "time_open   1 days 12:06:07.285166\n",
       "dtype: timedelta64[ns]"
      ]
     },
     "execution_count": 47,
     "metadata": {},
     "output_type": "execute_result"
    }
   ],
   "source": [
    "numpy.std(time_open)"
   ]
  },
  {
   "cell_type": "code",
   "execution_count": 48,
   "metadata": {
    "collapsed": false
   },
   "outputs": [
    {
     "data": {
      "text/plain": [
       "time_open   48 days 05:45:00\n",
       "dtype: timedelta64[ns]"
      ]
     },
     "execution_count": 48,
     "metadata": {},
     "output_type": "execute_result"
    }
   ],
   "source": [
    "time_open.max()"
   ]
  },
  {
   "cell_type": "code",
   "execution_count": 49,
   "metadata": {
    "collapsed": false
   },
   "outputs": [
    {
     "data": {
      "text/plain": [
       "time_open   00:01:00\n",
       "dtype: timedelta64[ns]"
      ]
     },
     "execution_count": 49,
     "metadata": {},
     "output_type": "execute_result"
    }
   ],
   "source": [
    "time_open.min()"
   ]
  },
  {
   "cell_type": "code",
   "execution_count": 50,
   "metadata": {
    "collapsed": true
   },
   "outputs": [],
   "source": [
    "data_range = time_open.max() - time_open.min()"
   ]
  },
  {
   "cell_type": "code",
   "execution_count": 51,
   "metadata": {
    "collapsed": false
   },
   "outputs": [
    {
     "data": {
      "text/plain": [
       "time_open   48 days 05:44:00\n",
       "dtype: timedelta64[ns]"
      ]
     },
     "execution_count": 51,
     "metadata": {},
     "output_type": "execute_result"
    }
   ],
   "source": [
    "data_range"
   ]
  },
  {
   "cell_type": "code",
   "execution_count": 52,
   "metadata": {
    "collapsed": false
   },
   "outputs": [
    {
     "data": {
      "text/plain": [
       "array([[<matplotlib.axes._subplots.AxesSubplot object at 0x112e38f60>]], dtype=object)"
      ]
     },
     "execution_count": 52,
     "metadata": {},
     "output_type": "execute_result"
    },
    {
     "data": {
      "image/png": "[encoded data removed]",
      "text/plain": [
       "<matplotlib.figure.Figure at 0x112e44a58>"
      ]
     },
     "metadata": {},
     "output_type": "display_data"
    }
   ],
   "source": [
    "(time_open.astype('timedelta64[m]')).hist(bins=100, figsize=(10,5))"
   ]
  }
 ],
 "metadata": {
  "kernelspec": {
   "display_name": "Python 3",
   "language": "python",
   "name": "python3"
  },
  "language_info": {
   "codemirror_mode": {
    "name": "ipython",
    "version": 3
   },
   "file_extension": ".py",
   "mimetype": "text/x-python",
   "name": "python",
   "nbconvert_exporter": "python",
   "pygments_lexer": "ipython3",
   "version": "3.5.1"
  }
 },
 "nbformat": 4,
 "nbformat_minor": 0
}

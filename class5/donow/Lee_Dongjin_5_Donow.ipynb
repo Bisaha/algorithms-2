{
 "cells": [
  {
   "cell_type": "markdown",
   "metadata": {},
   "source": [
    "Host: training.c1erymiua9dx.us-east-1.rds.amazonaws.com  \n",
    "Port: 5432  \n",
    "Database: training  \n",
    "Username: dot_student  \n",
    "Password: qgis  "
   ]
  },
  {
   "cell_type": "code",
   "execution_count": 1,
   "metadata": {
    "collapsed": true
   },
   "outputs": [],
   "source": [
    "import pandas as pd\n",
    "import numpy as np\n",
    "import matplotlib.pyplot as plt\n",
    "%matplotlib inline\n",
    "plt.style.use('ggplot')\n",
    "import dateutil.parser"
   ]
  },
  {
   "cell_type": "code",
   "execution_count": 2,
   "metadata": {
    "collapsed": false
   },
   "outputs": [],
   "source": [
    "import pg8000\n",
    "conn = pg8000.connect(host='training.c1erymiua9dx.us-east-1.rds.amazonaws.com', database=\"training\", port=5432, user='dot_student', password='qgis')\n",
    "cursor = conn.cursor()"
   ]
  },
  {
   "cell_type": "code",
   "execution_count": null,
   "metadata": {
    "collapsed": true
   },
   "outputs": [],
   "source": [
    "# This can also work\n",
    "# df = pd.read_sql(\"select * from noise_311\", conn)"
   ]
  },
  {
   "cell_type": "code",
   "execution_count": 3,
   "metadata": {
    "collapsed": false
   },
   "outputs": [],
   "source": [
    "statement = \"SELECT unique_key, complaint_type, created_date, closed_date FROM noise_311\"\n",
    "cursor.execute(statement)\n",
    "complaints = []\n",
    "for row in cursor:\n",
    "    complaints.append(row)\n"
   ]
  },
  {
   "cell_type": "code",
   "execution_count": 4,
   "metadata": {
    "collapsed": false
   },
   "outputs": [],
   "source": [
    "import pandas as pd\n",
    "df = pd.DataFrame(complaints)\n",
    "df.columns = ['unique_key', 'complaint', 'created_date', 'closed_date']\n",
    "df_original = df.copy()"
   ]
  },
  {
   "cell_type": "code",
   "execution_count": 5,
   "metadata": {
    "collapsed": false
   },
   "outputs": [
    {
     "data": {
      "text/html": [
       "<div>\n",
       "<table border=\"1\" class=\"dataframe\">\n",
       "  <thead>\n",
       "    <tr style=\"text-align: right;\">\n",
       "      <th></th>\n",
       "      <th>unique_key</th>\n",
       "      <th>complaint</th>\n",
       "      <th>created_date</th>\n",
       "      <th>closed_date</th>\n",
       "    </tr>\n",
       "  </thead>\n",
       "  <tbody>\n",
       "    <tr>\n",
       "      <th>0</th>\n",
       "      <td>28792167</td>\n",
       "      <td>Noise - Street/Sidewalk</td>\n",
       "      <td>2014-08-31 23:59:00</td>\n",
       "      <td>2014-09-01 03:52:00</td>\n",
       "    </tr>\n",
       "    <tr>\n",
       "      <th>1</th>\n",
       "      <td>28789088</td>\n",
       "      <td>Noise - Vehicle</td>\n",
       "      <td>2014-08-31 23:56:00</td>\n",
       "      <td>2014-09-01 06:17:00</td>\n",
       "    </tr>\n",
       "    <tr>\n",
       "      <th>2</th>\n",
       "      <td>28791854</td>\n",
       "      <td>Noise - Commercial</td>\n",
       "      <td>2014-08-31 23:54:00</td>\n",
       "      <td>2014-09-01 01:29:00</td>\n",
       "    </tr>\n",
       "    <tr>\n",
       "      <th>3</th>\n",
       "      <td>28789936</td>\n",
       "      <td>Noise - Street/Sidewalk</td>\n",
       "      <td>2014-08-31 23:52:00</td>\n",
       "      <td>2014-09-01 02:53:00</td>\n",
       "    </tr>\n",
       "    <tr>\n",
       "      <th>4</th>\n",
       "      <td>28789931</td>\n",
       "      <td>Noise - Street/Sidewalk</td>\n",
       "      <td>2014-08-31 23:47:00</td>\n",
       "      <td>2014-09-01 01:06:00</td>\n",
       "    </tr>\n",
       "  </tbody>\n",
       "</table>\n",
       "</div>"
      ],
      "text/plain": [
       "   unique_key                complaint        created_date         closed_date\n",
       "0    28792167  Noise - Street/Sidewalk 2014-08-31 23:59:00 2014-09-01 03:52:00\n",
       "1    28789088          Noise - Vehicle 2014-08-31 23:56:00 2014-09-01 06:17:00\n",
       "2    28791854       Noise - Commercial 2014-08-31 23:54:00 2014-09-01 01:29:00\n",
       "3    28789936  Noise - Street/Sidewalk 2014-08-31 23:52:00 2014-09-01 02:53:00\n",
       "4    28789931  Noise - Street/Sidewalk 2014-08-31 23:47:00 2014-09-01 01:06:00"
      ]
     },
     "execution_count": 5,
     "metadata": {},
     "output_type": "execute_result"
    }
   ],
   "source": [
    "df.head()"
   ]
  },
  {
   "cell_type": "code",
   "execution_count": 6,
   "metadata": {
    "collapsed": false
   },
   "outputs": [
    {
     "data": {
      "text/html": [
       "<div>\n",
       "<table border=\"1\" class=\"dataframe\">\n",
       "  <thead>\n",
       "    <tr style=\"text-align: right;\">\n",
       "      <th></th>\n",
       "      <th>unique_key</th>\n",
       "      <th>complaint</th>\n",
       "      <th>created_date</th>\n",
       "      <th>closed_date</th>\n",
       "      <th>time</th>\n",
       "    </tr>\n",
       "  </thead>\n",
       "  <tbody>\n",
       "    <tr>\n",
       "      <th>0</th>\n",
       "      <td>28792167</td>\n",
       "      <td>Noise - Street/Sidewalk</td>\n",
       "      <td>2014-08-31 23:59:00</td>\n",
       "      <td>2014-09-01 03:52:00</td>\n",
       "      <td>03:53:00</td>\n",
       "    </tr>\n",
       "    <tr>\n",
       "      <th>1</th>\n",
       "      <td>28789088</td>\n",
       "      <td>Noise - Vehicle</td>\n",
       "      <td>2014-08-31 23:56:00</td>\n",
       "      <td>2014-09-01 06:17:00</td>\n",
       "      <td>06:21:00</td>\n",
       "    </tr>\n",
       "    <tr>\n",
       "      <th>2</th>\n",
       "      <td>28791854</td>\n",
       "      <td>Noise - Commercial</td>\n",
       "      <td>2014-08-31 23:54:00</td>\n",
       "      <td>2014-09-01 01:29:00</td>\n",
       "      <td>01:35:00</td>\n",
       "    </tr>\n",
       "  </tbody>\n",
       "</table>\n",
       "</div>"
      ],
      "text/plain": [
       "   unique_key                complaint        created_date  \\\n",
       "0    28792167  Noise - Street/Sidewalk 2014-08-31 23:59:00   \n",
       "1    28789088          Noise - Vehicle 2014-08-31 23:56:00   \n",
       "2    28791854       Noise - Commercial 2014-08-31 23:54:00   \n",
       "\n",
       "          closed_date     time  \n",
       "0 2014-09-01 03:52:00 03:53:00  \n",
       "1 2014-09-01 06:17:00 06:21:00  \n",
       "2 2014-09-01 01:29:00 01:35:00  "
      ]
     },
     "execution_count": 6,
     "metadata": {},
     "output_type": "execute_result"
    }
   ],
   "source": [
    "df['time'] = df['closed_date']-df['created_date']\n",
    "df.head(3)"
   ]
  },
  {
   "cell_type": "code",
   "execution_count": 7,
   "metadata": {
    "collapsed": false
   },
   "outputs": [
    {
     "data": {
      "text/plain": [
       "count                     37615\n",
       "mean     0 days 07:44:22.532500\n",
       "std      1 days 12:06:09.012799\n",
       "min             0 days 00:01:00\n",
       "25%             0 days 00:54:00\n",
       "50%             0 days 02:02:00\n",
       "75%             0 days 04:15:00\n",
       "max            48 days 05:45:00\n",
       "Name: time, dtype: object"
      ]
     },
     "execution_count": 7,
     "metadata": {},
     "output_type": "execute_result"
    }
   ],
   "source": [
    "df['time'].describe()"
   ]
  },
  {
   "cell_type": "markdown",
   "metadata": {},
   "source": [
    "\n",
    "### DOT Summary\n",
    "| Summary        | DOT Values           | NOISE Values |\n",
    "| ------------- |:-------------:|:-------------:|\n",
    "|count|                       4547  |37615\n",
    "|mean  |    8 days 16:15:03.514405  | 0 days 07:44:22.532500 |\n",
    "|std |     15 days 10:48:08.619990  | 1 days 12:06:09.012799 |\n",
    "|min |             0 days 00:00:01  | 0 days 00:01:00 |\n",
    "|25%  |            0 days 12:41:58  | 0 days 00:54:00 |\n",
    "|50% |             1 days 03:33:17  | 0 days 02:02:00 |\n",
    "|75%  |     6 days 00:30:23.500000  | 0 days 04:15:00 |\n",
    "|max |            89 days 18:54:00  |  48 days 05:45:00 |"
   ]
  },
  {
   "cell_type": "code",
   "execution_count": 9,
   "metadata": {
    "collapsed": false
   },
   "outputs": [
    {
     "data": {
      "text/plain": [
       "0 days 00:21:00     222\n",
       "0 days 00:10:00     221\n",
       "0 days 00:36:00     212\n",
       "0 days 00:33:00     211\n",
       "0 days 00:31:00     210\n",
       "0 days 00:27:00     209\n",
       "0 days 00:25:00     207\n",
       "0 days 00:28:00     206\n",
       "0 days 00:23:00     204\n",
       "0 days 00:26:00     202\n",
       "0 days 00:32:00     201\n",
       "0 days 00:30:00     200\n",
       "0 days 00:38:00     199\n",
       "0 days 00:44:00     199\n",
       "0 days 00:42:00     196\n",
       "0 days 00:17:00     196\n",
       "0 days 00:48:00     195\n",
       "0 days 00:34:00     195\n",
       "0 days 00:49:00     195\n",
       "0 days 00:41:00     193\n",
       "0 days 00:22:00     192\n",
       "0 days 00:11:00     190\n",
       "0 days 00:40:00     190\n",
       "0 days 00:24:00     189\n",
       "0 days 00:20:00     188\n",
       "0 days 00:14:00     188\n",
       "0 days 00:53:00     188\n",
       "0 days 00:39:00     187\n",
       "0 days 00:37:00     186\n",
       "0 days 00:50:00     185\n",
       "                   ... \n",
       "1 days 23:59:00       1\n",
       "1 days 18:09:00       1\n",
       "3 days 14:14:00       1\n",
       "2 days 05:15:00       1\n",
       "1 days 04:27:00       1\n",
       "2 days 10:00:00       1\n",
       "3 days 15:18:00       1\n",
       "0 days 13:55:00       1\n",
       "1 days 10:54:00       1\n",
       "0 days 17:36:00       1\n",
       "3 days 18:50:00       1\n",
       "1 days 02:58:00       1\n",
       "1 days 16:36:00       1\n",
       "1 days 13:05:00       1\n",
       "3 days 02:41:00       1\n",
       "3 days 13:59:00       1\n",
       "1 days 22:55:00       1\n",
       "2 days 08:37:00       1\n",
       "2 days 07:23:00       1\n",
       "2 days 15:09:00       1\n",
       "1 days 14:36:00       1\n",
       "3 days 23:44:00       1\n",
       "1 days 00:40:00       1\n",
       "1 days 13:00:00       1\n",
       "2 days 18:18:00       1\n",
       "2 days 10:59:00       1\n",
       "14 days 01:44:00      1\n",
       "2 days 23:03:00       1\n",
       "3 days 21:30:00       1\n",
       "0 days 12:05:00       1\n",
       "Name: time, dtype: int64"
      ]
     },
     "execution_count": 9,
     "metadata": {},
     "output_type": "execute_result"
    }
   ],
   "source": [
    "df['time'].value_counts().sort_values(ascending=False)"
   ]
  },
  {
   "cell_type": "code",
   "execution_count": 10,
   "metadata": {
    "collapsed": false
   },
   "outputs": [
    {
     "name": "stdout",
     "output_type": "stream",
     "text": [
      "<class 'pandas.core.frame.DataFrame'>\n",
      "RangeIndex: 37615 entries, 0 to 37614\n",
      "Data columns (total 5 columns):\n",
      "unique_key      37615 non-null int64\n",
      "complaint       37615 non-null object\n",
      "created_date    37615 non-null datetime64[ns]\n",
      "closed_date     37615 non-null datetime64[ns]\n",
      "time            37615 non-null timedelta64[ns]\n",
      "dtypes: datetime64[ns](2), int64(1), object(1), timedelta64[ns](1)\n",
      "memory usage: 1.4+ MB\n"
     ]
    }
   ],
   "source": [
    "df.info()"
   ]
  },
  {
   "cell_type": "code",
   "execution_count": 12,
   "metadata": {
    "collapsed": false
   },
   "outputs": [
    {
     "data": {
      "text/plain": [
       "0         3.0\n",
       "1         6.0\n",
       "2         1.0\n",
       "3         3.0\n",
       "4         1.0\n",
       "5         3.0\n",
       "6         1.0\n",
       "7         4.0\n",
       "8         4.0\n",
       "9         3.0\n",
       "10        4.0\n",
       "11        2.0\n",
       "12        3.0\n",
       "13        5.0\n",
       "14        3.0\n",
       "15        1.0\n",
       "16        3.0\n",
       "17       13.0\n",
       "18        1.0\n",
       "19        2.0\n",
       "20        5.0\n",
       "21        0.0\n",
       "22        0.0\n",
       "23        2.0\n",
       "24        5.0\n",
       "25        0.0\n",
       "26        2.0\n",
       "27        2.0\n",
       "28        2.0\n",
       "29        5.0\n",
       "         ... \n",
       "37585     3.0\n",
       "37586     4.0\n",
       "37587     1.0\n",
       "37588     4.0\n",
       "37589     0.0\n",
       "37590     6.0\n",
       "37591     1.0\n",
       "37592     0.0\n",
       "37593     4.0\n",
       "37594     0.0\n",
       "37595     0.0\n",
       "37596     1.0\n",
       "37597     1.0\n",
       "37598     1.0\n",
       "37599     2.0\n",
       "37600     2.0\n",
       "37601     3.0\n",
       "37602     2.0\n",
       "37603     0.0\n",
       "37604     1.0\n",
       "37605     1.0\n",
       "37606    14.0\n",
       "37607     3.0\n",
       "37608     1.0\n",
       "37609     1.0\n",
       "37610    10.0\n",
       "37611     2.0\n",
       "37612     4.0\n",
       "37613     2.0\n",
       "37614     7.0\n",
       "Name: time, dtype: float64"
      ]
     },
     "execution_count": 12,
     "metadata": {},
     "output_type": "execute_result"
    }
   ],
   "source": [
    "df['time'].astype('timedelta64[h]')"
   ]
  },
  {
   "cell_type": "code",
   "execution_count": 13,
   "metadata": {
    "collapsed": false
   },
   "outputs": [
    {
     "data": {
      "text/plain": [
       "0    3.883333\n",
       "1    6.350000\n",
       "2    1.583333\n",
       "3    3.016667\n",
       "4    1.316667\n",
       "5    3.100000\n",
       "6    1.066667\n",
       "7    4.300000\n",
       "8    4.800000\n",
       "9    3.416667\n",
       "Name: time, dtype: float64"
      ]
     },
     "execution_count": 13,
     "metadata": {},
     "output_type": "execute_result"
    }
   ],
   "source": [
    "df['time']=(df['time'])/(pd.Timedelta(hours=1))\n",
    "df['time'].head(10)"
   ]
  },
  {
   "cell_type": "code",
   "execution_count": 14,
   "metadata": {
    "collapsed": false
   },
   "outputs": [
    {
     "data": {
      "text/plain": [
       "count    37615.000000\n",
       "mean         7.739592\n",
       "std         36.102504\n",
       "min          0.016667\n",
       "25%          0.900000\n",
       "50%          2.033333\n",
       "75%          4.250000\n",
       "max       1157.750000\n",
       "Name: time, dtype: float64"
      ]
     },
     "execution_count": 14,
     "metadata": {},
     "output_type": "execute_result"
    }
   ],
   "source": [
    "df['time'].describe()"
   ]
  },
  {
   "cell_type": "markdown",
   "metadata": {},
   "source": [
    "DOT FILE\n",
    "count    4547.000000\n",
    "mean      208.250976\n",
    "std       370.802394\n",
    "min         0.000278\n",
    "25%        12.699444\n",
    "50%        27.554722\n",
    "75%       144.506528\n",
    "max      2154.900000\n",
    "Name: time, dtype: float64"
   ]
  },
  {
   "cell_type": "code",
   "execution_count": 18,
   "metadata": {
    "collapsed": false
   },
   "outputs": [
    {
     "data": {
      "text/plain": [
       "<matplotlib.text.Text at 0xac14710>"
      ]
     },
     "execution_count": 18,
     "metadata": {},
     "output_type": "execute_result"
    },
    {
     "data": {
      "image/png": "[encoded data removed]",
      "text/plain": [
       "<matplotlib.figure.Figure at 0xa938f28>"
      ]
     },
     "metadata": {},
     "output_type": "display_data"
    }
   ],
   "source": [
    "df['time'].hist(bins=100)\n",
    "plt.xlabel('Time (hours)')\n",
    "plt.ylabel('# of complaints')"
   ]
  },
  {
   "cell_type": "markdown",
   "metadata": {},
   "source": [
    "#### Additional Analysis "
   ]
  },
  {
   "cell_type": "code",
   "execution_count": null,
   "metadata": {
    "collapsed": false
   },
   "outputs": [],
   "source": [
    "# Frequency Table\n",
    "\n",
    "graph01 = df['complaint'].value_counts().head(3).sort_values(ascending=True).plot(kind='barh')\n",
    "print(\"Top 3 popular type of complaint\\n\")\n",
    "print(df['complaint'].value_counts().head(3).sort_values(ascending=False))\n",
    "graph01"
   ]
  },
  {
   "cell_type": "code",
   "execution_count": null,
   "metadata": {
    "collapsed": false
   },
   "outputs": [],
   "source": [
    "df.index = df['created_date']\n",
    "df.head(2)"
   ]
  },
  {
   "cell_type": "code",
   "execution_count": null,
   "metadata": {
    "collapsed": false
   },
   "outputs": [],
   "source": [
    "df.groupby(df.index.hour).count().plot(y='unique_key',kind='bar')"
   ]
  },
  {
   "cell_type": "code",
   "execution_count": null,
   "metadata": {
    "collapsed": true
   },
   "outputs": [],
   "source": []
  }
 ],
 "metadata": {
  "kernelspec": {
   "display_name": "Python 3",
   "language": "python",
   "name": "python3"
  },
  "language_info": {
   "codemirror_mode": {
    "name": "ipython",
    "version": 3
   },
   "file_extension": ".py",
   "mimetype": "text/x-python",
   "name": "python",
   "nbconvert_exporter": "python",
   "pygments_lexer": "ipython3",
   "version": "3.4.4"
  }
 },
 "nbformat": 4,
 "nbformat_minor": 0
}

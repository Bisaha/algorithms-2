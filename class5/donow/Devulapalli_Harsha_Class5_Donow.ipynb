{
 "cells": [
  {
   "cell_type": "code",
   "execution_count": 1,
   "metadata": {
    "collapsed": true
   },
   "outputs": [],
   "source": [
    "import pg8000\n",
    "from pandas import DataFrame\n",
    "conn = pg8000.connect(host=\"training.c1erymiua9dx.us-east-1.rds.amazonaws.com\",port=5432,database=\"training\",user=\"dot_student\",password=\"qgis\")"
   ]
  },
  {
   "cell_type": "code",
   "execution_count": 3,
   "metadata": {
    "collapsed": true
   },
   "outputs": [],
   "source": [
    "conn.rollback()"
   ]
  },
  {
   "cell_type": "code",
   "execution_count": 4,
   "metadata": {
    "collapsed": true
   },
   "outputs": [],
   "source": [
    "cursor = conn.cursor()"
   ]
  },
  {
   "cell_type": "code",
   "execution_count": 5,
   "metadata": {
    "collapsed": false
   },
   "outputs": [],
   "source": [
    "database=cursor.execute(\"SELECT * FROM noise_311\")\n",
    "import pandas as pd\n",
    "import matplotlib.pyplot as plt\n",
    "%matplotlib inline\n",
    "df = pd.read_sql(\"SELECT * FROM noise_311\", conn)"
   ]
  },
  {
   "cell_type": "code",
   "execution_count": 6,
   "metadata": {
    "collapsed": false
   },
   "outputs": [
    {
     "data": {
      "text/html": [
       "<div>\n",
       "<table border=\"1\" class=\"dataframe\">\n",
       "  <thead>\n",
       "    <tr style=\"text-align: right;\">\n",
       "      <th></th>\n",
       "      <th>b'unique_key'</th>\n",
       "      <th>b'created_date'</th>\n",
       "      <th>b'closed_date'</th>\n",
       "      <th>b'agency'</th>\n",
       "      <th>b'agency_name'</th>\n",
       "      <th>b'complaint_type'</th>\n",
       "      <th>b'descriptor'</th>\n",
       "      <th>b'location_type'</th>\n",
       "      <th>b'incident_zip'</th>\n",
       "      <th>b'incident_address'</th>\n",
       "      <th>...</th>\n",
       "      <th>b'bridge_highway_name'</th>\n",
       "      <th>b'bridge_highway_direction'</th>\n",
       "      <th>b'road_ramp'</th>\n",
       "      <th>b'bridge_highway_segment'</th>\n",
       "      <th>b'garage_lot_name'</th>\n",
       "      <th>b'ferry_direction'</th>\n",
       "      <th>b'ferry_terminal_name'</th>\n",
       "      <th>b'latitude'</th>\n",
       "      <th>b'longitude'</th>\n",
       "      <th>b'location'</th>\n",
       "    </tr>\n",
       "  </thead>\n",
       "  <tbody>\n",
       "    <tr>\n",
       "      <th>0</th>\n",
       "      <td>28792167</td>\n",
       "      <td>2014-08-31 23:59:00</td>\n",
       "      <td>2014-09-01 03:52:00</td>\n",
       "      <td>NYPD</td>\n",
       "      <td>New York City Police Department</td>\n",
       "      <td>Noise - Street/Sidewalk</td>\n",
       "      <td>Loud Music/Party</td>\n",
       "      <td>Street/Sidewalk</td>\n",
       "      <td>11222</td>\n",
       "      <td>200 KINGSLAND AVENUE</td>\n",
       "      <td>...</td>\n",
       "      <td>None</td>\n",
       "      <td>None</td>\n",
       "      <td>None</td>\n",
       "      <td>None</td>\n",
       "      <td>None</td>\n",
       "      <td>None</td>\n",
       "      <td>None</td>\n",
       "      <td>40.723888</td>\n",
       "      <td>-73.941349</td>\n",
       "      <td>(40.723888303549415, -73.94134888943505)</td>\n",
       "    </tr>\n",
       "    <tr>\n",
       "      <th>1</th>\n",
       "      <td>28789088</td>\n",
       "      <td>2014-08-31 23:56:00</td>\n",
       "      <td>2014-09-01 06:17:00</td>\n",
       "      <td>NYPD</td>\n",
       "      <td>New York City Police Department</td>\n",
       "      <td>Noise - Vehicle</td>\n",
       "      <td>Car/Truck Music</td>\n",
       "      <td>Street/Sidewalk</td>\n",
       "      <td>11234</td>\n",
       "      <td>FLATLANDS AVENUE</td>\n",
       "      <td>...</td>\n",
       "      <td>None</td>\n",
       "      <td>None</td>\n",
       "      <td>None</td>\n",
       "      <td>None</td>\n",
       "      <td>None</td>\n",
       "      <td>None</td>\n",
       "      <td>None</td>\n",
       "      <td>40.619489</td>\n",
       "      <td>-73.938051</td>\n",
       "      <td>(40.61948901090983, -73.93805104516916)</td>\n",
       "    </tr>\n",
       "    <tr>\n",
       "      <th>2</th>\n",
       "      <td>28791854</td>\n",
       "      <td>2014-08-31 23:54:00</td>\n",
       "      <td>2014-09-01 01:29:00</td>\n",
       "      <td>NYPD</td>\n",
       "      <td>New York City Police Department</td>\n",
       "      <td>Noise - Commercial</td>\n",
       "      <td>Loud Music/Party</td>\n",
       "      <td>Club/Bar/Restaurant</td>\n",
       "      <td>10002</td>\n",
       "      <td>161 LUDLOW STREET</td>\n",
       "      <td>...</td>\n",
       "      <td>None</td>\n",
       "      <td>None</td>\n",
       "      <td>None</td>\n",
       "      <td>None</td>\n",
       "      <td>None</td>\n",
       "      <td>None</td>\n",
       "      <td>None</td>\n",
       "      <td>40.721410</td>\n",
       "      <td>-73.987694</td>\n",
       "      <td>(40.72141034382407, -73.98769444021134)</td>\n",
       "    </tr>\n",
       "    <tr>\n",
       "      <th>3</th>\n",
       "      <td>28789936</td>\n",
       "      <td>2014-08-31 23:52:00</td>\n",
       "      <td>2014-09-01 02:53:00</td>\n",
       "      <td>NYPD</td>\n",
       "      <td>New York City Police Department</td>\n",
       "      <td>Noise - Street/Sidewalk</td>\n",
       "      <td>Loud Music/Party</td>\n",
       "      <td>Street/Sidewalk</td>\n",
       "      <td>10033</td>\n",
       "      <td>624 WEST 182 STREET</td>\n",
       "      <td>...</td>\n",
       "      <td>None</td>\n",
       "      <td>None</td>\n",
       "      <td>None</td>\n",
       "      <td>None</td>\n",
       "      <td>None</td>\n",
       "      <td>None</td>\n",
       "      <td>None</td>\n",
       "      <td>40.850167</td>\n",
       "      <td>-73.933972</td>\n",
       "      <td>(40.85016671877659, -73.93397220795968)</td>\n",
       "    </tr>\n",
       "    <tr>\n",
       "      <th>4</th>\n",
       "      <td>28789931</td>\n",
       "      <td>2014-08-31 23:47:00</td>\n",
       "      <td>2014-09-01 01:06:00</td>\n",
       "      <td>NYPD</td>\n",
       "      <td>New York City Police Department</td>\n",
       "      <td>Noise - Street/Sidewalk</td>\n",
       "      <td>Loud Music/Party</td>\n",
       "      <td>Street/Sidewalk</td>\n",
       "      <td>11217</td>\n",
       "      <td>525 DEAN STREET</td>\n",
       "      <td>...</td>\n",
       "      <td>None</td>\n",
       "      <td>None</td>\n",
       "      <td>None</td>\n",
       "      <td>None</td>\n",
       "      <td>None</td>\n",
       "      <td>None</td>\n",
       "      <td>None</td>\n",
       "      <td>40.681208</td>\n",
       "      <td>-73.972775</td>\n",
       "      <td>(40.68120794066068, -73.97277535440028)</td>\n",
       "    </tr>\n",
       "  </tbody>\n",
       "</table>\n",
       "<p>5 rows × 53 columns</p>\n",
       "</div>"
      ],
      "text/plain": [
       "   b'unique_key'     b'created_date'      b'closed_date' b'agency'  \\\n",
       "0       28792167 2014-08-31 23:59:00 2014-09-01 03:52:00      NYPD   \n",
       "1       28789088 2014-08-31 23:56:00 2014-09-01 06:17:00      NYPD   \n",
       "2       28791854 2014-08-31 23:54:00 2014-09-01 01:29:00      NYPD   \n",
       "3       28789936 2014-08-31 23:52:00 2014-09-01 02:53:00      NYPD   \n",
       "4       28789931 2014-08-31 23:47:00 2014-09-01 01:06:00      NYPD   \n",
       "\n",
       "                    b'agency_name'        b'complaint_type'     b'descriptor'  \\\n",
       "0  New York City Police Department  Noise - Street/Sidewalk  Loud Music/Party   \n",
       "1  New York City Police Department          Noise - Vehicle   Car/Truck Music   \n",
       "2  New York City Police Department       Noise - Commercial  Loud Music/Party   \n",
       "3  New York City Police Department  Noise - Street/Sidewalk  Loud Music/Party   \n",
       "4  New York City Police Department  Noise - Street/Sidewalk  Loud Music/Party   \n",
       "\n",
       "      b'location_type' b'incident_zip'   b'incident_address'  \\\n",
       "0      Street/Sidewalk           11222  200 KINGSLAND AVENUE   \n",
       "1      Street/Sidewalk           11234      FLATLANDS AVENUE   \n",
       "2  Club/Bar/Restaurant           10002     161 LUDLOW STREET   \n",
       "3      Street/Sidewalk           10033   624 WEST 182 STREET   \n",
       "4      Street/Sidewalk           11217       525 DEAN STREET   \n",
       "\n",
       "                     ...                    b'bridge_highway_name'  \\\n",
       "0                    ...                                      None   \n",
       "1                    ...                                      None   \n",
       "2                    ...                                      None   \n",
       "3                    ...                                      None   \n",
       "4                    ...                                      None   \n",
       "\n",
       "  b'bridge_highway_direction' b'road_ramp' b'bridge_highway_segment'  \\\n",
       "0                        None         None                      None   \n",
       "1                        None         None                      None   \n",
       "2                        None         None                      None   \n",
       "3                        None         None                      None   \n",
       "4                        None         None                      None   \n",
       "\n",
       "  b'garage_lot_name' b'ferry_direction' b'ferry_terminal_name' b'latitude'  \\\n",
       "0               None               None                   None   40.723888   \n",
       "1               None               None                   None   40.619489   \n",
       "2               None               None                   None   40.721410   \n",
       "3               None               None                   None   40.850167   \n",
       "4               None               None                   None   40.681208   \n",
       "\n",
       "  b'longitude'                               b'location'  \n",
       "0   -73.941349  (40.723888303549415, -73.94134888943505)  \n",
       "1   -73.938051   (40.61948901090983, -73.93805104516916)  \n",
       "2   -73.987694   (40.72141034382407, -73.98769444021134)  \n",
       "3   -73.933972   (40.85016671877659, -73.93397220795968)  \n",
       "4   -73.972775   (40.68120794066068, -73.97277535440028)  \n",
       "\n",
       "[5 rows x 53 columns]"
      ]
     },
     "execution_count": 6,
     "metadata": {},
     "output_type": "execute_result"
    }
   ],
   "source": [
    "df.head()"
   ]
  },
  {
   "cell_type": "code",
   "execution_count": 7,
   "metadata": {
    "collapsed": true
   },
   "outputs": [],
   "source": [
    "df=df.rename(columns = lambda x : str(x)[1:])\n",
    "df.columns = [c.replace('\\'', '') for c in df.columns]"
   ]
  },
  {
   "cell_type": "code",
   "execution_count": 9,
   "metadata": {
    "collapsed": false
   },
   "outputs": [],
   "source": [
    "df['duration']=df['closed_date']-df['created_date']"
   ]
  },
  {
   "cell_type": "code",
   "execution_count": 10,
   "metadata": {
    "collapsed": false
   },
   "outputs": [
    {
     "data": {
      "text/plain": [
       "0   03:53:00\n",
       "1   06:21:00\n",
       "2   01:35:00\n",
       "3   03:01:00\n",
       "4   01:19:00\n",
       "Name: duration, dtype: timedelta64[ns]"
      ]
     },
     "execution_count": 10,
     "metadata": {},
     "output_type": "execute_result"
    }
   ],
   "source": [
    "df['duration'].head()"
   ]
  },
  {
   "cell_type": "code",
   "execution_count": 11,
   "metadata": {
    "collapsed": false
   },
   "outputs": [
    {
     "data": {
      "text/plain": [
       "Timedelta('0 days 07:44:22.532500')"
      ]
     },
     "execution_count": 11,
     "metadata": {},
     "output_type": "execute_result"
    }
   ],
   "source": [
    "## AVERAGE TIME TAKEN TO DEAL WITH A COMPLAINT : \n",
    "df['duration'].mean()"
   ]
  },
  {
   "cell_type": "code",
   "execution_count": 12,
   "metadata": {
    "collapsed": false
   },
   "outputs": [
    {
     "data": {
      "text/plain": [
       "Timedelta('48 days 05:45:00')"
      ]
     },
     "execution_count": 12,
     "metadata": {},
     "output_type": "execute_result"
    }
   ],
   "source": [
    "df['duration'].max()"
   ]
  },
  {
   "cell_type": "code",
   "execution_count": 13,
   "metadata": {
    "collapsed": false
   },
   "outputs": [
    {
     "data": {
      "text/plain": [
       "Timedelta('0 days 00:01:00')"
      ]
     },
     "execution_count": 13,
     "metadata": {},
     "output_type": "execute_result"
    }
   ],
   "source": [
    "df['duration'].min()"
   ]
  },
  {
   "cell_type": "code",
   "execution_count": 14,
   "metadata": {
    "collapsed": false
   },
   "outputs": [
    {
     "data": {
      "text/plain": [
       "Timedelta('0 days 02:02:00')"
      ]
     },
     "execution_count": 14,
     "metadata": {},
     "output_type": "execute_result"
    }
   ],
   "source": [
    "df['duration'].median()"
   ]
  },
  {
   "cell_type": "code",
   "execution_count": 15,
   "metadata": {
    "collapsed": false
   },
   "outputs": [
    {
     "data": {
      "text/plain": [
       "0   00:21:00\n",
       "dtype: timedelta64[ns]"
      ]
     },
     "execution_count": 15,
     "metadata": {},
     "output_type": "execute_result"
    }
   ],
   "source": [
    "df['duration'].mode()"
   ]
  },
  {
   "cell_type": "code",
   "execution_count": 17,
   "metadata": {
    "collapsed": false
   },
   "outputs": [
    {
     "data": {
      "text/plain": [
       "Timedelta('48 days 05:44:00')"
      ]
     },
     "execution_count": 17,
     "metadata": {},
     "output_type": "execute_result"
    }
   ],
   "source": [
    "#RANGE OF THE DATA FRAME\n",
    "df['duration'].max()-df['duration'].min()"
   ]
  },
  {
   "cell_type": "code",
   "execution_count": 19,
   "metadata": {
    "collapsed": false
   },
   "outputs": [
    {
     "data": {
      "text/plain": [
       "Timedelta('0 days 00:54:00')"
      ]
     },
     "execution_count": 19,
     "metadata": {},
     "output_type": "execute_result"
    }
   ],
   "source": [
    "#QUARTILES OF THE DATA\n",
    "df['duration'].quantile(q=0.25) "
   ]
  },
  {
   "cell_type": "code",
   "execution_count": 20,
   "metadata": {
    "collapsed": false
   },
   "outputs": [
    {
     "data": {
      "text/plain": [
       "Timedelta('0 days 02:02:00')"
      ]
     },
     "execution_count": 20,
     "metadata": {},
     "output_type": "execute_result"
    }
   ],
   "source": [
    "df['duration'].quantile(q=0.50) "
   ]
  },
  {
   "cell_type": "code",
   "execution_count": 21,
   "metadata": {
    "collapsed": false
   },
   "outputs": [
    {
     "data": {
      "text/plain": [
       "Timedelta('0 days 04:15:00')"
      ]
     },
     "execution_count": 21,
     "metadata": {},
     "output_type": "execute_result"
    }
   ],
   "source": [
    "df['duration'].quantile(q=0.75) "
   ]
  },
  {
   "cell_type": "code",
   "execution_count": 22,
   "metadata": {
    "collapsed": false
   },
   "outputs": [
    {
     "data": {
      "text/plain": [
       "Timedelta('0 days 03:21:00')"
      ]
     },
     "execution_count": 22,
     "metadata": {},
     "output_type": "execute_result"
    }
   ],
   "source": [
    "#THE INTER QUARTILE RANGE\n",
    "df['duration'].quantile(q=0.75) - df['duration'].quantile(q=0.25)"
   ]
  },
  {
   "cell_type": "code",
   "execution_count": 24,
   "metadata": {
    "collapsed": false
   },
   "outputs": [
    {
     "data": {
      "text/plain": [
       "Timedelta('0 days 05:01:30')"
      ]
     },
     "execution_count": 24,
     "metadata": {},
     "output_type": "execute_result"
    }
   ],
   "source": [
    "#Calculating the Range of the Outliers\n",
    "1.5 * (df['duration'].quantile(q=0.75) - df['duration'].quantile(q=0.25))"
   ]
  },
  {
   "cell_type": "code",
   "execution_count": 25,
   "metadata": {
    "collapsed": false
   },
   "outputs": [
    {
     "data": {
      "text/plain": [
       "Timedelta('1 days 12:06:09.012799')"
      ]
     },
     "execution_count": 25,
     "metadata": {},
     "output_type": "execute_result"
    }
   ],
   "source": [
    "#Standard Deviation\n",
    "df['duration'].std()"
   ]
  },
  {
   "cell_type": "code",
   "execution_count": null,
   "metadata": {
    "collapsed": true
   },
   "outputs": [],
   "source": []
  }
 ],
 "metadata": {
  "kernelspec": {
   "display_name": "Python 3",
   "language": "python",
   "name": "python3"
  },
  "language_info": {
   "codemirror_mode": {
    "name": "ipython",
    "version": 3
   },
   "file_extension": ".py",
   "mimetype": "text/x-python",
   "name": "python",
   "nbconvert_exporter": "python",
   "pygments_lexer": "ipython3",
   "version": "3.5.1"
  }
 },
 "nbformat": 4,
 "nbformat_minor": 0
}
